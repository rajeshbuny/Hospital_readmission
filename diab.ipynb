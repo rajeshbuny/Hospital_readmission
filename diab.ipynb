{
  "nbformat": 4,
  "nbformat_minor": 0,
  "metadata": {
    "colab": {
      "name": "diab.ipynb",
      "version": "0.3.2",
      "provenance": []
    },
    "kernelspec": {
      "name": "python3",
      "display_name": "Python 3"
    }
  },
  "cells": [
    {
      "cell_type": "markdown",
      "metadata": {
        "id": "45eALWx2R294",
        "colab_type": "text"
      },
      "source": [
        "## Loading data"
      ]
    },
    {
      "cell_type": "code",
      "metadata": {
        "id": "7TnN_ExMqXqZ",
        "colab_type": "code",
        "outputId": "a21f8bcd-b9f0-455f-a3f7-c9d094d7d6d6",
        "colab": {
          "base_uri": "https://localhost:8080/",
          "height": 139
        }
      },
      "source": [
        "from google.colab import drive\n",
        "drive.mount('/gdrive')\n",
        "%cd /gdrive"
      ],
      "execution_count": 4,
      "outputs": [
        {
          "output_type": "stream",
          "text": [
            "Go to this URL in a browser: https://accounts.google.com/o/oauth2/auth?client_id=947318989803-6bn6qk8qdgf4n4g3pfee6491hc0brc4i.apps.googleusercontent.com&redirect_uri=urn%3Aietf%3Awg%3Aoauth%3A2.0%3Aoob&scope=email%20https%3A%2F%2Fwww.googleapis.com%2Fauth%2Fdocs.test%20https%3A%2F%2Fwww.googleapis.com%2Fauth%2Fdrive%20https%3A%2F%2Fwww.googleapis.com%2Fauth%2Fdrive.photos.readonly%20https%3A%2F%2Fwww.googleapis.com%2Fauth%2Fpeopleapi.readonly&response_type=code\n",
            "\n",
            "Enter your authorization code:\n",
            "··········\n",
            "Mounted at /gdrive\n",
            "/gdrive\n"
          ],
          "name": "stdout"
        }
      ]
    },
    {
      "cell_type": "code",
      "metadata": {
        "id": "l8QpRMuisO20",
        "colab_type": "code",
        "colab": {}
      },
      "source": [
        "import pandas as pd\n",
        "import numpy as np\n",
        "\n",
        "from matplotlib import pyplot as plt\n",
        "import seaborn as sns"
      ],
      "execution_count": 0,
      "outputs": []
    },
    {
      "cell_type": "code",
      "metadata": {
        "id": "9wEDeOO1szOT",
        "colab_type": "code",
        "colab": {}
      },
      "source": [
        "df = pd.read_csv('/gdrive/My Drive/diabetic_data.csv')"
      ],
      "execution_count": 0,
      "outputs": []
    },
    {
      "cell_type": "code",
      "metadata": {
        "id": "Wup8wCBdugHM",
        "colab_type": "code",
        "outputId": "eaefbedb-f58f-4f0a-8214-1310159c4e01",
        "colab": {
          "base_uri": "https://localhost:8080/",
          "height": 51
        }
      },
      "source": [
        "print(df.ndim)\n",
        "print(df.shape)"
      ],
      "execution_count": 7,
      "outputs": [
        {
          "output_type": "stream",
          "text": [
            "2\n",
            "(101766, 50)\n"
          ],
          "name": "stdout"
        }
      ]
    },
    {
      "cell_type": "code",
      "metadata": {
        "id": "XAxQpFHDtqRy",
        "colab_type": "code",
        "outputId": "dcd9daed-f53d-4d1b-9971-1ebdb6dd9da0",
        "colab": {
          "base_uri": "https://localhost:8080/",
          "height": 806
        }
      },
      "source": [
        "df.head(15)"
      ],
      "execution_count": 8,
      "outputs": [
        {
          "output_type": "execute_result",
          "data": {
            "text/html": [
              "<div>\n",
              "<style scoped>\n",
              "    .dataframe tbody tr th:only-of-type {\n",
              "        vertical-align: middle;\n",
              "    }\n",
              "\n",
              "    .dataframe tbody tr th {\n",
              "        vertical-align: top;\n",
              "    }\n",
              "\n",
              "    .dataframe thead th {\n",
              "        text-align: right;\n",
              "    }\n",
              "</style>\n",
              "<table border=\"1\" class=\"dataframe\">\n",
              "  <thead>\n",
              "    <tr style=\"text-align: right;\">\n",
              "      <th></th>\n",
              "      <th>encounter_id</th>\n",
              "      <th>patient_nbr</th>\n",
              "      <th>race</th>\n",
              "      <th>gender</th>\n",
              "      <th>age</th>\n",
              "      <th>weight</th>\n",
              "      <th>admission_type_id</th>\n",
              "      <th>discharge_disposition_id</th>\n",
              "      <th>admission_source_id</th>\n",
              "      <th>time_in_hospital</th>\n",
              "      <th>payer_code</th>\n",
              "      <th>medical_specialty</th>\n",
              "      <th>num_lab_procedures</th>\n",
              "      <th>num_procedures</th>\n",
              "      <th>num_medications</th>\n",
              "      <th>number_outpatient</th>\n",
              "      <th>number_emergency</th>\n",
              "      <th>number_inpatient</th>\n",
              "      <th>diag_1</th>\n",
              "      <th>diag_2</th>\n",
              "      <th>diag_3</th>\n",
              "      <th>number_diagnoses</th>\n",
              "      <th>max_glu_serum</th>\n",
              "      <th>A1Cresult</th>\n",
              "      <th>metformin</th>\n",
              "      <th>repaglinide</th>\n",
              "      <th>nateglinide</th>\n",
              "      <th>chlorpropamide</th>\n",
              "      <th>glimepiride</th>\n",
              "      <th>acetohexamide</th>\n",
              "      <th>glipizide</th>\n",
              "      <th>glyburide</th>\n",
              "      <th>tolbutamide</th>\n",
              "      <th>pioglitazone</th>\n",
              "      <th>rosiglitazone</th>\n",
              "      <th>acarbose</th>\n",
              "      <th>miglitol</th>\n",
              "      <th>troglitazone</th>\n",
              "      <th>tolazamide</th>\n",
              "      <th>examide</th>\n",
              "      <th>citoglipton</th>\n",
              "      <th>insulin</th>\n",
              "      <th>glyburide-metformin</th>\n",
              "      <th>glipizide-metformin</th>\n",
              "      <th>glimepiride-pioglitazone</th>\n",
              "      <th>metformin-rosiglitazone</th>\n",
              "      <th>metformin-pioglitazone</th>\n",
              "      <th>change</th>\n",
              "      <th>diabetesMed</th>\n",
              "      <th>readmitted</th>\n",
              "    </tr>\n",
              "  </thead>\n",
              "  <tbody>\n",
              "    <tr>\n",
              "      <th>0</th>\n",
              "      <td>2278392</td>\n",
              "      <td>8222157</td>\n",
              "      <td>Caucasian</td>\n",
              "      <td>Female</td>\n",
              "      <td>[0-10)</td>\n",
              "      <td>?</td>\n",
              "      <td>6</td>\n",
              "      <td>25</td>\n",
              "      <td>1</td>\n",
              "      <td>1</td>\n",
              "      <td>?</td>\n",
              "      <td>Pediatrics-Endocrinology</td>\n",
              "      <td>41</td>\n",
              "      <td>0</td>\n",
              "      <td>1</td>\n",
              "      <td>0</td>\n",
              "      <td>0</td>\n",
              "      <td>0</td>\n",
              "      <td>250.83</td>\n",
              "      <td>?</td>\n",
              "      <td>?</td>\n",
              "      <td>1</td>\n",
              "      <td>None</td>\n",
              "      <td>None</td>\n",
              "      <td>No</td>\n",
              "      <td>No</td>\n",
              "      <td>No</td>\n",
              "      <td>No</td>\n",
              "      <td>No</td>\n",
              "      <td>No</td>\n",
              "      <td>No</td>\n",
              "      <td>No</td>\n",
              "      <td>No</td>\n",
              "      <td>No</td>\n",
              "      <td>No</td>\n",
              "      <td>No</td>\n",
              "      <td>No</td>\n",
              "      <td>No</td>\n",
              "      <td>No</td>\n",
              "      <td>No</td>\n",
              "      <td>No</td>\n",
              "      <td>No</td>\n",
              "      <td>No</td>\n",
              "      <td>No</td>\n",
              "      <td>No</td>\n",
              "      <td>No</td>\n",
              "      <td>No</td>\n",
              "      <td>No</td>\n",
              "      <td>No</td>\n",
              "      <td>NO</td>\n",
              "    </tr>\n",
              "    <tr>\n",
              "      <th>1</th>\n",
              "      <td>149190</td>\n",
              "      <td>55629189</td>\n",
              "      <td>Caucasian</td>\n",
              "      <td>Female</td>\n",
              "      <td>[10-20)</td>\n",
              "      <td>?</td>\n",
              "      <td>1</td>\n",
              "      <td>1</td>\n",
              "      <td>7</td>\n",
              "      <td>3</td>\n",
              "      <td>?</td>\n",
              "      <td>?</td>\n",
              "      <td>59</td>\n",
              "      <td>0</td>\n",
              "      <td>18</td>\n",
              "      <td>0</td>\n",
              "      <td>0</td>\n",
              "      <td>0</td>\n",
              "      <td>276</td>\n",
              "      <td>250.01</td>\n",
              "      <td>255</td>\n",
              "      <td>9</td>\n",
              "      <td>None</td>\n",
              "      <td>None</td>\n",
              "      <td>No</td>\n",
              "      <td>No</td>\n",
              "      <td>No</td>\n",
              "      <td>No</td>\n",
              "      <td>No</td>\n",
              "      <td>No</td>\n",
              "      <td>No</td>\n",
              "      <td>No</td>\n",
              "      <td>No</td>\n",
              "      <td>No</td>\n",
              "      <td>No</td>\n",
              "      <td>No</td>\n",
              "      <td>No</td>\n",
              "      <td>No</td>\n",
              "      <td>No</td>\n",
              "      <td>No</td>\n",
              "      <td>No</td>\n",
              "      <td>Up</td>\n",
              "      <td>No</td>\n",
              "      <td>No</td>\n",
              "      <td>No</td>\n",
              "      <td>No</td>\n",
              "      <td>No</td>\n",
              "      <td>Ch</td>\n",
              "      <td>Yes</td>\n",
              "      <td>&gt;30</td>\n",
              "    </tr>\n",
              "    <tr>\n",
              "      <th>2</th>\n",
              "      <td>64410</td>\n",
              "      <td>86047875</td>\n",
              "      <td>AfricanAmerican</td>\n",
              "      <td>Female</td>\n",
              "      <td>[20-30)</td>\n",
              "      <td>?</td>\n",
              "      <td>1</td>\n",
              "      <td>1</td>\n",
              "      <td>7</td>\n",
              "      <td>2</td>\n",
              "      <td>?</td>\n",
              "      <td>?</td>\n",
              "      <td>11</td>\n",
              "      <td>5</td>\n",
              "      <td>13</td>\n",
              "      <td>2</td>\n",
              "      <td>0</td>\n",
              "      <td>1</td>\n",
              "      <td>648</td>\n",
              "      <td>250</td>\n",
              "      <td>V27</td>\n",
              "      <td>6</td>\n",
              "      <td>None</td>\n",
              "      <td>None</td>\n",
              "      <td>No</td>\n",
              "      <td>No</td>\n",
              "      <td>No</td>\n",
              "      <td>No</td>\n",
              "      <td>No</td>\n",
              "      <td>No</td>\n",
              "      <td>Steady</td>\n",
              "      <td>No</td>\n",
              "      <td>No</td>\n",
              "      <td>No</td>\n",
              "      <td>No</td>\n",
              "      <td>No</td>\n",
              "      <td>No</td>\n",
              "      <td>No</td>\n",
              "      <td>No</td>\n",
              "      <td>No</td>\n",
              "      <td>No</td>\n",
              "      <td>No</td>\n",
              "      <td>No</td>\n",
              "      <td>No</td>\n",
              "      <td>No</td>\n",
              "      <td>No</td>\n",
              "      <td>No</td>\n",
              "      <td>No</td>\n",
              "      <td>Yes</td>\n",
              "      <td>NO</td>\n",
              "    </tr>\n",
              "    <tr>\n",
              "      <th>3</th>\n",
              "      <td>500364</td>\n",
              "      <td>82442376</td>\n",
              "      <td>Caucasian</td>\n",
              "      <td>Male</td>\n",
              "      <td>[30-40)</td>\n",
              "      <td>?</td>\n",
              "      <td>1</td>\n",
              "      <td>1</td>\n",
              "      <td>7</td>\n",
              "      <td>2</td>\n",
              "      <td>?</td>\n",
              "      <td>?</td>\n",
              "      <td>44</td>\n",
              "      <td>1</td>\n",
              "      <td>16</td>\n",
              "      <td>0</td>\n",
              "      <td>0</td>\n",
              "      <td>0</td>\n",
              "      <td>8</td>\n",
              "      <td>250.43</td>\n",
              "      <td>403</td>\n",
              "      <td>7</td>\n",
              "      <td>None</td>\n",
              "      <td>None</td>\n",
              "      <td>No</td>\n",
              "      <td>No</td>\n",
              "      <td>No</td>\n",
              "      <td>No</td>\n",
              "      <td>No</td>\n",
              "      <td>No</td>\n",
              "      <td>No</td>\n",
              "      <td>No</td>\n",
              "      <td>No</td>\n",
              "      <td>No</td>\n",
              "      <td>No</td>\n",
              "      <td>No</td>\n",
              "      <td>No</td>\n",
              "      <td>No</td>\n",
              "      <td>No</td>\n",
              "      <td>No</td>\n",
              "      <td>No</td>\n",
              "      <td>Up</td>\n",
              "      <td>No</td>\n",
              "      <td>No</td>\n",
              "      <td>No</td>\n",
              "      <td>No</td>\n",
              "      <td>No</td>\n",
              "      <td>Ch</td>\n",
              "      <td>Yes</td>\n",
              "      <td>NO</td>\n",
              "    </tr>\n",
              "    <tr>\n",
              "      <th>4</th>\n",
              "      <td>16680</td>\n",
              "      <td>42519267</td>\n",
              "      <td>Caucasian</td>\n",
              "      <td>Male</td>\n",
              "      <td>[40-50)</td>\n",
              "      <td>?</td>\n",
              "      <td>1</td>\n",
              "      <td>1</td>\n",
              "      <td>7</td>\n",
              "      <td>1</td>\n",
              "      <td>?</td>\n",
              "      <td>?</td>\n",
              "      <td>51</td>\n",
              "      <td>0</td>\n",
              "      <td>8</td>\n",
              "      <td>0</td>\n",
              "      <td>0</td>\n",
              "      <td>0</td>\n",
              "      <td>197</td>\n",
              "      <td>157</td>\n",
              "      <td>250</td>\n",
              "      <td>5</td>\n",
              "      <td>None</td>\n",
              "      <td>None</td>\n",
              "      <td>No</td>\n",
              "      <td>No</td>\n",
              "      <td>No</td>\n",
              "      <td>No</td>\n",
              "      <td>No</td>\n",
              "      <td>No</td>\n",
              "      <td>Steady</td>\n",
              "      <td>No</td>\n",
              "      <td>No</td>\n",
              "      <td>No</td>\n",
              "      <td>No</td>\n",
              "      <td>No</td>\n",
              "      <td>No</td>\n",
              "      <td>No</td>\n",
              "      <td>No</td>\n",
              "      <td>No</td>\n",
              "      <td>No</td>\n",
              "      <td>Steady</td>\n",
              "      <td>No</td>\n",
              "      <td>No</td>\n",
              "      <td>No</td>\n",
              "      <td>No</td>\n",
              "      <td>No</td>\n",
              "      <td>Ch</td>\n",
              "      <td>Yes</td>\n",
              "      <td>NO</td>\n",
              "    </tr>\n",
              "    <tr>\n",
              "      <th>5</th>\n",
              "      <td>35754</td>\n",
              "      <td>82637451</td>\n",
              "      <td>Caucasian</td>\n",
              "      <td>Male</td>\n",
              "      <td>[50-60)</td>\n",
              "      <td>?</td>\n",
              "      <td>2</td>\n",
              "      <td>1</td>\n",
              "      <td>2</td>\n",
              "      <td>3</td>\n",
              "      <td>?</td>\n",
              "      <td>?</td>\n",
              "      <td>31</td>\n",
              "      <td>6</td>\n",
              "      <td>16</td>\n",
              "      <td>0</td>\n",
              "      <td>0</td>\n",
              "      <td>0</td>\n",
              "      <td>414</td>\n",
              "      <td>411</td>\n",
              "      <td>250</td>\n",
              "      <td>9</td>\n",
              "      <td>None</td>\n",
              "      <td>None</td>\n",
              "      <td>No</td>\n",
              "      <td>No</td>\n",
              "      <td>No</td>\n",
              "      <td>No</td>\n",
              "      <td>No</td>\n",
              "      <td>No</td>\n",
              "      <td>No</td>\n",
              "      <td>No</td>\n",
              "      <td>No</td>\n",
              "      <td>No</td>\n",
              "      <td>No</td>\n",
              "      <td>No</td>\n",
              "      <td>No</td>\n",
              "      <td>No</td>\n",
              "      <td>No</td>\n",
              "      <td>No</td>\n",
              "      <td>No</td>\n",
              "      <td>Steady</td>\n",
              "      <td>No</td>\n",
              "      <td>No</td>\n",
              "      <td>No</td>\n",
              "      <td>No</td>\n",
              "      <td>No</td>\n",
              "      <td>No</td>\n",
              "      <td>Yes</td>\n",
              "      <td>&gt;30</td>\n",
              "    </tr>\n",
              "    <tr>\n",
              "      <th>6</th>\n",
              "      <td>55842</td>\n",
              "      <td>84259809</td>\n",
              "      <td>Caucasian</td>\n",
              "      <td>Male</td>\n",
              "      <td>[60-70)</td>\n",
              "      <td>?</td>\n",
              "      <td>3</td>\n",
              "      <td>1</td>\n",
              "      <td>2</td>\n",
              "      <td>4</td>\n",
              "      <td>?</td>\n",
              "      <td>?</td>\n",
              "      <td>70</td>\n",
              "      <td>1</td>\n",
              "      <td>21</td>\n",
              "      <td>0</td>\n",
              "      <td>0</td>\n",
              "      <td>0</td>\n",
              "      <td>414</td>\n",
              "      <td>411</td>\n",
              "      <td>V45</td>\n",
              "      <td>7</td>\n",
              "      <td>None</td>\n",
              "      <td>None</td>\n",
              "      <td>Steady</td>\n",
              "      <td>No</td>\n",
              "      <td>No</td>\n",
              "      <td>No</td>\n",
              "      <td>Steady</td>\n",
              "      <td>No</td>\n",
              "      <td>No</td>\n",
              "      <td>No</td>\n",
              "      <td>No</td>\n",
              "      <td>No</td>\n",
              "      <td>No</td>\n",
              "      <td>No</td>\n",
              "      <td>No</td>\n",
              "      <td>No</td>\n",
              "      <td>No</td>\n",
              "      <td>No</td>\n",
              "      <td>No</td>\n",
              "      <td>Steady</td>\n",
              "      <td>No</td>\n",
              "      <td>No</td>\n",
              "      <td>No</td>\n",
              "      <td>No</td>\n",
              "      <td>No</td>\n",
              "      <td>Ch</td>\n",
              "      <td>Yes</td>\n",
              "      <td>NO</td>\n",
              "    </tr>\n",
              "    <tr>\n",
              "      <th>7</th>\n",
              "      <td>63768</td>\n",
              "      <td>114882984</td>\n",
              "      <td>Caucasian</td>\n",
              "      <td>Male</td>\n",
              "      <td>[70-80)</td>\n",
              "      <td>?</td>\n",
              "      <td>1</td>\n",
              "      <td>1</td>\n",
              "      <td>7</td>\n",
              "      <td>5</td>\n",
              "      <td>?</td>\n",
              "      <td>?</td>\n",
              "      <td>73</td>\n",
              "      <td>0</td>\n",
              "      <td>12</td>\n",
              "      <td>0</td>\n",
              "      <td>0</td>\n",
              "      <td>0</td>\n",
              "      <td>428</td>\n",
              "      <td>492</td>\n",
              "      <td>250</td>\n",
              "      <td>8</td>\n",
              "      <td>None</td>\n",
              "      <td>None</td>\n",
              "      <td>No</td>\n",
              "      <td>No</td>\n",
              "      <td>No</td>\n",
              "      <td>No</td>\n",
              "      <td>No</td>\n",
              "      <td>No</td>\n",
              "      <td>No</td>\n",
              "      <td>Steady</td>\n",
              "      <td>No</td>\n",
              "      <td>No</td>\n",
              "      <td>No</td>\n",
              "      <td>No</td>\n",
              "      <td>No</td>\n",
              "      <td>No</td>\n",
              "      <td>No</td>\n",
              "      <td>No</td>\n",
              "      <td>No</td>\n",
              "      <td>No</td>\n",
              "      <td>No</td>\n",
              "      <td>No</td>\n",
              "      <td>No</td>\n",
              "      <td>No</td>\n",
              "      <td>No</td>\n",
              "      <td>No</td>\n",
              "      <td>Yes</td>\n",
              "      <td>&gt;30</td>\n",
              "    </tr>\n",
              "    <tr>\n",
              "      <th>8</th>\n",
              "      <td>12522</td>\n",
              "      <td>48330783</td>\n",
              "      <td>Caucasian</td>\n",
              "      <td>Female</td>\n",
              "      <td>[80-90)</td>\n",
              "      <td>?</td>\n",
              "      <td>2</td>\n",
              "      <td>1</td>\n",
              "      <td>4</td>\n",
              "      <td>13</td>\n",
              "      <td>?</td>\n",
              "      <td>?</td>\n",
              "      <td>68</td>\n",
              "      <td>2</td>\n",
              "      <td>28</td>\n",
              "      <td>0</td>\n",
              "      <td>0</td>\n",
              "      <td>0</td>\n",
              "      <td>398</td>\n",
              "      <td>427</td>\n",
              "      <td>38</td>\n",
              "      <td>8</td>\n",
              "      <td>None</td>\n",
              "      <td>None</td>\n",
              "      <td>No</td>\n",
              "      <td>No</td>\n",
              "      <td>No</td>\n",
              "      <td>No</td>\n",
              "      <td>No</td>\n",
              "      <td>No</td>\n",
              "      <td>Steady</td>\n",
              "      <td>No</td>\n",
              "      <td>No</td>\n",
              "      <td>No</td>\n",
              "      <td>No</td>\n",
              "      <td>No</td>\n",
              "      <td>No</td>\n",
              "      <td>No</td>\n",
              "      <td>No</td>\n",
              "      <td>No</td>\n",
              "      <td>No</td>\n",
              "      <td>Steady</td>\n",
              "      <td>No</td>\n",
              "      <td>No</td>\n",
              "      <td>No</td>\n",
              "      <td>No</td>\n",
              "      <td>No</td>\n",
              "      <td>Ch</td>\n",
              "      <td>Yes</td>\n",
              "      <td>NO</td>\n",
              "    </tr>\n",
              "    <tr>\n",
              "      <th>9</th>\n",
              "      <td>15738</td>\n",
              "      <td>63555939</td>\n",
              "      <td>Caucasian</td>\n",
              "      <td>Female</td>\n",
              "      <td>[90-100)</td>\n",
              "      <td>?</td>\n",
              "      <td>3</td>\n",
              "      <td>3</td>\n",
              "      <td>4</td>\n",
              "      <td>12</td>\n",
              "      <td>?</td>\n",
              "      <td>InternalMedicine</td>\n",
              "      <td>33</td>\n",
              "      <td>3</td>\n",
              "      <td>18</td>\n",
              "      <td>0</td>\n",
              "      <td>0</td>\n",
              "      <td>0</td>\n",
              "      <td>434</td>\n",
              "      <td>198</td>\n",
              "      <td>486</td>\n",
              "      <td>8</td>\n",
              "      <td>None</td>\n",
              "      <td>None</td>\n",
              "      <td>No</td>\n",
              "      <td>No</td>\n",
              "      <td>No</td>\n",
              "      <td>No</td>\n",
              "      <td>No</td>\n",
              "      <td>No</td>\n",
              "      <td>No</td>\n",
              "      <td>No</td>\n",
              "      <td>No</td>\n",
              "      <td>No</td>\n",
              "      <td>Steady</td>\n",
              "      <td>No</td>\n",
              "      <td>No</td>\n",
              "      <td>No</td>\n",
              "      <td>No</td>\n",
              "      <td>No</td>\n",
              "      <td>No</td>\n",
              "      <td>Steady</td>\n",
              "      <td>No</td>\n",
              "      <td>No</td>\n",
              "      <td>No</td>\n",
              "      <td>No</td>\n",
              "      <td>No</td>\n",
              "      <td>Ch</td>\n",
              "      <td>Yes</td>\n",
              "      <td>NO</td>\n",
              "    </tr>\n",
              "    <tr>\n",
              "      <th>10</th>\n",
              "      <td>28236</td>\n",
              "      <td>89869032</td>\n",
              "      <td>AfricanAmerican</td>\n",
              "      <td>Female</td>\n",
              "      <td>[40-50)</td>\n",
              "      <td>?</td>\n",
              "      <td>1</td>\n",
              "      <td>1</td>\n",
              "      <td>7</td>\n",
              "      <td>9</td>\n",
              "      <td>?</td>\n",
              "      <td>?</td>\n",
              "      <td>47</td>\n",
              "      <td>2</td>\n",
              "      <td>17</td>\n",
              "      <td>0</td>\n",
              "      <td>0</td>\n",
              "      <td>0</td>\n",
              "      <td>250.7</td>\n",
              "      <td>403</td>\n",
              "      <td>996</td>\n",
              "      <td>9</td>\n",
              "      <td>None</td>\n",
              "      <td>None</td>\n",
              "      <td>No</td>\n",
              "      <td>No</td>\n",
              "      <td>No</td>\n",
              "      <td>No</td>\n",
              "      <td>No</td>\n",
              "      <td>No</td>\n",
              "      <td>No</td>\n",
              "      <td>No</td>\n",
              "      <td>No</td>\n",
              "      <td>No</td>\n",
              "      <td>No</td>\n",
              "      <td>No</td>\n",
              "      <td>No</td>\n",
              "      <td>No</td>\n",
              "      <td>No</td>\n",
              "      <td>No</td>\n",
              "      <td>No</td>\n",
              "      <td>Steady</td>\n",
              "      <td>No</td>\n",
              "      <td>No</td>\n",
              "      <td>No</td>\n",
              "      <td>No</td>\n",
              "      <td>No</td>\n",
              "      <td>No</td>\n",
              "      <td>Yes</td>\n",
              "      <td>&gt;30</td>\n",
              "    </tr>\n",
              "    <tr>\n",
              "      <th>11</th>\n",
              "      <td>36900</td>\n",
              "      <td>77391171</td>\n",
              "      <td>AfricanAmerican</td>\n",
              "      <td>Male</td>\n",
              "      <td>[60-70)</td>\n",
              "      <td>?</td>\n",
              "      <td>2</td>\n",
              "      <td>1</td>\n",
              "      <td>4</td>\n",
              "      <td>7</td>\n",
              "      <td>?</td>\n",
              "      <td>?</td>\n",
              "      <td>62</td>\n",
              "      <td>0</td>\n",
              "      <td>11</td>\n",
              "      <td>0</td>\n",
              "      <td>0</td>\n",
              "      <td>0</td>\n",
              "      <td>157</td>\n",
              "      <td>288</td>\n",
              "      <td>197</td>\n",
              "      <td>7</td>\n",
              "      <td>None</td>\n",
              "      <td>None</td>\n",
              "      <td>No</td>\n",
              "      <td>No</td>\n",
              "      <td>No</td>\n",
              "      <td>No</td>\n",
              "      <td>No</td>\n",
              "      <td>No</td>\n",
              "      <td>No</td>\n",
              "      <td>Up</td>\n",
              "      <td>No</td>\n",
              "      <td>No</td>\n",
              "      <td>No</td>\n",
              "      <td>No</td>\n",
              "      <td>No</td>\n",
              "      <td>No</td>\n",
              "      <td>No</td>\n",
              "      <td>No</td>\n",
              "      <td>No</td>\n",
              "      <td>Steady</td>\n",
              "      <td>No</td>\n",
              "      <td>No</td>\n",
              "      <td>No</td>\n",
              "      <td>No</td>\n",
              "      <td>No</td>\n",
              "      <td>Ch</td>\n",
              "      <td>Yes</td>\n",
              "      <td>&lt;30</td>\n",
              "    </tr>\n",
              "    <tr>\n",
              "      <th>12</th>\n",
              "      <td>40926</td>\n",
              "      <td>85504905</td>\n",
              "      <td>Caucasian</td>\n",
              "      <td>Female</td>\n",
              "      <td>[40-50)</td>\n",
              "      <td>?</td>\n",
              "      <td>1</td>\n",
              "      <td>3</td>\n",
              "      <td>7</td>\n",
              "      <td>7</td>\n",
              "      <td>?</td>\n",
              "      <td>Family/GeneralPractice</td>\n",
              "      <td>60</td>\n",
              "      <td>0</td>\n",
              "      <td>15</td>\n",
              "      <td>0</td>\n",
              "      <td>1</td>\n",
              "      <td>0</td>\n",
              "      <td>428</td>\n",
              "      <td>250.43</td>\n",
              "      <td>250.6</td>\n",
              "      <td>8</td>\n",
              "      <td>None</td>\n",
              "      <td>None</td>\n",
              "      <td>Steady</td>\n",
              "      <td>Up</td>\n",
              "      <td>No</td>\n",
              "      <td>No</td>\n",
              "      <td>No</td>\n",
              "      <td>No</td>\n",
              "      <td>No</td>\n",
              "      <td>No</td>\n",
              "      <td>No</td>\n",
              "      <td>No</td>\n",
              "      <td>No</td>\n",
              "      <td>No</td>\n",
              "      <td>No</td>\n",
              "      <td>No</td>\n",
              "      <td>No</td>\n",
              "      <td>No</td>\n",
              "      <td>No</td>\n",
              "      <td>Down</td>\n",
              "      <td>No</td>\n",
              "      <td>No</td>\n",
              "      <td>No</td>\n",
              "      <td>No</td>\n",
              "      <td>No</td>\n",
              "      <td>Ch</td>\n",
              "      <td>Yes</td>\n",
              "      <td>&lt;30</td>\n",
              "    </tr>\n",
              "    <tr>\n",
              "      <th>13</th>\n",
              "      <td>42570</td>\n",
              "      <td>77586282</td>\n",
              "      <td>Caucasian</td>\n",
              "      <td>Male</td>\n",
              "      <td>[80-90)</td>\n",
              "      <td>?</td>\n",
              "      <td>1</td>\n",
              "      <td>6</td>\n",
              "      <td>7</td>\n",
              "      <td>10</td>\n",
              "      <td>?</td>\n",
              "      <td>Family/GeneralPractice</td>\n",
              "      <td>55</td>\n",
              "      <td>1</td>\n",
              "      <td>31</td>\n",
              "      <td>0</td>\n",
              "      <td>0</td>\n",
              "      <td>0</td>\n",
              "      <td>428</td>\n",
              "      <td>411</td>\n",
              "      <td>427</td>\n",
              "      <td>8</td>\n",
              "      <td>None</td>\n",
              "      <td>None</td>\n",
              "      <td>No</td>\n",
              "      <td>No</td>\n",
              "      <td>No</td>\n",
              "      <td>No</td>\n",
              "      <td>No</td>\n",
              "      <td>No</td>\n",
              "      <td>No</td>\n",
              "      <td>No</td>\n",
              "      <td>No</td>\n",
              "      <td>No</td>\n",
              "      <td>No</td>\n",
              "      <td>No</td>\n",
              "      <td>No</td>\n",
              "      <td>No</td>\n",
              "      <td>No</td>\n",
              "      <td>No</td>\n",
              "      <td>No</td>\n",
              "      <td>Steady</td>\n",
              "      <td>No</td>\n",
              "      <td>No</td>\n",
              "      <td>No</td>\n",
              "      <td>No</td>\n",
              "      <td>No</td>\n",
              "      <td>No</td>\n",
              "      <td>Yes</td>\n",
              "      <td>NO</td>\n",
              "    </tr>\n",
              "    <tr>\n",
              "      <th>14</th>\n",
              "      <td>62256</td>\n",
              "      <td>49726791</td>\n",
              "      <td>AfricanAmerican</td>\n",
              "      <td>Female</td>\n",
              "      <td>[60-70)</td>\n",
              "      <td>?</td>\n",
              "      <td>3</td>\n",
              "      <td>1</td>\n",
              "      <td>2</td>\n",
              "      <td>1</td>\n",
              "      <td>?</td>\n",
              "      <td>?</td>\n",
              "      <td>49</td>\n",
              "      <td>5</td>\n",
              "      <td>2</td>\n",
              "      <td>0</td>\n",
              "      <td>0</td>\n",
              "      <td>0</td>\n",
              "      <td>518</td>\n",
              "      <td>998</td>\n",
              "      <td>627</td>\n",
              "      <td>8</td>\n",
              "      <td>None</td>\n",
              "      <td>None</td>\n",
              "      <td>No</td>\n",
              "      <td>No</td>\n",
              "      <td>No</td>\n",
              "      <td>No</td>\n",
              "      <td>No</td>\n",
              "      <td>No</td>\n",
              "      <td>No</td>\n",
              "      <td>No</td>\n",
              "      <td>No</td>\n",
              "      <td>No</td>\n",
              "      <td>No</td>\n",
              "      <td>No</td>\n",
              "      <td>No</td>\n",
              "      <td>No</td>\n",
              "      <td>No</td>\n",
              "      <td>No</td>\n",
              "      <td>No</td>\n",
              "      <td>Steady</td>\n",
              "      <td>No</td>\n",
              "      <td>No</td>\n",
              "      <td>No</td>\n",
              "      <td>No</td>\n",
              "      <td>No</td>\n",
              "      <td>No</td>\n",
              "      <td>Yes</td>\n",
              "      <td>&gt;30</td>\n",
              "    </tr>\n",
              "  </tbody>\n",
              "</table>\n",
              "</div>"
            ],
            "text/plain": [
              "    encounter_id  patient_nbr             race  ... change diabetesMed readmitted\n",
              "0        2278392      8222157        Caucasian  ...     No          No         NO\n",
              "1         149190     55629189        Caucasian  ...     Ch         Yes        >30\n",
              "2          64410     86047875  AfricanAmerican  ...     No         Yes         NO\n",
              "3         500364     82442376        Caucasian  ...     Ch         Yes         NO\n",
              "4          16680     42519267        Caucasian  ...     Ch         Yes         NO\n",
              "5          35754     82637451        Caucasian  ...     No         Yes        >30\n",
              "6          55842     84259809        Caucasian  ...     Ch         Yes         NO\n",
              "7          63768    114882984        Caucasian  ...     No         Yes        >30\n",
              "8          12522     48330783        Caucasian  ...     Ch         Yes         NO\n",
              "9          15738     63555939        Caucasian  ...     Ch         Yes         NO\n",
              "10         28236     89869032  AfricanAmerican  ...     No         Yes        >30\n",
              "11         36900     77391171  AfricanAmerican  ...     Ch         Yes        <30\n",
              "12         40926     85504905        Caucasian  ...     Ch         Yes        <30\n",
              "13         42570     77586282        Caucasian  ...     No         Yes         NO\n",
              "14         62256     49726791  AfricanAmerican  ...     No         Yes        >30\n",
              "\n",
              "[15 rows x 50 columns]"
            ]
          },
          "metadata": {
            "tags": []
          },
          "execution_count": 8
        }
      ]
    },
    {
      "cell_type": "code",
      "metadata": {
        "id": "gtAlJilIz7vu",
        "colab_type": "code",
        "outputId": "0c852dcc-b36e-4f44-edd2-0b864a0d3784",
        "colab": {
          "base_uri": "https://localhost:8080/",
          "height": 34
        }
      },
      "source": [
        "from collections import Counter\n",
        "print(Counter(df['readmitted']))"
      ],
      "execution_count": 9,
      "outputs": [
        {
          "output_type": "stream",
          "text": [
            "Counter({'NO': 54864, '>30': 35545, '<30': 11357})\n"
          ],
          "name": "stdout"
        }
      ]
    },
    {
      "cell_type": "code",
      "metadata": {
        "id": "xB43yw6yy6MJ",
        "colab_type": "code",
        "outputId": "4ab93717-b44f-4b9c-f7b8-2b6e9ff41d71",
        "colab": {
          "base_uri": "https://localhost:8080/",
          "height": 884
        }
      },
      "source": [
        "df.isna().sum()"
      ],
      "execution_count": 10,
      "outputs": [
        {
          "output_type": "execute_result",
          "data": {
            "text/plain": [
              "encounter_id                0\n",
              "patient_nbr                 0\n",
              "race                        0\n",
              "gender                      0\n",
              "age                         0\n",
              "weight                      0\n",
              "admission_type_id           0\n",
              "discharge_disposition_id    0\n",
              "admission_source_id         0\n",
              "time_in_hospital            0\n",
              "payer_code                  0\n",
              "medical_specialty           0\n",
              "num_lab_procedures          0\n",
              "num_procedures              0\n",
              "num_medications             0\n",
              "number_outpatient           0\n",
              "number_emergency            0\n",
              "number_inpatient            0\n",
              "diag_1                      0\n",
              "diag_2                      0\n",
              "diag_3                      0\n",
              "number_diagnoses            0\n",
              "max_glu_serum               0\n",
              "A1Cresult                   0\n",
              "metformin                   0\n",
              "repaglinide                 0\n",
              "nateglinide                 0\n",
              "chlorpropamide              0\n",
              "glimepiride                 0\n",
              "acetohexamide               0\n",
              "glipizide                   0\n",
              "glyburide                   0\n",
              "tolbutamide                 0\n",
              "pioglitazone                0\n",
              "rosiglitazone               0\n",
              "acarbose                    0\n",
              "miglitol                    0\n",
              "troglitazone                0\n",
              "tolazamide                  0\n",
              "examide                     0\n",
              "citoglipton                 0\n",
              "insulin                     0\n",
              "glyburide-metformin         0\n",
              "glipizide-metformin         0\n",
              "glimepiride-pioglitazone    0\n",
              "metformin-rosiglitazone     0\n",
              "metformin-pioglitazone      0\n",
              "change                      0\n",
              "diabetesMed                 0\n",
              "readmitted                  0\n",
              "dtype: int64"
            ]
          },
          "metadata": {
            "tags": []
          },
          "execution_count": 10
        }
      ]
    },
    {
      "cell_type": "code",
      "metadata": {
        "id": "kuSNyEutzYxz",
        "colab_type": "code",
        "outputId": "bec6f614-6fd8-4677-8198-4fe2300a34f8",
        "colab": {
          "base_uri": "https://localhost:8080/",
          "height": 884
        }
      },
      "source": [
        "df.dtypes"
      ],
      "execution_count": 11,
      "outputs": [
        {
          "output_type": "execute_result",
          "data": {
            "text/plain": [
              "encounter_id                 int64\n",
              "patient_nbr                  int64\n",
              "race                        object\n",
              "gender                      object\n",
              "age                         object\n",
              "weight                      object\n",
              "admission_type_id            int64\n",
              "discharge_disposition_id     int64\n",
              "admission_source_id          int64\n",
              "time_in_hospital             int64\n",
              "payer_code                  object\n",
              "medical_specialty           object\n",
              "num_lab_procedures           int64\n",
              "num_procedures               int64\n",
              "num_medications              int64\n",
              "number_outpatient            int64\n",
              "number_emergency             int64\n",
              "number_inpatient             int64\n",
              "diag_1                      object\n",
              "diag_2                      object\n",
              "diag_3                      object\n",
              "number_diagnoses             int64\n",
              "max_glu_serum               object\n",
              "A1Cresult                   object\n",
              "metformin                   object\n",
              "repaglinide                 object\n",
              "nateglinide                 object\n",
              "chlorpropamide              object\n",
              "glimepiride                 object\n",
              "acetohexamide               object\n",
              "glipizide                   object\n",
              "glyburide                   object\n",
              "tolbutamide                 object\n",
              "pioglitazone                object\n",
              "rosiglitazone               object\n",
              "acarbose                    object\n",
              "miglitol                    object\n",
              "troglitazone                object\n",
              "tolazamide                  object\n",
              "examide                     object\n",
              "citoglipton                 object\n",
              "insulin                     object\n",
              "glyburide-metformin         object\n",
              "glipizide-metformin         object\n",
              "glimepiride-pioglitazone    object\n",
              "metformin-rosiglitazone     object\n",
              "metformin-pioglitazone      object\n",
              "change                      object\n",
              "diabetesMed                 object\n",
              "readmitted                  object\n",
              "dtype: object"
            ]
          },
          "metadata": {
            "tags": []
          },
          "execution_count": 11
        }
      ]
    },
    {
      "cell_type": "markdown",
      "metadata": {
        "id": "Xd_aogCSLHxR",
        "colab_type": "text"
      },
      "source": [
        "## Visualizing data"
      ]
    },
    {
      "cell_type": "code",
      "metadata": {
        "id": "ddHyzn5ovMWd",
        "colab_type": "code",
        "outputId": "560cf026-1a19-4773-d002-3829748f188a",
        "colab": {
          "base_uri": "https://localhost:8080/",
          "height": 300
        }
      },
      "source": [
        "sns.set_style('whitegrid')\n",
        "sns.countplot(x = 'readmitted',data = df)"
      ],
      "execution_count": 12,
      "outputs": [
        {
          "output_type": "execute_result",
          "data": {
            "text/plain": [
              "<matplotlib.axes._subplots.AxesSubplot at 0x7fedaa8f2588>"
            ]
          },
          "metadata": {
            "tags": []
          },
          "execution_count": 12
        },
        {
          "output_type": "display_data",
          "data": {
            "image/png": "[encoded data removed]",
            "text/plain": [
              "<Figure size 432x288 with 1 Axes>"
            ]
          },
          "metadata": {
            "tags": []
          }
        }
      ]
    },
    {
      "cell_type": "code",
      "metadata": {
        "id": "JsxzWXv8w3pZ",
        "colab_type": "code",
        "outputId": "1eafa37e-1dd0-4400-b341-d984d5023818",
        "colab": {
          "base_uri": "https://localhost:8080/",
          "height": 300
        }
      },
      "source": [
        "sns.set_style('whitegrid')\n",
        "sns.countplot(x = 'readmitted',hue ='gender',data = df)"
      ],
      "execution_count": 13,
      "outputs": [
        {
          "output_type": "execute_result",
          "data": {
            "text/plain": [
              "<matplotlib.axes._subplots.AxesSubplot at 0x7fedaa813ef0>"
            ]
          },
          "metadata": {
            "tags": []
          },
          "execution_count": 13
        },
        {
          "output_type": "display_data",
          "data": {
            "image/png": "[encoded data removed]",
            "text/plain": [
              "<Figure size 432x288 with 1 Axes>"
            ]
          },
          "metadata": {
            "tags": []
          }
        }
      ]
    },
    {
      "cell_type": "code",
      "metadata": {
        "id": "QpVNFP1gzwQ1",
        "colab_type": "code",
        "outputId": "419316c5-be9c-4bf1-e24c-6bb02813c167",
        "colab": {
          "base_uri": "https://localhost:8080/",
          "height": 300
        }
      },
      "source": [
        "sns.set_style('whitegrid')\n",
        "sns.countplot(x = 'readmitted',hue ='race',data = df)"
      ],
      "execution_count": 14,
      "outputs": [
        {
          "output_type": "execute_result",
          "data": {
            "text/plain": [
              "<matplotlib.axes._subplots.AxesSubplot at 0x7feda7f49a20>"
            ]
          },
          "metadata": {
            "tags": []
          },
          "execution_count": 14
        },
        {
          "output_type": "display_data",
          "data": {
            "image/png": "[encoded data removed]",
            "text/plain": [
              "<Figure size 432x288 with 1 Axes>"
            ]
          },
          "metadata": {
            "tags": []
          }
        }
      ]
    },
    {
      "cell_type": "code",
      "metadata": {
        "id": "XwxEajvh8D-P",
        "colab_type": "code",
        "outputId": "d3962c6d-30b9-4c0c-db33-183db3459088",
        "colab": {
          "base_uri": "https://localhost:8080/",
          "height": 326
        }
      },
      "source": [
        "obj_df = df.select_dtypes(include=['object']).copy()\n",
        "obj_df.head()"
      ],
      "execution_count": 15,
      "outputs": [
        {
          "output_type": "execute_result",
          "data": {
            "text/html": [
              "<div>\n",
              "<style scoped>\n",
              "    .dataframe tbody tr th:only-of-type {\n",
              "        vertical-align: middle;\n",
              "    }\n",
              "\n",
              "    .dataframe tbody tr th {\n",
              "        vertical-align: top;\n",
              "    }\n",
              "\n",
              "    .dataframe thead th {\n",
              "        text-align: right;\n",
              "    }\n",
              "</style>\n",
              "<table border=\"1\" class=\"dataframe\">\n",
              "  <thead>\n",
              "    <tr style=\"text-align: right;\">\n",
              "      <th></th>\n",
              "      <th>race</th>\n",
              "      <th>gender</th>\n",
              "      <th>age</th>\n",
              "      <th>weight</th>\n",
              "      <th>payer_code</th>\n",
              "      <th>medical_specialty</th>\n",
              "      <th>diag_1</th>\n",
              "      <th>diag_2</th>\n",
              "      <th>diag_3</th>\n",
              "      <th>max_glu_serum</th>\n",
              "      <th>A1Cresult</th>\n",
              "      <th>metformin</th>\n",
              "      <th>repaglinide</th>\n",
              "      <th>nateglinide</th>\n",
              "      <th>chlorpropamide</th>\n",
              "      <th>glimepiride</th>\n",
              "      <th>acetohexamide</th>\n",
              "      <th>glipizide</th>\n",
              "      <th>glyburide</th>\n",
              "      <th>tolbutamide</th>\n",
              "      <th>pioglitazone</th>\n",
              "      <th>rosiglitazone</th>\n",
              "      <th>acarbose</th>\n",
              "      <th>miglitol</th>\n",
              "      <th>troglitazone</th>\n",
              "      <th>tolazamide</th>\n",
              "      <th>examide</th>\n",
              "      <th>citoglipton</th>\n",
              "      <th>insulin</th>\n",
              "      <th>glyburide-metformin</th>\n",
              "      <th>glipizide-metformin</th>\n",
              "      <th>glimepiride-pioglitazone</th>\n",
              "      <th>metformin-rosiglitazone</th>\n",
              "      <th>metformin-pioglitazone</th>\n",
              "      <th>change</th>\n",
              "      <th>diabetesMed</th>\n",
              "      <th>readmitted</th>\n",
              "    </tr>\n",
              "  </thead>\n",
              "  <tbody>\n",
              "    <tr>\n",
              "      <th>0</th>\n",
              "      <td>Caucasian</td>\n",
              "      <td>Female</td>\n",
              "      <td>[0-10)</td>\n",
              "      <td>?</td>\n",
              "      <td>?</td>\n",
              "      <td>Pediatrics-Endocrinology</td>\n",
              "      <td>250.83</td>\n",
              "      <td>?</td>\n",
              "      <td>?</td>\n",
              "      <td>None</td>\n",
              "      <td>None</td>\n",
              "      <td>No</td>\n",
              "      <td>No</td>\n",
              "      <td>No</td>\n",
              "      <td>No</td>\n",
              "      <td>No</td>\n",
              "      <td>No</td>\n",
              "      <td>No</td>\n",
              "      <td>No</td>\n",
              "      <td>No</td>\n",
              "      <td>No</td>\n",
              "      <td>No</td>\n",
              "      <td>No</td>\n",
              "      <td>No</td>\n",
              "      <td>No</td>\n",
              "      <td>No</td>\n",
              "      <td>No</td>\n",
              "      <td>No</td>\n",
              "      <td>No</td>\n",
              "      <td>No</td>\n",
              "      <td>No</td>\n",
              "      <td>No</td>\n",
              "      <td>No</td>\n",
              "      <td>No</td>\n",
              "      <td>No</td>\n",
              "      <td>No</td>\n",
              "      <td>NO</td>\n",
              "    </tr>\n",
              "    <tr>\n",
              "      <th>1</th>\n",
              "      <td>Caucasian</td>\n",
              "      <td>Female</td>\n",
              "      <td>[10-20)</td>\n",
              "      <td>?</td>\n",
              "      <td>?</td>\n",
              "      <td>?</td>\n",
              "      <td>276</td>\n",
              "      <td>250.01</td>\n",
              "      <td>255</td>\n",
              "      <td>None</td>\n",
              "      <td>None</td>\n",
              "      <td>No</td>\n",
              "      <td>No</td>\n",
              "      <td>No</td>\n",
              "      <td>No</td>\n",
              "      <td>No</td>\n",
              "      <td>No</td>\n",
              "      <td>No</td>\n",
              "      <td>No</td>\n",
              "      <td>No</td>\n",
              "      <td>No</td>\n",
              "      <td>No</td>\n",
              "      <td>No</td>\n",
              "      <td>No</td>\n",
              "      <td>No</td>\n",
              "      <td>No</td>\n",
              "      <td>No</td>\n",
              "      <td>No</td>\n",
              "      <td>Up</td>\n",
              "      <td>No</td>\n",
              "      <td>No</td>\n",
              "      <td>No</td>\n",
              "      <td>No</td>\n",
              "      <td>No</td>\n",
              "      <td>Ch</td>\n",
              "      <td>Yes</td>\n",
              "      <td>&gt;30</td>\n",
              "    </tr>\n",
              "    <tr>\n",
              "      <th>2</th>\n",
              "      <td>AfricanAmerican</td>\n",
              "      <td>Female</td>\n",
              "      <td>[20-30)</td>\n",
              "      <td>?</td>\n",
              "      <td>?</td>\n",
              "      <td>?</td>\n",
              "      <td>648</td>\n",
              "      <td>250</td>\n",
              "      <td>V27</td>\n",
              "      <td>None</td>\n",
              "      <td>None</td>\n",
              "      <td>No</td>\n",
              "      <td>No</td>\n",
              "      <td>No</td>\n",
              "      <td>No</td>\n",
              "      <td>No</td>\n",
              "      <td>No</td>\n",
              "      <td>Steady</td>\n",
              "      <td>No</td>\n",
              "      <td>No</td>\n",
              "      <td>No</td>\n",
              "      <td>No</td>\n",
              "      <td>No</td>\n",
              "      <td>No</td>\n",
              "      <td>No</td>\n",
              "      <td>No</td>\n",
              "      <td>No</td>\n",
              "      <td>No</td>\n",
              "      <td>No</td>\n",
              "      <td>No</td>\n",
              "      <td>No</td>\n",
              "      <td>No</td>\n",
              "      <td>No</td>\n",
              "      <td>No</td>\n",
              "      <td>No</td>\n",
              "      <td>Yes</td>\n",
              "      <td>NO</td>\n",
              "    </tr>\n",
              "    <tr>\n",
              "      <th>3</th>\n",
              "      <td>Caucasian</td>\n",
              "      <td>Male</td>\n",
              "      <td>[30-40)</td>\n",
              "      <td>?</td>\n",
              "      <td>?</td>\n",
              "      <td>?</td>\n",
              "      <td>8</td>\n",
              "      <td>250.43</td>\n",
              "      <td>403</td>\n",
              "      <td>None</td>\n",
              "      <td>None</td>\n",
              "      <td>No</td>\n",
              "      <td>No</td>\n",
              "      <td>No</td>\n",
              "      <td>No</td>\n",
              "      <td>No</td>\n",
              "      <td>No</td>\n",
              "      <td>No</td>\n",
              "      <td>No</td>\n",
              "      <td>No</td>\n",
              "      <td>No</td>\n",
              "      <td>No</td>\n",
              "      <td>No</td>\n",
              "      <td>No</td>\n",
              "      <td>No</td>\n",
              "      <td>No</td>\n",
              "      <td>No</td>\n",
              "      <td>No</td>\n",
              "      <td>Up</td>\n",
              "      <td>No</td>\n",
              "      <td>No</td>\n",
              "      <td>No</td>\n",
              "      <td>No</td>\n",
              "      <td>No</td>\n",
              "      <td>Ch</td>\n",
              "      <td>Yes</td>\n",
              "      <td>NO</td>\n",
              "    </tr>\n",
              "    <tr>\n",
              "      <th>4</th>\n",
              "      <td>Caucasian</td>\n",
              "      <td>Male</td>\n",
              "      <td>[40-50)</td>\n",
              "      <td>?</td>\n",
              "      <td>?</td>\n",
              "      <td>?</td>\n",
              "      <td>197</td>\n",
              "      <td>157</td>\n",
              "      <td>250</td>\n",
              "      <td>None</td>\n",
              "      <td>None</td>\n",
              "      <td>No</td>\n",
              "      <td>No</td>\n",
              "      <td>No</td>\n",
              "      <td>No</td>\n",
              "      <td>No</td>\n",
              "      <td>No</td>\n",
              "      <td>Steady</td>\n",
              "      <td>No</td>\n",
              "      <td>No</td>\n",
              "      <td>No</td>\n",
              "      <td>No</td>\n",
              "      <td>No</td>\n",
              "      <td>No</td>\n",
              "      <td>No</td>\n",
              "      <td>No</td>\n",
              "      <td>No</td>\n",
              "      <td>No</td>\n",
              "      <td>Steady</td>\n",
              "      <td>No</td>\n",
              "      <td>No</td>\n",
              "      <td>No</td>\n",
              "      <td>No</td>\n",
              "      <td>No</td>\n",
              "      <td>Ch</td>\n",
              "      <td>Yes</td>\n",
              "      <td>NO</td>\n",
              "    </tr>\n",
              "  </tbody>\n",
              "</table>\n",
              "</div>"
            ],
            "text/plain": [
              "              race  gender      age  ... change diabetesMed readmitted\n",
              "0        Caucasian  Female   [0-10)  ...     No          No         NO\n",
              "1        Caucasian  Female  [10-20)  ...     Ch         Yes        >30\n",
              "2  AfricanAmerican  Female  [20-30)  ...     No         Yes         NO\n",
              "3        Caucasian    Male  [30-40)  ...     Ch         Yes         NO\n",
              "4        Caucasian    Male  [40-50)  ...     Ch         Yes         NO\n",
              "\n",
              "[5 rows x 37 columns]"
            ]
          },
          "metadata": {
            "tags": []
          },
          "execution_count": 15
        }
      ]
    },
    {
      "cell_type": "markdown",
      "metadata": {
        "id": "l_jhySkXFbaR",
        "colab_type": "text"
      },
      "source": [
        "## Feature engineering"
      ]
    },
    {
      "cell_type": "code",
      "metadata": {
        "id": "dEYwwaPZ4Wk0",
        "colab_type": "code",
        "outputId": "cd0d8f20-c43f-4efe-c79b-c7e3a322b9e2",
        "colab": {
          "base_uri": "https://localhost:8080/",
          "height": 34
        }
      },
      "source": [
        "from collections import Counter\n",
        "print(Counter(obj_df['race']))"
      ],
      "execution_count": 16,
      "outputs": [
        {
          "output_type": "stream",
          "text": [
            "Counter({'Caucasian': 76099, 'AfricanAmerican': 19210, '?': 2273, 'Hispanic': 2037, 'Other': 1506, 'Asian': 641})\n"
          ],
          "name": "stdout"
        }
      ]
    },
    {
      "cell_type": "code",
      "metadata": {
        "id": "GDvnNtWlPzF0",
        "colab_type": "code",
        "colab": {}
      },
      "source": [
        "obj_df['race'].replace({'?':'Caucasian'}, inplace=True)"
      ],
      "execution_count": 0,
      "outputs": []
    },
    {
      "cell_type": "code",
      "metadata": {
        "id": "XO4Kk7P8zFrv",
        "colab_type": "code",
        "outputId": "1b94e09d-40ba-41f0-811a-0c93757a1d4e",
        "colab": {
          "base_uri": "https://localhost:8080/",
          "height": 34
        }
      },
      "source": [
        "from collections import Counter\n",
        "print(Counter(obj_df['gender']))"
      ],
      "execution_count": 19,
      "outputs": [
        {
          "output_type": "stream",
          "text": [
            "Counter({'Female': 54708, 'Male': 47055, 'Unknown/Invalid': 3})\n"
          ],
          "name": "stdout"
        }
      ]
    },
    {
      "cell_type": "code",
      "metadata": {
        "id": "bFQX8hPZEQOK",
        "colab_type": "code",
        "colab": {}
      },
      "source": [
        "obj_df['gender'].replace({'Unknown/Invalid':'Female'}, inplace=True)"
      ],
      "execution_count": 0,
      "outputs": []
    },
    {
      "cell_type": "code",
      "metadata": {
        "id": "x4w7W9aBBS95",
        "colab_type": "code",
        "outputId": "55cdba8f-6081-4234-b0bc-f14749b52780",
        "colab": {
          "base_uri": "https://localhost:8080/",
          "height": 54
        }
      },
      "source": [
        "from collections import Counter\n",
        "print(Counter(obj_df['age']))"
      ],
      "execution_count": 21,
      "outputs": [
        {
          "output_type": "stream",
          "text": [
            "Counter({'[70-80)': 26068, '[60-70)': 22483, '[50-60)': 17256, '[80-90)': 17197, '[40-50)': 9685, '[30-40)': 3775, '[90-100)': 2793, '[20-30)': 1657, '[10-20)': 691, '[0-10)': 161})\n"
          ],
          "name": "stdout"
        }
      ]
    },
    {
      "cell_type": "code",
      "metadata": {
        "id": "7k2l8VfK-dba",
        "colab_type": "code",
        "colab": {}
      },
      "source": [
        "replace_nums = {\"age\": {'[70-80)': 75, '[60-70)': 65, '[50-60)': 55, '[80-90)': 85, '[40-50)': 45, '[30-40)': 35, '[90-100)': 105, '[20-30)': 25, '[10-20)': 15, '[0-10)': 5}}"
      ],
      "execution_count": 0,
      "outputs": []
    },
    {
      "cell_type": "code",
      "metadata": {
        "id": "jDGefq0PCdRr",
        "colab_type": "code",
        "outputId": "5385774e-55c5-4986-bf17-d71cba3fe8c6",
        "colab": {
          "base_uri": "https://localhost:8080/",
          "height": 258
        }
      },
      "source": [
        "obj_df.replace(replace_nums, inplace=True)\n",
        "obj_df.head()"
      ],
      "execution_count": 23,
      "outputs": [
        {
          "output_type": "execute_result",
          "data": {
            "text/html": [
              "<div>\n",
              "<style scoped>\n",
              "    .dataframe tbody tr th:only-of-type {\n",
              "        vertical-align: middle;\n",
              "    }\n",
              "\n",
              "    .dataframe tbody tr th {\n",
              "        vertical-align: top;\n",
              "    }\n",
              "\n",
              "    .dataframe thead th {\n",
              "        text-align: right;\n",
              "    }\n",
              "</style>\n",
              "<table border=\"1\" class=\"dataframe\">\n",
              "  <thead>\n",
              "    <tr style=\"text-align: right;\">\n",
              "      <th></th>\n",
              "      <th>race</th>\n",
              "      <th>gender</th>\n",
              "      <th>age</th>\n",
              "      <th>weight</th>\n",
              "      <th>payer_code</th>\n",
              "      <th>medical_specialty</th>\n",
              "      <th>diag_1</th>\n",
              "      <th>diag_2</th>\n",
              "      <th>diag_3</th>\n",
              "      <th>max_glu_serum</th>\n",
              "      <th>A1Cresult</th>\n",
              "      <th>metformin</th>\n",
              "      <th>repaglinide</th>\n",
              "      <th>nateglinide</th>\n",
              "      <th>chlorpropamide</th>\n",
              "      <th>glimepiride</th>\n",
              "      <th>acetohexamide</th>\n",
              "      <th>glipizide</th>\n",
              "      <th>glyburide</th>\n",
              "      <th>tolbutamide</th>\n",
              "      <th>pioglitazone</th>\n",
              "      <th>rosiglitazone</th>\n",
              "      <th>acarbose</th>\n",
              "      <th>miglitol</th>\n",
              "      <th>troglitazone</th>\n",
              "      <th>tolazamide</th>\n",
              "      <th>examide</th>\n",
              "      <th>citoglipton</th>\n",
              "      <th>insulin</th>\n",
              "      <th>glyburide-metformin</th>\n",
              "      <th>glipizide-metformin</th>\n",
              "      <th>glimepiride-pioglitazone</th>\n",
              "      <th>metformin-rosiglitazone</th>\n",
              "      <th>metformin-pioglitazone</th>\n",
              "      <th>change</th>\n",
              "      <th>diabetesMed</th>\n",
              "      <th>readmitted</th>\n",
              "    </tr>\n",
              "  </thead>\n",
              "  <tbody>\n",
              "    <tr>\n",
              "      <th>0</th>\n",
              "      <td>Caucasian</td>\n",
              "      <td>Female</td>\n",
              "      <td>5</td>\n",
              "      <td>?</td>\n",
              "      <td>?</td>\n",
              "      <td>Pediatrics-Endocrinology</td>\n",
              "      <td>250.83</td>\n",
              "      <td>?</td>\n",
              "      <td>?</td>\n",
              "      <td>None</td>\n",
              "      <td>None</td>\n",
              "      <td>No</td>\n",
              "      <td>No</td>\n",
              "      <td>No</td>\n",
              "      <td>No</td>\n",
              "      <td>No</td>\n",
              "      <td>No</td>\n",
              "      <td>No</td>\n",
              "      <td>No</td>\n",
              "      <td>No</td>\n",
              "      <td>No</td>\n",
              "      <td>No</td>\n",
              "      <td>No</td>\n",
              "      <td>No</td>\n",
              "      <td>No</td>\n",
              "      <td>No</td>\n",
              "      <td>No</td>\n",
              "      <td>No</td>\n",
              "      <td>No</td>\n",
              "      <td>No</td>\n",
              "      <td>No</td>\n",
              "      <td>No</td>\n",
              "      <td>No</td>\n",
              "      <td>No</td>\n",
              "      <td>No</td>\n",
              "      <td>No</td>\n",
              "      <td>NO</td>\n",
              "    </tr>\n",
              "    <tr>\n",
              "      <th>1</th>\n",
              "      <td>Caucasian</td>\n",
              "      <td>Female</td>\n",
              "      <td>15</td>\n",
              "      <td>?</td>\n",
              "      <td>?</td>\n",
              "      <td>?</td>\n",
              "      <td>276</td>\n",
              "      <td>250.01</td>\n",
              "      <td>255</td>\n",
              "      <td>None</td>\n",
              "      <td>None</td>\n",
              "      <td>No</td>\n",
              "      <td>No</td>\n",
              "      <td>No</td>\n",
              "      <td>No</td>\n",
              "      <td>No</td>\n",
              "      <td>No</td>\n",
              "      <td>No</td>\n",
              "      <td>No</td>\n",
              "      <td>No</td>\n",
              "      <td>No</td>\n",
              "      <td>No</td>\n",
              "      <td>No</td>\n",
              "      <td>No</td>\n",
              "      <td>No</td>\n",
              "      <td>No</td>\n",
              "      <td>No</td>\n",
              "      <td>No</td>\n",
              "      <td>Up</td>\n",
              "      <td>No</td>\n",
              "      <td>No</td>\n",
              "      <td>No</td>\n",
              "      <td>No</td>\n",
              "      <td>No</td>\n",
              "      <td>Ch</td>\n",
              "      <td>Yes</td>\n",
              "      <td>&gt;30</td>\n",
              "    </tr>\n",
              "    <tr>\n",
              "      <th>2</th>\n",
              "      <td>AfricanAmerican</td>\n",
              "      <td>Female</td>\n",
              "      <td>25</td>\n",
              "      <td>?</td>\n",
              "      <td>?</td>\n",
              "      <td>?</td>\n",
              "      <td>648</td>\n",
              "      <td>250</td>\n",
              "      <td>V27</td>\n",
              "      <td>None</td>\n",
              "      <td>None</td>\n",
              "      <td>No</td>\n",
              "      <td>No</td>\n",
              "      <td>No</td>\n",
              "      <td>No</td>\n",
              "      <td>No</td>\n",
              "      <td>No</td>\n",
              "      <td>Steady</td>\n",
              "      <td>No</td>\n",
              "      <td>No</td>\n",
              "      <td>No</td>\n",
              "      <td>No</td>\n",
              "      <td>No</td>\n",
              "      <td>No</td>\n",
              "      <td>No</td>\n",
              "      <td>No</td>\n",
              "      <td>No</td>\n",
              "      <td>No</td>\n",
              "      <td>No</td>\n",
              "      <td>No</td>\n",
              "      <td>No</td>\n",
              "      <td>No</td>\n",
              "      <td>No</td>\n",
              "      <td>No</td>\n",
              "      <td>No</td>\n",
              "      <td>Yes</td>\n",
              "      <td>NO</td>\n",
              "    </tr>\n",
              "    <tr>\n",
              "      <th>3</th>\n",
              "      <td>Caucasian</td>\n",
              "      <td>Male</td>\n",
              "      <td>35</td>\n",
              "      <td>?</td>\n",
              "      <td>?</td>\n",
              "      <td>?</td>\n",
              "      <td>8</td>\n",
              "      <td>250.43</td>\n",
              "      <td>403</td>\n",
              "      <td>None</td>\n",
              "      <td>None</td>\n",
              "      <td>No</td>\n",
              "      <td>No</td>\n",
              "      <td>No</td>\n",
              "      <td>No</td>\n",
              "      <td>No</td>\n",
              "      <td>No</td>\n",
              "      <td>No</td>\n",
              "      <td>No</td>\n",
              "      <td>No</td>\n",
              "      <td>No</td>\n",
              "      <td>No</td>\n",
              "      <td>No</td>\n",
              "      <td>No</td>\n",
              "      <td>No</td>\n",
              "      <td>No</td>\n",
              "      <td>No</td>\n",
              "      <td>No</td>\n",
              "      <td>Up</td>\n",
              "      <td>No</td>\n",
              "      <td>No</td>\n",
              "      <td>No</td>\n",
              "      <td>No</td>\n",
              "      <td>No</td>\n",
              "      <td>Ch</td>\n",
              "      <td>Yes</td>\n",
              "      <td>NO</td>\n",
              "    </tr>\n",
              "    <tr>\n",
              "      <th>4</th>\n",
              "      <td>Caucasian</td>\n",
              "      <td>Male</td>\n",
              "      <td>45</td>\n",
              "      <td>?</td>\n",
              "      <td>?</td>\n",
              "      <td>?</td>\n",
              "      <td>197</td>\n",
              "      <td>157</td>\n",
              "      <td>250</td>\n",
              "      <td>None</td>\n",
              "      <td>None</td>\n",
              "      <td>No</td>\n",
              "      <td>No</td>\n",
              "      <td>No</td>\n",
              "      <td>No</td>\n",
              "      <td>No</td>\n",
              "      <td>No</td>\n",
              "      <td>Steady</td>\n",
              "      <td>No</td>\n",
              "      <td>No</td>\n",
              "      <td>No</td>\n",
              "      <td>No</td>\n",
              "      <td>No</td>\n",
              "      <td>No</td>\n",
              "      <td>No</td>\n",
              "      <td>No</td>\n",
              "      <td>No</td>\n",
              "      <td>No</td>\n",
              "      <td>Steady</td>\n",
              "      <td>No</td>\n",
              "      <td>No</td>\n",
              "      <td>No</td>\n",
              "      <td>No</td>\n",
              "      <td>No</td>\n",
              "      <td>Ch</td>\n",
              "      <td>Yes</td>\n",
              "      <td>NO</td>\n",
              "    </tr>\n",
              "  </tbody>\n",
              "</table>\n",
              "</div>"
            ],
            "text/plain": [
              "              race  gender  age  ... change diabetesMed readmitted\n",
              "0        Caucasian  Female    5  ...     No          No         NO\n",
              "1        Caucasian  Female   15  ...     Ch         Yes        >30\n",
              "2  AfricanAmerican  Female   25  ...     No         Yes         NO\n",
              "3        Caucasian    Male   35  ...     Ch         Yes         NO\n",
              "4        Caucasian    Male   45  ...     Ch         Yes         NO\n",
              "\n",
              "[5 rows x 37 columns]"
            ]
          },
          "metadata": {
            "tags": []
          },
          "execution_count": 23
        }
      ]
    },
    {
      "cell_type": "code",
      "metadata": {
        "id": "HpL2wdVKDUG3",
        "colab_type": "code",
        "outputId": "c32fa1c9-adff-48d2-d686-836b8690f0ec",
        "colab": {
          "base_uri": "https://localhost:8080/",
          "height": 300
        }
      },
      "source": [
        "sns.distplot(obj_df['age'].dropna(),kde=False,bins=20,color='green')"
      ],
      "execution_count": 24,
      "outputs": [
        {
          "output_type": "execute_result",
          "data": {
            "text/plain": [
              "<matplotlib.axes._subplots.AxesSubplot at 0x7feda7c5da90>"
            ]
          },
          "metadata": {
            "tags": []
          },
          "execution_count": 24
        },
        {
          "output_type": "display_data",
          "data": {
            "image/png": "[encoded data removed]",
            "text/plain": [
              "<Figure size 432x288 with 1 Axes>"
            ]
          },
          "metadata": {
            "tags": []
          }
        }
      ]
    },
    {
      "cell_type": "code",
      "metadata": {
        "id": "QTC8qydEBmWb",
        "colab_type": "code",
        "outputId": "0c45168f-ef5c-4cf5-8d62-29dff18df67f",
        "colab": {
          "base_uri": "https://localhost:8080/",
          "height": 34
        }
      },
      "source": [
        "df[df['weight'] == '?'].shape[0] * 1.0 / df.shape[0]"
      ],
      "execution_count": 25,
      "outputs": [
        {
          "output_type": "execute_result",
          "data": {
            "text/plain": [
              "0.9685847925633315"
            ]
          },
          "metadata": {
            "tags": []
          },
          "execution_count": 25
        }
      ]
    },
    {
      "cell_type": "code",
      "metadata": {
        "id": "-kbiD6mk9z-p",
        "colab_type": "code",
        "outputId": "9e179fa8-85f5-44c3-cbd3-61e75ec498fb",
        "colab": {
          "base_uri": "https://localhost:8080/",
          "height": 54
        }
      },
      "source": [
        "print(Counter(obj_df['weight']))"
      ],
      "execution_count": 26,
      "outputs": [
        {
          "output_type": "stream",
          "text": [
            "Counter({'?': 98569, '[75-100)': 1336, '[50-75)': 897, '[100-125)': 625, '[125-150)': 145, '[25-50)': 97, '[0-25)': 48, '[150-175)': 35, '[175-200)': 11, '>200': 3})\n"
          ],
          "name": "stdout"
        }
      ]
    },
    {
      "cell_type": "code",
      "metadata": {
        "id": "MLTeuAPaB7EF",
        "colab_type": "code",
        "colab": {}
      },
      "source": [
        "obj_df.drop(['weight', 'payer_code'], axis=1, inplace=True)"
      ],
      "execution_count": 0,
      "outputs": []
    },
    {
      "cell_type": "code",
      "metadata": {
        "id": "AnJVv60IC-PR",
        "colab_type": "code",
        "outputId": "bd954b65-f8e9-45fb-856b-552859f3fdde",
        "colab": {
          "base_uri": "https://localhost:8080/",
          "height": 54
        }
      },
      "source": [
        "from collections import Counter\n",
        "print(Counter(obj_df['medical_specialty']))"
      ],
      "execution_count": 28,
      "outputs": [
        {
          "output_type": "stream",
          "text": [
            "Counter({'?': 49949, 'InternalMedicine': 14635, 'Emergency/Trauma': 7565, 'Family/GeneralPractice': 7440, 'Cardiology': 5352, 'Surgery-General': 3099, 'Nephrology': 1613, 'Orthopedics': 1400, 'Orthopedics-Reconstructive': 1233, 'Radiologist': 1140, 'Pulmonology': 871, 'Psychiatry': 854, 'Urology': 685, 'ObstetricsandGynecology': 671, 'Surgery-Cardiovascular/Thoracic': 652, 'Gastroenterology': 564, 'Surgery-Vascular': 533, 'Surgery-Neuro': 468, 'PhysicalMedicineandRehabilitation': 391, 'Oncology': 348, 'Pediatrics': 254, 'Hematology/Oncology': 207, 'Neurology': 203, 'Pediatrics-Endocrinology': 159, 'Otolaryngology': 125, 'Endocrinology': 120, 'Surgery-Thoracic': 109, 'Psychology': 101, 'Podiatry': 100, 'Surgery-Cardiovascular': 98, 'Pediatrics-CriticalCare': 87, 'Hematology': 82, 'Gynecology': 58, 'Hospitalist': 57, 'Radiology': 53, 'Surgeon': 45, 'Surgery-Plastic': 41, 'Osteopath': 39, 'Ophthalmology': 38, 'InfectiousDiseases': 37, 'SurgicalSpecialty': 33, 'Obsterics&Gynecology-GynecologicOnco': 25, 'Pediatrics-Pulmonology': 25, 'Anesthesiology-Pediatric': 19, 'Obstetrics': 19, 'Rheumatology': 17, 'Pathology': 17, 'Anesthesiology': 12, 'OutreachServices': 12, 'Surgery-Colon&Rectal': 11, 'Surgery-Maxillofacial': 11, 'PhysicianNotFound': 11, 'Pediatrics-Neurology': 10, 'Surgery-Pediatric': 8, 'Endocrinology-Metabolism': 8, 'Psychiatry-Child/Adolescent': 7, 'AllergyandImmunology': 7, 'Cardiology-Pediatric': 7, 'DCPTEAM': 6, 'Pediatrics-Hematology-Oncology': 4, 'Dentistry': 4, 'Pediatrics-EmergencyMedicine': 3, 'Pediatrics-AllergyandImmunology': 3, 'Resident': 2, 'Surgery-PlasticwithinHeadandNeck': 1, 'Pediatrics-InfectiousDiseases': 1, 'Psychiatry-Addictive': 1, 'Proctology': 1, 'Dermatology': 1, 'SportsMedicine': 1, 'Speech': 1, 'Perinatology': 1, 'Neurophysiology': 1})\n"
          ],
          "name": "stdout"
        }
      ]
    },
    {
      "cell_type": "code",
      "metadata": {
        "id": "ZqEnyVmDDLSN",
        "colab_type": "code",
        "colab": {}
      },
      "source": [
        "obj_df.drop('medical_specialty',axis=1,inplace=True)"
      ],
      "execution_count": 0,
      "outputs": []
    },
    {
      "cell_type": "code",
      "metadata": {
        "id": "tEcUZSfsHcyw",
        "colab_type": "code",
        "outputId": "28adf696-d3c6-4ceb-bd92-bc96597c1c0e",
        "colab": {
          "base_uri": "https://localhost:8080/",
          "height": 88
        }
      },
      "source": [
        "print(Counter(obj_df['diag_1']))\n",
        "print(Counter(obj_df['diag_2']))\n",
        "print(Counter(obj_df['diag_3']))"
      ],
      "execution_count": 30,
      "outputs": [
        {
          "output_type": "stream",
          "text": [
            "Counter({'428': 6862, '414': 6581, '786': 4016, '410': 3614, '486': 3508, '427': 2766, '491': 2275, '715': 2151, '682': 2042, '434': 2028, '780': 2019, '996': 1967, '276': 1889, '38': 1688, '250.8': 1680, '599': 1595, '584': 1520, 'V57': 1207, '250.6': 1183, '518': 1115, '820': 1082, '577': 1057, '493': 1056, '435': 1016, '562': 989, '574': 965, '296': 896, '560': 876, '250.7': 871, '250.13': 851, '440': 840, '433': 789, '998': 784, '722': 771, '250.02': 675, '578': 663, '250.11': 625, '507': 610, '789': 561, '453': 546, '530': 531, '8': 515, '403': 513, '535': 450, '402': 449, '415': 449, '295': 447, '724': 440, '458': 426, '162': 425, '997': 424, '250.12': 417, '250.82': 412, '278': 379, '733': 367, '285': 365, '592': 350, '401': 346, '482': 339, '590': 335, '558': 335, '197': 320, '280': 319, '824': 316, '250.1': 313, '153': 311, '426': 288, '569': 286, '648': 285, '571': 277, '531': 276, '511': 270, '250.4': 267, '787': 267, '404': 262, '707': 257, '411': 254, '198': 242, '572': 239, '466': 236, '812': 235, '250': 235, '552': 234, '730': 230, 'V58': 228, '532': 219, '575': 215, '600': 207, '250.03': 201, '540': 198, '557': 196, '331': 192, '805': 188, '250.81': 186, '424': 183, '721': 178, '436': 175, '185': 173, '431': 172, '618': 161, '250.22': 156, '444': 156, '348': 152, '784': 151, '536': 150, '174': 147, '564': 147, '386': 145, '821': 145, '790': 144, '553': 141, '808': 136, '441': 129, '398': 128, '728': 127, '823': 127, '218': 127, '189': 126, '515': 126, '413': 117, '294': 116, '157': 114, '250.2': 114, '345': 113, '188': 112, '681': 112, '537': 111, '852': 110, '443': 110, '781': 109, '182': 108, '292': 107, '729': 106, '202': 104, '211': 103, '487': 102, '593': 101, '785': 101, '459': 97, '576': 97, '274': 96, '250.83': 95, '595': 95, '455': 94, '154': 94, '432': 92, '288': 92, '654': 92, '291': 91, '250.41': 91, '726': 91, '250.42': 90, '437': 90, '300': 90, '490': 90, '290': 86, '79': 86, '287': 86, '425': 86, '438': 85, '566': 85, '782': 84, '807': 83, '813': 83, '346': 82, '496': 80, '626': 79, '995': 78, '723': 77, '585': 75, '112': 73, '423': 72, 'V55': 71, '481': 70, '303': 69, '282': 68, '416': 68, '799': 68, '608': 68, '711': 66, '642': 64, '625': 64, '420': 64, '298': 64, '447': 63, '151': 62, '238': 62, '250.01': 61, '284': 61, '969': 58, '241': 58, '962': 57, '311': 57, '567': 57, '738': 56, '293': 56, '850': 56, '332': 55, '53': 55, '716': 55, '924': 55, '719': 55, '965': 54, '155': 54, '550': 53, '275': 53, '555': 52, '250.92': 52, '822': 50, '253': 50, '596': 48, '727': 48, '465': 48, '620': 47, '556': 46, '70': 46, '225': 46, '220': 46, '227': 46, '512': 46, '519': 46, '9': 46, '191': 45, '286': 45, '340': 45, '42': 45, 'V54': 45, 'V53': 44, '959': 44, '514': 43, '485': 42, '573': 41, '922': 41, '421': 41, '714': 40, '451': 40, '788': 39, '309': 37, '429': 37, '604': 37, '860': 37, '349': 35, '851': 35, '203': 35, '333': 35, '277': 34, '516': 34, '611': 34, '442': 34, '510': 33, '801': 33, '239': 33, '492': 32, '304': 32, '478': 32, '659': 32, '568': 32, '430': 32, '183': 31, '351': 30, '802': 30, '396': 30, '999': 29, '783': 29, '250.23': 29, '844': 29, '233': 29, '283': 28, '193': 28, '235': 27, '644': 27, '135': 27, '150': 27, '205': 27, '794': 26, '658': 26, '522': 26, '47': 26, '527': 26, '196': 25, '661': 25, '305': 25, '250.43': 25, '710': 25, '307': 25, '255': 24, '456': 24, '494': 24, '534': 24, '616': 24, '327': 24, '473': 23, '446': 23, '204': 23, '825': 23, '252': 23, '693': 23, '621': 22, '242': 22, '533': 22, '920': 22, '?': 21, '607': 21, '656': 21, '586': 21, '614': 21, '281': 20, '958': 20, '380': 20, '250.3': 20, '664': 20, '461': 20, '528': 20, '357': 20, '338': 20, '250.33': 19, '591': 19, '289': 19, '581': 19, '226': 19, '617': 19, '156': 18, '480': 18, '312': 18, '873': 18, '853': 18, '627': 18, '250.32': 17, '250.93': 17, '355': 17, '972': 17, '967': 17, '718': 17, '200': 16, '601': 16, '513': 16, 'V56': 16, '756': 15, '250.31': 15, '251': 15, '152': 15, '358': 14, '680': 14, '297': 14, '840': 14, '199': 14, '933': 14, '736': 14, '475': 14, '594': 14, '378': 14, '867': 14, '3': 13, '977': 13, '652': 13, '861': 13, '935': 13, '263': 12, '457': 12, '54': 12, '158': 12, '368': 12, '565': 12, '161': 12, '966': 12, '376': 12, '310': 12, '250.21': 12, '171': 12, '660': 12, '695': 12, '843': 12, '847': 12, '945': 12, '725': 12, '462': 11, '244': 11, '892': 11, '350': 11, '989': 11, '394': 11, '521': 11, '845': 10, '337': 10, '11': 10, '464': 10, '184': 10, '201': 10, '646': 10, '810': 10, '306': 10, '323': 10, '882': 10, '35': 10, '891': 10, '705': 10, '335': 9, '78': 9, '117': 9, '641': 9, '383': 9, '5': 9, '230': 9, '992': 9, '454': 9, 'V71': 9, '588': 9, '88': 9, '195': 9, '816': 9, '541': 9, '952': 9, '163': 9, '354': 9, '737': 8, '708': 8, '41': 8, '968': 8, '359': 8, '212': 8, '250.5': 8, '970': 8, '362': 8, '864': 8, '551': 8, '709': 8, '686': 8, '831': 8, '964': 8, '865': 8, '342': 8, 'V63': 8, '82': 7, '210': 7, '579': 7, '320': 7, '663': 7, '237': 7, '746': 7, '341': 7, '747': 7, '94': 7, '991': 7, '250.9': 7, '223': 7, '34': 7, '815': 7, '526': 7, '717': 7, '745': 7, '445': 7, '866': 7, '694': 6, '214': 6, '180': 6, '836': 6, '353': 6, '141': 6, '570': 6, '934': 6, '344': 6, '796': 6, '800': 6, '685': 6, '324': 6, '272': 6, '890': 6, '696': 6, '883': 6, '273': 6, '66': 6, '806': 6, '388': 5, '655': 5, '598': 5, '495': 5, '49': 5, '751': 5, '942': 5, '508': 5, '397': 5, '395': 5, '647': 5, '228': 5, 'V45': 5, '463': 5, '361': 5, '643': 5, '983': 5, '622': 5, '759': 5, '356': 5, '483': 5, '692': 5, '136': 5, '792': 5, '814': 5, '753': 5, '835': 5, '379': 5, '619': 5, '881': 5, '215': 5, '893': 5, '208': 5, '854': 5, '175': 5, '452': 5, '583': 5, '250.53': 4, '623': 4, '301': 4, '172': 4, '863': 4, '474': 4, '846': 4, '720': 4, '261': 4, '179': 4, '192': 4, '793': 4, '886': 4, '633': 4, '382': 4, '250.52': 4, '916': 4, '734': 4, '674': 4, '470': 4, '146': 4, '524': 4, '142': 4, '245': 4, '250.91': 4, '731': 4, '923': 4, '529': 4, '803': 3, '632': 3, '669': 3, '868': 3, '826': 3, '374': 3, '987': 3, '336': 3, '506': 3, '236': 3, '501': 3, '308': 3, '370': 3, '164': 3, '266': 3, '797': 3, '936': 3, '262': 3, '917': 3, '31': 3, '986': 3, '173': 3, '405': 3, '928': 3, '879': 3, '921': 3, '377': 3, '602': 3, '706': 3, '862': 3, '240': 3, '971': 3, '795': 3, '963': 3, '665': 3, '603': 3, '271': 3, '580': 2, '7': 2, '39': 2, '322': 2, '582': 2, '913': 2, 'V66': 2, '385': 2, '871': 2, '848': 2, '634': 2, '187': 2, '732': 2, '48': 2, '170': 2, '878': 2, '904': 2, '973': 2, '229': 2, 'V26': 2, '334': 2, '990': 2, '703': 2, '352': 2, '369': 2, '610': 2, '75': 2, '897': 2, '115': 2, '980': 2, '384': 2, '246': 2, '448': 2, '653': 2, '149': 2, '735': 2, '194': 2, '147': 2, '27': 2, '880': 2, '683': 2, '417': 2, '131': 2, '914': 2, '360': 2, '36': 2, '645': 2, '110': 2, '944': 2, '941': 2, '52': 2, '657': 2, '542': 2, '422': 2, '615': 2, '279': 2, '500': 2, '875': 2, '23': 2, '58': 2, '975': 2, '885': 1, '366': 1, '217': 1, '160': 1, '911': 1, '791': 1, '365': 1, '939': 1, '145': 1, '839': 1, '389': 1, '143': 1, 'V67': 1, '219': 1, '325': 1, '994': 1, '207': 1, '637': 1, '373': 1, '827': 1, 'V60': 1, '640': 1, '671': 1, '906': 1, '834': 1, '691': 1, '250.51': 1, '955': 1, '838': 1, 'V43': 1, '216': 1, '477': 1, '318': 1, '471': 1, '982': 1, '375': 1, '347': 1, '870': 1, '148': 1, '61': 1, '817': 1, '684': 1, '314': 1, '57': 1, '915': 1, '988': 1, '842': 1, 'V25': 1, '412': 1, '363': 1, '957': 1, '976': 1, '698': 1, '299': 1, '700': 1, '974': 1, '97': 1, '98': 1, '605': 1, '84': 1, '837': 1, '895': 1, '523': 1, '114': 1, '543': 1, '372': 1, 'V70': 1, 'E909': 1, 'V07': 1, '903': 1, '919': 1, '381': 1, '804': 1, '704': 1, '649': 1, '832': 1, '133': 1, '833': 1, '391': 1, '690': 1, '10': 1, 'V51': 1})\n",
            "Counter({'276': 6752, '428': 6662, '250': 6071, '427': 5036, '401': 3736, '496': 3305, '599': 3288, '403': 2823, '414': 2650, '411': 2566, '250.02': 2074, '707': 1999, '585': 1871, '584': 1649, '491': 1545, '250.01': 1523, '285': 1520, '780': 1491, '425': 1434, '682': 1433, '486': 1379, '518': 1355, '424': 1071, '413': 1042, '250.6': 895, '493': 881, '305': 702, '786': 644, '280': 606, '998': 571, '410': 549, '511': 519, '785': 516, '38': 475, '996': 454, '272': 420, '571': 414, '197': 410, 'V45': 408, '295': 408, '440': 406, '577': 401, '162': 401, '560': 394, '788': 389, '997': 381, '41': 379, '?': 358, '578': 350, '574': 346, '453': 346, '789': 343, '648': 338, '402': 335, '198': 320, '799': 315, '287': 311, '426': 301, '530': 290, '303': 287, '70': 273, '278': 270, 'V42': 264, '438': 263, '730': 246, '250.03': 233, '591': 233, '250.41': 228, '790': 225, '342': 223, '492': 222, '196': 213, '787': 208, '250.8': 205, '404': 203, '112': 201, '250.92': 201, '8': 199, '536': 198, '507': 195, '535': 193, '434': 187, '733': 186, '784': 185, '202': 182, '396': 179, '250.82': 177, '569': 175, '304': 171, '263': 171, '250.4': 170, 'V85': 169, '284': 168, '710': 165, '296': 165, '515': 162, '294': 157, 'V58': 157, '244': 151, '433': 150, '300': 147, '458': 145, '724': 144, '562': 142, '348': 140, '722': 139, '590': 134, '250.7': 130, 'V43': 130, '728': 130, 'V15': 128, '781': 123, '715': 122, '593': 122, '340': 119, '286': 117, '204': 117, '135': 115, '995': 114, 'E878': 113, 'E885': 112, 'E888': 109, '558': 108, '331': 108, '153': 107, '415': 107, '466': 107, '444': 106, '482': 106, '250.13': 104, '250.42': 103, '412': 102, 'V10': 101, '292': 97, '250.12': 96, '416': 96, '242': 94, '250.81': 94, '435': 93, '567': 92, '729': 92, '203': 90, '719': 90, '157': 85, '42': 85, '576': 84, '572': 83, '311': 82, '581': 80, '564': 80, '731': 80, '250.11': 79, '805': 79, '357': 78, 'V54': 78, '553': 77, '592': 77, '456': 76, '293': 76, '443': 76, '288': 75, '782': 74, '291': 74, '255': 69, '437': 69, '568': 69, '397': 68, '595': 67, 'V12': 67, '344': 67, '250.51': 66, 'V62': 66, '250.5': 65, '575': 64, '301': 64, '721': 62, '277': 61, '794': 60, '596': 60, '205': 58, '723': 58, '250.52': 56, '465': 55, '820': 55, '211': 54, 'E849': 54, '459': 53, '490': 53, '337': 52, '309': 51, '282': 50, '290': 49, '552': 49, '189': 48, '625': 47, '512': 46, '573': 46, '531': 46, '808': 46, '807': 46, '154': 45, '218': 44, '711': 43, '345': 43, '332': 43, '253': 42, '441': 41, '289': 41, '873': 41, '398': 39, '250.83': 39, '714': 39, '681': 39, '481': 39, '473': 39, 'V49': 39, '812': 39, 'E932': 38, '250.22': 38, '600': 38, '557': 38, '250.43': 37, '327': 36, '150': 35, '618': 35, '349': 35, '275': 35, '999': 34, 'E942': 34, '155': 33, '53': 32, '446': 32, '451': 32, '455': 32, '429': 32, '519': 30, '537': 30, '478': 30, '850': 30, '362': 30, 'V63': 30, '358': 29, '620': 29, '79': 29, '516': 29, '174': 27, '626': 27, '642': 27, '726': 27, '185': 27, 'V64': 27, '447': 26, '274': 26, '727': 26, '532': 26, '94': 26, '250.53': 25, '420': 25, '738': 25, '436': 25, '802': 25, '783': 24, 'E935': 24, '151': 24, '920': 24, '924': 24, '312': 24, 'V65': 23, '813': 23, '611': 23, '616': 23, '680': 23, '250.93': 22, '432': 22, '368': 22, '386': 22, '138': 22, '601': 22, '346': 22, '555': 22, '566': 21, '583': 21, '716': 21, '394': 21, 'E947': 21, '421': 21, '252': 21, 'E884': 21, '283': 20, '201': 20, '614': 20, '617': 20, '860': 20, '298': 20, '821': 20, 'E879': 20, '200': 19, 'E880': 19, '824': 19, '319': 18, '281': 18, '753': 18, '736': 18, '556': 18, '487': 18, '250.1': 17, '238': 17, '462': 16, '852': 16, '333': 16, '423': 16, '431': 16, '746': 16, '156': 16, '442': 16, '261': 16, '958': 15, '550': 15, '745': 15, '840': 15, 'E928': 15, '338': 15, '607': 14, '191': 14, '696': 14, '570': 14, '359': 14, '823': 14, '183': 14, '382': 13, 'E939': 13, '378': 13, '199': 13, 'V72': 13, '356': 13, '756': 13, '152': 13, '307': 13, '262': 13, '816': 12, '314': 12, '627': 12, '233': 12, '792': 12, '718': 12, '250.2': 12, '905': 12, '494': 12, '959': 12, '40': 12, '540': 12, '514': 12, '881': 11, 'V44': 11, '279': 11, 'E944': 11, '510': 11, 'V46': 11, '241': 11, '737': 11, '517': 11, '693': 11, '717': 11, '335': 11, '867': 10, '34': 10, '117': 10, '354': 10, 'E950': 10, '54': 10, '317': 10, '485': 10, 'E934': 10, '188': 10, '608': 10, 'V09': 10, '461': 10, '706': 10, '586': 10, '251': 10, '260': 10, '861': 9, 'V57': 9, 'V17': 9, '825': 9, '579': 9, '324': 9, '565': 9, '923': 9, '709': 9, '741': 9, '533': 9, '250.91': 8, 'E812': 8, '220': 8, '621': 8, '172': 8, '208': 8, '922': 8, 'V18': 8, '380': 8, '273': 8, 'E930': 8, '214': 8, '705': 8, '299': 8, '365': 8, '110': 8, '796': 8, '845': 8, '524': 8, '266': 8, '883': 8, '836': 8, '750': 8, '369': 7, '250.9': 7, '758': 7, '646': 7, '701': 7, '452': 7, '9': 7, '882': 7, 'V08': 7, '322': 7, '594': 7, '528': 7, '457': 7, 'E936': 7, '892': 7, 'V70': 7, '619': 7, '759': 6, '847': 6, '227': 6, '297': 6, '910': 6, '508': 6, '136': 6, '891': 6, '791': 6, '336': 6, '343': 6, '969': 6, '864': 6, '604': 6, '389': 6, '934': 6, '430': 6, '454': 6, '684': 6, '712': 6, '713': 6, '686': 6, '694': 6, 'E927': 6, 'E917': 6, '685': 6, '245': 5, '372': 5, 'E937': 5, '480': 5, '513': 5, '598': 5, '225': 5, 'V66': 5, '623': 5, '909': 5, 'E933': 5, '647': 5, '844': 5, '250.33': 5, '588': 5, '907': 5, '323': 5, '851': 5, '692': 5, '521': 5, '500': 5, '868': 5, '310': 5, '495': 5, '747': 5, '644': 5, '698': 5, '865': 5, '793': 5, '258': 4, '484': 4, '921': 4, 'E858': 4, '306': 4, '31': 4, '725': 4, '501': 4, '522': 4, '193': 4, '320': 4, '826': 4, '810': 4, '250.32': 4, '652': 4, '422': 4, '355': 4, '801': 4, '250.21': 4, '246': 4, '989': 4, '664': 4, 'E881': 4, '527': 4, '831': 4, '806': 4, 'V02': 4, '822': 4, '360': 4, '405': 3, '250.23': 3, '470': 3, 'E870': 3, 'V23': 3, '377': 3, '933': 3, '603': 3, '217': 3, 'V14': 3, 'E931': 3, 'E924': 3, '383': 3, '131': 3, '448': 3, '691': 3, '351': 3, '259': 3, '919': 3, '945': 3, '239': 3, '308': 3, '742': 3, '373': 3, '870': 3, '913': 3, '965': 3, '751': 3, '659': 3, '815': 3, '463': 3, '837': 3, '11': 3, 'E905': 3, '379': 3, '376': 3, '477': 3, '656': 3, '842': 3, 'E887': 3, '27': 3, '542': 3, '972': 3, '862': 3, '645': 3, '395': 3, 'E816': 3, 'E906': 3, '991': 3, '228': 2, '78': 2, '179': 2, '661': 2, '352': 2, '911': 2, 'V61': 2, '872': 2, '967': 2, '814': 2, '695': 2, '918': 2, 'V53': 2, '341': 2, '483': 2, '906': 2, 'E941': 2, '226': 2, '795': 2, '663': 2, '755': 2, '869': 2, 'V11': 2, '543': 2, '474': 2, '472': 2, '464': 2, '992': 2, '916': 2, '980': 2, '622': 2, '381': 2, '610': 2, 'E814': 2, '634': 2, '75': 2, '240': 2, '602': 2, 'V16': 2, '171': 2, '269': 2, '952': 2, '366': 2, 'E916': 2, '866': 2, 'E819': 2, '654': 2, '318': 2, '641': 2, '797': 2, '250.3': 2, '534': 2, '141': 2, '215': 2, 'E853': 2, 'E821': 2, 'V55': 2, '853': 2, 'V86': 2, '649': 2, '271': 1, 'E915': 1, '223': 1, '658': 1, '704': 1, 'E890': 1, 'E817': 1, '580': 1, '752': 1, '5': 1, '250.31': 1, '947': 1, '520': 1, '182': 1, '974': 1, 'E929': 1, '912': 1, '702': 1, '111': 1, '977': 1, '915': 1, '683': 1, '953': 1, 'E900': 1, '506': 1, '615': 1, '833': 1, '962': 1, '908': 1, '811': 1, '325': 1, '917': 1, 'E965': 1, 'E813': 1, '173': 1, '137': 1, '475': 1, '754': 1, '968': 1, '734': 1, '130': 1, '846': 1, '163': 1, 'E868': 1, 'E854': 1, '832': 1, '605': 1, '35': 1, 'E918': 1, '46': 1, 'V13': 1, 'E850': 1, '800': 1, '164': 1, '232': 1, '990': 1, '52': 1, 'E829': 1, 'E919': 1, '944': 1, '963': 1, '316': 1, '347': 1, '374': 1, '748': 1, '256': 1, '186': 1, '975': 1, '96': 1, '994': 1, 'E826': 1, '879': 1, '674': 1, '145': 1, '353': 1, 'E938': 1, '948': 1, '987': 1, '99': 1, '192': 1, '115': 1, 'E818': 1, 'E980': 1, '529': 1, '871': 1, '212': 1, '302': 1, '955': 1, '88': 1, 'V25': 1, '350': 1, 'V50': 1, 'V03': 1, 'E968': 1, 'E882': 1, '140': 1, '703': 1, '893': 1, '235': 1, 'V69': 1, '670': 1, '195': 1, '388': 1, '268': 1, '894': 1, '114': 1, '7': 1, '880': 1, '180': 1, 'E945': 1, '523': 1, '863': 1, '270': 1, '665': 1, '460': 1, '942': 1, '364': 1, '66': 1, 'E883': 1, '123': 1, '884': 1, 'V60': 1, '843': 1, '927': 1})\n",
            "Counter({'250': 11555, '401': 8289, '276': 5175, '428': 4577, '427': 3955, '414': 3664, '496': 2605, '403': 2357, '585': 1992, '272': 1969, '599': 1941, '?': 1423, 'V45': 1389, '250.02': 1369, '707': 1360, '780': 1334, '285': 1200, '425': 1136, '250.6': 1080, '424': 1063, '584': 963, '305': 924, '250.01': 915, '682': 887, '518': 854, '41': 727, '493': 694, '278': 680, '530': 625, '786': 584, '491': 574, '486': 568, '244': 540, 'V58': 501, '250.4': 429, '411': 399, '280': 398, '357': 394, '785': 388, '287': 388, '197': 385, '511': 380, '402': 375, '787': 358, '788': 353, '412': 346, '593': 339, 'V15': 334, '413': 329, '438': 318, '998': 316, '250.8': 316, '294': 315, '799': 312, '571': 310, '560': 306, '295': 305, '995': 299, '997': 298, '789': 290, '535': 285, '458': 285, '996': 281, '70': 281, '426': 272, '536': 267, '263': 252, '578': 250, 'V42': 243, '300': 241, 'V10': 239, '198': 238, '784': 236, '396': 229, '440': 221, 'E849': 219, '311': 217, '715': 214, '296': 214, 'V43': 211, '453': 211, '410': 209, '303': 207, '112': 206, '443': 205, 'V12': 204, '733': 201, '250.41': 199, '790': 194, '8': 190, '562': 189, '730': 186, '331': 185, '162': 181, '416': 170, '492': 169, 'E878': 164, '342': 164, '38': 162, '304': 159, '515': 155, '397': 150, '250.92': 149, '577': 149, '724': 148, '729': 147, '433': 143, '553': 141, '250.7': 141, '591': 140, '284': 138, '574': 136, '250.03': 134, '781': 133, '466': 132, 'E888': 131, '250.42': 130, '250.51': 128, '564': 127, '731': 126, '286': 125, '404': 124, '202': 122, '722': 121, '782': 119, 'E885': 117, '250.82': 113, '288': 113, '250.5': 111, '794': 110, '710': 109, '558': 108, '569': 107, '648': 107, '728': 107, '196': 105, '459': 104, '211': 100, '581': 97, '337': 97, '719': 96, 'V85': 96, '583': 92, '301': 89, '332': 88, '596': 88, '348': 87, '437': 87, 'V09': 86, '507': 84, '275': 84, '714': 83, '455': 81, '293': 81, '290': 81, '327': 80, '600': 79, '716': 77, '242': 77, '681': 75, '250.52': 74, 'E932': 71, '465': 71, '255': 69, '274': 68, '203': 67, '362': 66, '429': 66, '204': 66, '592': 65, '292': 64, '135': 64, '568': 62, '340': 60, 'V46': 60, '250.43': 59, 'E879': 59, '344': 59, '435': 58, 'V54': 58, '473': 57, '783': 57, '482': 56, '490': 56, '434': 56, '153': 55, '441': 54, 'V49': 54, '218': 53, '721': 53, '573': 52, 'E942': 52, '595': 51, '572': 51, '185': 51, '531': 50, '250.81': 50, '625': 49, '253': 47, '590': 47, '79': 46, '576': 45, '309': 45, 'V64': 45, '199': 45, '444': 44, '291': 43, '575': 43, '174': 43, '517': 42, '282': 41, '924': 40, '250.12': 39, '289': 39, '345': 39, '447': 39, '873': 38, 'E947': 38, '456': 38, '157': 38, '277': 38, '298': 38, 'V27': 37, '512': 37, '281': 36, '238': 36, '807': 36, '250.53': 35, '346': 34, '726': 34, '415': 33, '519': 33, '642': 33, '368': 33, '338': 33, '478': 32, '812': 32, '614': 31, '537': 31, '723': 31, '333': 31, '727': 31, '618': 30, 'E935': 30, '626': 30, '620': 29, '555': 29, 'V62': 29, '616': 28, '532': 28, '446': 28, '398': 28, '805': 27, '319': 27, 'V44': 27, '189': 27, '659': 27, '999': 26, '588': 26, '356': 26, 'E880': 26, '711': 25, '617': 25, '53': 25, '423': 25, '369': 25, 'E884': 24, '252': 24, '442': 24, '920': 24, 'V65': 24, '533': 23, '42': 23, '567': 23, '696': 23, '738': 23, '736': 22, 'E934': 22, 'V17': 22, '959': 22, '457': 22, '461': 21, '138': 21, '94': 21, '824': 21, 'E812': 21, '737': 20, '250.83': 20, '601': 20, '386': 20, '802': 20, 'E939': 20, '110': 20, 'E944': 20, '250.1': 20, '813': 19, '365': 19, '343': 19, 'V08': 19, '745': 19, '205': 19, '808': 19, 'V66': 18, '355': 18, '820': 18, '646': 18, '250.11': 18, '627': 17, '394': 17, '487': 17, 'E950': 17, '923': 17, '266': 17, '611': 17, '358': 17, '462': 17, '349': 16, '307': 16, '905': 16, 'E933': 16, '709': 16, '792': 16, '477': 16, '556': 16, '693': 16, '725': 16, '922': 16, '753': 15, '586': 15, '250.22': 15, 'V18': 15, '692': 15, '552': 15, 'E930': 15, '188': 15, '261': 15, '54': 14, '664': 14, '382': 14, '598': 14, '663': 14, '250.93': 14, '791': 14, '494': 14, '713': 14, '312': 14, '183': 14, '654': 13, '608': 13, '570': 13, '557': 13, '516': 13, '150': 13, '389': 13, '454': 13, '621': 13, '840': 13, '521': 13, '796': 13, '501': 13, 'V63': 13, '154': 13, '514': 13, '582': 12, '201': 12, 'V14': 12, '155': 12, '250.13': 12, '522': 12, '647': 12, '310': 12, 'E931': 12, '283': 12, '273': 12, '378': 12, '680': 12, '656': 11, '694': 11, '351': 11, '317': 11, '686': 11, '916': 11, '420': 10, '380': 10, '698': 10, '883': 10, '958': 10, '279': 10, '208': 10, 'E928': 10, '823': 10, '607': 10, '867': 10, '151': 10, '432': 10, '969': 10, '241': 10, '836': 9, '594': 9, '580': 9, '746': 9, '718': 9, '250.9': 9, 'E816': 9, '845': 9, '405': 9, '907': 9, '695': 9, '451': 9, '354': 9, '579': 9, '200': 9, '260': 9, '892': 9, '318': 9, '741': 9, '747': 9, 'E881': 9, '436': 8, '704': 8, '610': 8, '793': 8, '945': 8, '705': 8, '372': 8, '250.2': 8, '962': 8, 'V55': 8, '861': 8, 'V72': 8, 'E819': 8, '262': 8, '649': 8, '658': 7, '117': 7, 'E929': 7, 'V57': 7, '228': 7, 'V16': 7, '270': 7, '251': 7, '712': 7, 'V53': 7, '708': 7, 'E870': 7, '383': 7, '965': 7, '652': 7, '825': 7, '717': 7, 'E936': 7, '359': 7, 'E927': 7, '225': 7, '179': 7, '991': 7, '431': 7, '131': 6, '810': 6, '644': 6, '882': 6, '660': 6, '250.91': 6, '881': 6, '605': 6, '379': 6, '821': 6, '934': 6, 'E938': 6, '227': 6, '756': 6, '366': 6, '701': 6, '34': 6, '246': 6, '619': 6, '758': 6, '527': 6, '860': 6, '917': 6, '239': 6, '909': 6, 'E887': 6, '297': 6, 'E937': 6, '421': 6, '891': 5, '182': 5, '752': 5, '334': 5, '665': 5, '336': 5, '240': 5, '623': 5, '472': 5, '506': 5, '566': 5, '191': 5, '751': 5, '908': 5, 'E850': 5, '508': 5, '742': 5, '464': 5, '9': 5, 'E941': 5, '306': 5, '847': 5, '220': 5, '256': 5, '815': 5, '481': 5, '233': 5, '172': 5, '163': 5, 'E906': 5, '510': 5, 'V61': 5, '913': 5, 'V13': 5, 'V03': 5, '388': 5, '653': 4, '565': 4, '35': 4, '313': 4, 'V23': 4, '528': 4, '495': 4, '452': 4, '865': 4, '259': 4, '921': 4, '323': 4, '826': 4, '235': 4, '661': 4, '170': 4, '831': 4, '180': 4, '801': 4, '335': 4, 'V02': 4, '543': 4, '906': 4, 'E858': 4, '915': 4, '299': 4, 'E917': 4, '604': 4, '347': 4, '910': 4, 'V60': 4, '850': 4, '250.21': 4, '171': 4, '156': 4, '523': 4, '500': 4, '550': 4, 'E818': 4, '141': 4, '529': 3, '525': 3, '703': 3, '258': 3, '866': 3, '373': 3, 'E920': 3, '245': 3, 'E956': 3, '314': 3, '534': 3, '655': 3, '816': 3, '78': 3, '912': 3, 'E980': 3, 'E943': 3, '919': 3, '685': 3, 'E905': 3, '759': 3, '214': 3, '842': 3, '445': 3, '5': 3, '851': 3, '966': 3, 'E916': 3, '852': 3, '862': 3, '470': 3, '161': 3, '844': 3, '417': 3, '152': 3, '933': 3, '720': 3, '132': 3, '353': 3, 'V86': 3, '268': 3, 'V70': 2, '918': 2, '250.23': 2, 'V11': 2, '139': 2, 'V25': 2, '706': 2, '136': 2, '480': 2, '734': 2, '11': 2, '670': 2, '953': 2, 'E817': 2, '641': 2, '341': 2, '735': 2, '943': 2, '967': 2, '350': 2, '854': 2, '643': 2, '360': 2, '690': 2, '271': 2, 'E852': 2, '864': 2, '384': 2, '88': 2, 'E924': 2, '377': 2, '797': 2, '7': 2, '956': 2, '3': 2, '173': 2, '250.3': 2, 'E855': 2, '460': 2, '870': 2, '216': 2, '814': 2, 'E919': 2, '597': 2, '868': 2, '483': 2, '374': 2, '192': 2, '376': 2, '911': 2, 'E813': 2, '795': 2, '430': 2, '800': 2, 'E946': 2, '822': 2, '848': 2, '989': 2, 'E901': 2, '702': 2, '948': 2, '223': 2, '928': 2, '624': 2, 'V06': 2, '315': 1, '75': 1, '602': 1, 'E949': 1, '890': 1, '122': 1, '387': 1, 'E945': 1, 'E904': 1, '47': 1, '27': 1, 'E861': 1, '524': 1, '732': 1, '951': 1, '697': 1, '308': 1, 'E883': 1, '744': 1, 'V22': 1, '811': 1, '970': 1, '395': 1, '243': 1, 'E876': 1, '158': 1, '871': 1, '972': 1, 'E965': 1, '193': 1, '987': 1, '115': 1, '17': 1, '265': 1, '66': 1, '944': 1, '385': 1, '164': 1, '935': 1, '485': 1, '872': 1, '195': 1, '884': 1, 'E815': 1, '542': 1, '853': 1, 'E882': 1, 'E822': 1, '754': 1, '992': 1, '657': 1, '684': 1, '603': 1, 'E826': 1, '755': 1, '361': 1, '186': 1, '250.31': 1, '674': 1, '226': 1, '365.44': 1, '146': 1, '955': 1, 'E894': 1, '475': 1, '880': 1, '930': 1, 'E915': 1, '381': 1, '893': 1, 'V01': 1, 'E853': 1, '863': 1, '540': 1, 'E828': 1, 'E865': 1, '148': 1, '879': 1, 'E966': 1, '111': 1, 'E922': 1, '123': 1, '757': 1, 'E892': 1, '484': 1, 'E886': 1, '838': 1, '236': 1, '837': 1, 'E987': 1, 'V07': 1, '841': 1, '622': 1, 'E912': 1, 'E955': 1, '463': 1, 'E864': 1, '217': 1, '877': 1, '391': 1, 'E825': 1, '952': 1, '669': 1, '875': 1, 'E900': 1, '215': 1, '538': 1, '980': 1, '834': 1, '448': 1, '175': 1, '49': 1, '876': 1, '230': 1, '57': 1, 'E854': 1, '942': 1, '14': 1, '750': 1, '370': 1, '671': 1, '971': 1})\n"
          ],
          "name": "stdout"
        }
      ]
    },
    {
      "cell_type": "code",
      "metadata": {
        "id": "p0GRGIXaJp2A",
        "colab_type": "code",
        "outputId": "642e8d63-e9de-4128-c3ec-ada56a939a62",
        "colab": {
          "base_uri": "https://localhost:8080/",
          "height": 68
        }
      },
      "source": [
        "print(Counter(obj_df['diag_1']=='?'))\n",
        "print(Counter(obj_df['diag_2']=='?'))\n",
        "print(Counter(obj_df['diag_3']=='?'))"
      ],
      "execution_count": 31,
      "outputs": [
        {
          "output_type": "stream",
          "text": [
            "Counter({False: 101745, True: 21})\n",
            "Counter({False: 101408, True: 358})\n",
            "Counter({False: 100343, True: 1423})\n"
          ],
          "name": "stdout"
        }
      ]
    },
    {
      "cell_type": "code",
      "metadata": {
        "id": "NBd45CHVKAOZ",
        "colab_type": "code",
        "colab": {}
      },
      "source": [
        "obj_df['diag_1'].replace({'?':'428'}, inplace=True)\n",
        "obj_df['diag_2'].replace({'?':'276'}, inplace=True)\n",
        "obj_df['diag_3'].replace({'?':'250'}, inplace=True)"
      ],
      "execution_count": 0,
      "outputs": []
    },
    {
      "cell_type": "markdown",
      "metadata": {
        "id": "zNOZoyV7Rbby",
        "colab_type": "text"
      },
      "source": [
        "### visualizing each column"
      ]
    },
    {
      "cell_type": "code",
      "metadata": {
        "id": "f72Gd7GkHUrS",
        "colab_type": "code",
        "outputId": "20655faf-a47b-438b-e85f-3d81f61b4a0b",
        "colab": {
          "base_uri": "https://localhost:8080/",
          "height": 301
        }
      },
      "source": [
        "sns.countplot(x = 'max_glu_serum',data = obj_df)"
      ],
      "execution_count": 100,
      "outputs": [
        {
          "output_type": "execute_result",
          "data": {
            "text/plain": [
              "<matplotlib.axes._subplots.AxesSubplot at 0x7feda10b7e48>"
            ]
          },
          "metadata": {
            "tags": []
          },
          "execution_count": 100
        },
        {
          "output_type": "display_data",
          "data": {
            "image/png": "[encoded data removed]",
            "text/plain": [
              "<Figure size 432x288 with 1 Axes>"
            ]
          },
          "metadata": {
            "tags": []
          }
        }
      ]
    },
    {
      "cell_type": "code",
      "metadata": {
        "id": "PRkX98OOPBqu",
        "colab_type": "code",
        "outputId": "2e44c491-7622-4711-ef98-3d61bda14820",
        "colab": {
          "base_uri": "https://localhost:8080/",
          "height": 300
        }
      },
      "source": [
        "sns.countplot(x = 'tolbutamide',data = obj_df)"
      ],
      "execution_count": 34,
      "outputs": [
        {
          "output_type": "execute_result",
          "data": {
            "text/plain": [
              "<matplotlib.axes._subplots.AxesSubplot at 0x7feda7ba46a0>"
            ]
          },
          "metadata": {
            "tags": []
          },
          "execution_count": 34
        },
        {
          "output_type": "display_data",
          "data": {
            "image/png": "[encoded data removed]",
            "text/plain": [
              "<Figure size 432x288 with 1 Axes>"
            ]
          },
          "metadata": {
            "tags": []
          }
        }
      ]
    },
    {
      "cell_type": "code",
      "metadata": {
        "id": "xMHwCOrIPAwb",
        "colab_type": "code",
        "outputId": "7d2e1686-d844-4f2d-b6a7-576dd2533796",
        "colab": {
          "base_uri": "https://localhost:8080/",
          "height": 300
        }
      },
      "source": [
        "sns.countplot(x = 'repaglinide',data = obj_df)"
      ],
      "execution_count": 35,
      "outputs": [
        {
          "output_type": "execute_result",
          "data": {
            "text/plain": [
              "<matplotlib.axes._subplots.AxesSubplot at 0x7feda7b66c88>"
            ]
          },
          "metadata": {
            "tags": []
          },
          "execution_count": 35
        },
        {
          "output_type": "display_data",
          "data": {
            "image/png": "[encoded data removed]",
            "text/plain": [
              "<Figure size 432x288 with 1 Axes>"
            ]
          },
          "metadata": {
            "tags": []
          }
        }
      ]
    },
    {
      "cell_type": "code",
      "metadata": {
        "id": "3N2HEce6PDtM",
        "colab_type": "code",
        "outputId": "2fb72bdf-a127-41d5-b480-a30e1a437e10",
        "colab": {
          "base_uri": "https://localhost:8080/",
          "height": 300
        }
      },
      "source": [
        "sns.countplot(x = 'glimepiride',data = obj_df)"
      ],
      "execution_count": 36,
      "outputs": [
        {
          "output_type": "execute_result",
          "data": {
            "text/plain": [
              "<matplotlib.axes._subplots.AxesSubplot at 0x7feda7b22a20>"
            ]
          },
          "metadata": {
            "tags": []
          },
          "execution_count": 36
        },
        {
          "output_type": "display_data",
          "data": {
            "image/png": "[encoded data removed]",
            "text/plain": [
              "<Figure size 432x288 with 1 Axes>"
            ]
          },
          "metadata": {
            "tags": []
          }
        }
      ]
    },
    {
      "cell_type": "code",
      "metadata": {
        "id": "PmwpmOH7PUEw",
        "colab_type": "code",
        "outputId": "7610ac95-a837-43e9-a6f2-8d8b17eb6b77",
        "colab": {
          "base_uri": "https://localhost:8080/",
          "height": 300
        }
      },
      "source": [
        "sns.countplot(x = 'insulin',data = obj_df)"
      ],
      "execution_count": 37,
      "outputs": [
        {
          "output_type": "execute_result",
          "data": {
            "text/plain": [
              "<matplotlib.axes._subplots.AxesSubplot at 0x7feda7afdcc0>"
            ]
          },
          "metadata": {
            "tags": []
          },
          "execution_count": 37
        },
        {
          "output_type": "display_data",
          "data": {
            "image/png": "[encoded data removed]",
            "text/plain": [
              "<Figure size 432x288 with 1 Axes>"
            ]
          },
          "metadata": {
            "tags": []
          }
        }
      ]
    },
    {
      "cell_type": "code",
      "metadata": {
        "id": "Fj14X2ifQl_I",
        "colab_type": "code",
        "outputId": "51197978-90c7-46d3-c021-4003d000fd66",
        "colab": {
          "base_uri": "https://localhost:8080/",
          "height": 300
        }
      },
      "source": [
        "sns.countplot(x = 'change',data = obj_df)"
      ],
      "execution_count": 38,
      "outputs": [
        {
          "output_type": "execute_result",
          "data": {
            "text/plain": [
              "<matplotlib.axes._subplots.AxesSubplot at 0x7feda7a4e710>"
            ]
          },
          "metadata": {
            "tags": []
          },
          "execution_count": 38
        },
        {
          "output_type": "display_data",
          "data": {
            "image/png": "[encoded data removed]",
            "text/plain": [
              "<Figure size 432x288 with 1 Axes>"
            ]
          },
          "metadata": {
            "tags": []
          }
        }
      ]
    },
    {
      "cell_type": "code",
      "metadata": {
        "id": "igzt_vf5QtAc",
        "colab_type": "code",
        "outputId": "61b7ad33-b295-427f-e234-a0affaa74a88",
        "colab": {
          "base_uri": "https://localhost:8080/",
          "height": 300
        }
      },
      "source": [
        "sns.countplot(x = 'diabetesMed',data = obj_df)"
      ],
      "execution_count": 39,
      "outputs": [
        {
          "output_type": "execute_result",
          "data": {
            "text/plain": [
              "<matplotlib.axes._subplots.AxesSubplot at 0x7feda7a8a6a0>"
            ]
          },
          "metadata": {
            "tags": []
          },
          "execution_count": 39
        },
        {
          "output_type": "display_data",
          "data": {
            "image/png": "[encoded data removed]",
            "text/plain": [
              "<Figure size 432x288 with 1 Axes>"
            ]
          },
          "metadata": {
            "tags": []
          }
        }
      ]
    },
    {
      "cell_type": "code",
      "metadata": {
        "id": "nvCDKrv6RA1D",
        "colab_type": "code",
        "outputId": "483378ce-bddd-4dac-8a59-132fc2d6b6eb",
        "colab": {
          "base_uri": "https://localhost:8080/",
          "height": 300
        }
      },
      "source": [
        "sns.countplot(x = 'A1Cresult',data = obj_df)"
      ],
      "execution_count": 40,
      "outputs": [
        {
          "output_type": "execute_result",
          "data": {
            "text/plain": [
              "<matplotlib.axes._subplots.AxesSubplot at 0x7feda79cee80>"
            ]
          },
          "metadata": {
            "tags": []
          },
          "execution_count": 40
        },
        {
          "output_type": "display_data",
          "data": {
            "image/png": "[encoded data removed]",
            "text/plain": [
              "<Figure size 432x288 with 1 Axes>"
            ]
          },
          "metadata": {
            "tags": []
          }
        }
      ]
    },
    {
      "cell_type": "code",
      "metadata": {
        "id": "Y2JGjfwFPhOX",
        "colab_type": "code",
        "colab": {}
      },
      "source": [
        "obj_df.drop(['metformin', 'repaglinide', 'nateglinide', 'chlorpropamide', 'glimepiride', \n",
        "           'acetohexamide', 'glipizide', 'glyburide', 'tolbutamide', 'pioglitazone', \n",
        "           'rosiglitazone', 'acarbose', 'miglitol', 'troglitazone', 'tolazamide', 'examide', \n",
        "           'citoglipton', 'glyburide-metformin', 'glipizide-metformin', 'glimepiride-pioglitazone',\n",
        "           'metformin-rosiglitazone', 'metformin-pioglitazone'], axis=1, inplace=True)"
      ],
      "execution_count": 0,
      "outputs": []
    },
    {
      "cell_type": "markdown",
      "metadata": {
        "id": "W2WRAtXIriQr",
        "colab_type": "text"
      },
      "source": [
        "## Data preprocessing"
      ]
    },
    {
      "cell_type": "code",
      "metadata": {
        "id": "ZmVMegQUFHJD",
        "colab_type": "code",
        "outputId": "f65f4af6-5796-432b-9c39-d38e5d20eeb5",
        "colab": {
          "base_uri": "https://localhost:8080/",
          "height": 204
        }
      },
      "source": [
        "obj_df.head()"
      ],
      "execution_count": 42,
      "outputs": [
        {
          "output_type": "execute_result",
          "data": {
            "text/html": [
              "<div>\n",
              "<style scoped>\n",
              "    .dataframe tbody tr th:only-of-type {\n",
              "        vertical-align: middle;\n",
              "    }\n",
              "\n",
              "    .dataframe tbody tr th {\n",
              "        vertical-align: top;\n",
              "    }\n",
              "\n",
              "    .dataframe thead th {\n",
              "        text-align: right;\n",
              "    }\n",
              "</style>\n",
              "<table border=\"1\" class=\"dataframe\">\n",
              "  <thead>\n",
              "    <tr style=\"text-align: right;\">\n",
              "      <th></th>\n",
              "      <th>race</th>\n",
              "      <th>gender</th>\n",
              "      <th>age</th>\n",
              "      <th>diag_1</th>\n",
              "      <th>diag_2</th>\n",
              "      <th>diag_3</th>\n",
              "      <th>max_glu_serum</th>\n",
              "      <th>A1Cresult</th>\n",
              "      <th>insulin</th>\n",
              "      <th>change</th>\n",
              "      <th>diabetesMed</th>\n",
              "      <th>readmitted</th>\n",
              "    </tr>\n",
              "  </thead>\n",
              "  <tbody>\n",
              "    <tr>\n",
              "      <th>0</th>\n",
              "      <td>Caucasian</td>\n",
              "      <td>Female</td>\n",
              "      <td>5</td>\n",
              "      <td>250.83</td>\n",
              "      <td>276</td>\n",
              "      <td>250</td>\n",
              "      <td>None</td>\n",
              "      <td>None</td>\n",
              "      <td>No</td>\n",
              "      <td>No</td>\n",
              "      <td>No</td>\n",
              "      <td>NO</td>\n",
              "    </tr>\n",
              "    <tr>\n",
              "      <th>1</th>\n",
              "      <td>Caucasian</td>\n",
              "      <td>Female</td>\n",
              "      <td>15</td>\n",
              "      <td>276</td>\n",
              "      <td>250.01</td>\n",
              "      <td>255</td>\n",
              "      <td>None</td>\n",
              "      <td>None</td>\n",
              "      <td>Up</td>\n",
              "      <td>Ch</td>\n",
              "      <td>Yes</td>\n",
              "      <td>&gt;30</td>\n",
              "    </tr>\n",
              "    <tr>\n",
              "      <th>2</th>\n",
              "      <td>AfricanAmerican</td>\n",
              "      <td>Female</td>\n",
              "      <td>25</td>\n",
              "      <td>648</td>\n",
              "      <td>250</td>\n",
              "      <td>V27</td>\n",
              "      <td>None</td>\n",
              "      <td>None</td>\n",
              "      <td>No</td>\n",
              "      <td>No</td>\n",
              "      <td>Yes</td>\n",
              "      <td>NO</td>\n",
              "    </tr>\n",
              "    <tr>\n",
              "      <th>3</th>\n",
              "      <td>Caucasian</td>\n",
              "      <td>Male</td>\n",
              "      <td>35</td>\n",
              "      <td>8</td>\n",
              "      <td>250.43</td>\n",
              "      <td>403</td>\n",
              "      <td>None</td>\n",
              "      <td>None</td>\n",
              "      <td>Up</td>\n",
              "      <td>Ch</td>\n",
              "      <td>Yes</td>\n",
              "      <td>NO</td>\n",
              "    </tr>\n",
              "    <tr>\n",
              "      <th>4</th>\n",
              "      <td>Caucasian</td>\n",
              "      <td>Male</td>\n",
              "      <td>45</td>\n",
              "      <td>197</td>\n",
              "      <td>157</td>\n",
              "      <td>250</td>\n",
              "      <td>None</td>\n",
              "      <td>None</td>\n",
              "      <td>Steady</td>\n",
              "      <td>Ch</td>\n",
              "      <td>Yes</td>\n",
              "      <td>NO</td>\n",
              "    </tr>\n",
              "  </tbody>\n",
              "</table>\n",
              "</div>"
            ],
            "text/plain": [
              "              race  gender  age  diag_1  ... insulin change diabetesMed readmitted\n",
              "0        Caucasian  Female    5  250.83  ...      No     No          No         NO\n",
              "1        Caucasian  Female   15     276  ...      Up     Ch         Yes        >30\n",
              "2  AfricanAmerican  Female   25     648  ...      No     No         Yes         NO\n",
              "3        Caucasian    Male   35       8  ...      Up     Ch         Yes         NO\n",
              "4        Caucasian    Male   45     197  ...  Steady     Ch         Yes         NO\n",
              "\n",
              "[5 rows x 12 columns]"
            ]
          },
          "metadata": {
            "tags": []
          },
          "execution_count": 42
        }
      ]
    },
    {
      "cell_type": "code",
      "metadata": {
        "id": "55TQuJr_TBW0",
        "colab_type": "code",
        "colab": {}
      },
      "source": [
        "obj_df['readmitted'].replace({'>30':'YES','<30':'YES'}, inplace=True)"
      ],
      "execution_count": 0,
      "outputs": []
    },
    {
      "cell_type": "code",
      "metadata": {
        "id": "NY1YC4BLT6dd",
        "colab_type": "code",
        "outputId": "a5a8f2e1-9a90-476c-89cb-4b3b10a9f68b",
        "colab": {
          "base_uri": "https://localhost:8080/",
          "height": 300
        }
      },
      "source": [
        "sns.countplot(x= 'readmitted',data = obj_df)"
      ],
      "execution_count": 93,
      "outputs": [
        {
          "output_type": "execute_result",
          "data": {
            "text/plain": [
              "<matplotlib.axes._subplots.AxesSubplot at 0x7feda23a1278>"
            ]
          },
          "metadata": {
            "tags": []
          },
          "execution_count": 93
        },
        {
          "output_type": "display_data",
          "data": {
            "image/png": "[encoded data removed]",
            "text/plain": [
              "<Figure size 432x288 with 1 Axes>"
            ]
          },
          "metadata": {
            "tags": []
          }
        }
      ]
    },
    {
      "cell_type": "code",
      "metadata": {
        "id": "sCd3K93XZgRu",
        "colab_type": "code",
        "colab": {}
      },
      "source": [
        ""
      ],
      "execution_count": 0,
      "outputs": []
    },
    {
      "cell_type": "code",
      "metadata": {
        "id": "AKo16MlCXJrG",
        "colab_type": "code",
        "colab": {
          "base_uri": "https://localhost:8080/",
          "height": 68
        },
        "outputId": "c668afaa-3158-458b-9076-94f217177d93"
      },
      "source": [
        "obj_df['readmitted'].value_counts(normalize=True)"
      ],
      "execution_count": 98,
      "outputs": [
        {
          "output_type": "execute_result",
          "data": {
            "text/plain": [
              "NO     0.539119\n",
              "YES    0.460881\n",
              "Name: readmitted, dtype: float64"
            ]
          },
          "metadata": {
            "tags": []
          },
          "execution_count": 98
        }
      ]
    },
    {
      "cell_type": "code",
      "metadata": {
        "id": "elLtkqc7WP8H",
        "colab_type": "code",
        "colab": {
          "base_uri": "https://localhost:8080/",
          "height": 34
        },
        "outputId": "fcddf4ab-1d71-492d-8489-774bd5302cc9"
      },
      "source": [
        "print(Counter(obj_df['readmitted']))"
      ],
      "execution_count": 90,
      "outputs": [
        {
          "output_type": "stream",
          "text": [
            "Counter({'NO': 54864, 'YES': 46902})\n"
          ],
          "name": "stdout"
        }
      ]
    },
    {
      "cell_type": "code",
      "metadata": {
        "id": "QZKr3q6wxiOY",
        "colab_type": "code",
        "colab": {}
      },
      "source": [
        "class MultiColumnLabelEncoder:\n",
        "    def __init__(self,columns = None):\n",
        "        self.columns = columns # array of column names to encode\n",
        "\n",
        "    def fit(self,X,y=None):\n",
        "        return self # not relevant here\n",
        "\n",
        "    def transform(self,X):\n",
        "        '''\n",
        "        Transforms columns of X specified in self.columns using\n",
        "        LabelEncoder(). If no columns specified, transforms all\n",
        "        columns in X.\n",
        "        '''\n",
        "        output = X.copy()\n",
        "        if self.columns is not None:\n",
        "            for col in self.columns:\n",
        "                output[col] = LabelEncoder().fit_transform(output[col])\n",
        "        else:\n",
        "            for colname,col in output.iteritems():\n",
        "                output[colname] = LabelEncoder().fit_transform(col)\n",
        "        return output\n",
        "\n",
        "    def fit_transform(self,X,y=None):\n",
        "        return self.fit(X,y).transform(X)"
      ],
      "execution_count": 0,
      "outputs": []
    },
    {
      "cell_type": "code",
      "metadata": {
        "id": "owRHE6g7ydWN",
        "colab_type": "code",
        "colab": {}
      },
      "source": [
        "from sklearn.preprocessing import LabelEncoder\n",
        "\n",
        "obj_df2 = MultiColumnLabelEncoder().fit_transform(obj_df.drop(['diag_1','diag_2','diag_3','age'],axis=1))"
      ],
      "execution_count": 0,
      "outputs": []
    },
    {
      "cell_type": "code",
      "metadata": {
        "id": "CNxnib740w6-",
        "colab_type": "code",
        "outputId": "10a3ded9-c4c2-4243-ec6a-96a8f0bc980d",
        "colab": {
          "base_uri": "https://localhost:8080/",
          "height": 204
        }
      },
      "source": [
        "obj_df2.head()"
      ],
      "execution_count": 47,
      "outputs": [
        {
          "output_type": "execute_result",
          "data": {
            "text/html": [
              "<div>\n",
              "<style scoped>\n",
              "    .dataframe tbody tr th:only-of-type {\n",
              "        vertical-align: middle;\n",
              "    }\n",
              "\n",
              "    .dataframe tbody tr th {\n",
              "        vertical-align: top;\n",
              "    }\n",
              "\n",
              "    .dataframe thead th {\n",
              "        text-align: right;\n",
              "    }\n",
              "</style>\n",
              "<table border=\"1\" class=\"dataframe\">\n",
              "  <thead>\n",
              "    <tr style=\"text-align: right;\">\n",
              "      <th></th>\n",
              "      <th>race</th>\n",
              "      <th>gender</th>\n",
              "      <th>max_glu_serum</th>\n",
              "      <th>A1Cresult</th>\n",
              "      <th>insulin</th>\n",
              "      <th>change</th>\n",
              "      <th>diabetesMed</th>\n",
              "      <th>readmitted</th>\n",
              "    </tr>\n",
              "  </thead>\n",
              "  <tbody>\n",
              "    <tr>\n",
              "      <th>0</th>\n",
              "      <td>2</td>\n",
              "      <td>0</td>\n",
              "      <td>2</td>\n",
              "      <td>2</td>\n",
              "      <td>1</td>\n",
              "      <td>1</td>\n",
              "      <td>0</td>\n",
              "      <td>0</td>\n",
              "    </tr>\n",
              "    <tr>\n",
              "      <th>1</th>\n",
              "      <td>2</td>\n",
              "      <td>0</td>\n",
              "      <td>2</td>\n",
              "      <td>2</td>\n",
              "      <td>3</td>\n",
              "      <td>0</td>\n",
              "      <td>1</td>\n",
              "      <td>1</td>\n",
              "    </tr>\n",
              "    <tr>\n",
              "      <th>2</th>\n",
              "      <td>0</td>\n",
              "      <td>0</td>\n",
              "      <td>2</td>\n",
              "      <td>2</td>\n",
              "      <td>1</td>\n",
              "      <td>1</td>\n",
              "      <td>1</td>\n",
              "      <td>0</td>\n",
              "    </tr>\n",
              "    <tr>\n",
              "      <th>3</th>\n",
              "      <td>2</td>\n",
              "      <td>1</td>\n",
              "      <td>2</td>\n",
              "      <td>2</td>\n",
              "      <td>3</td>\n",
              "      <td>0</td>\n",
              "      <td>1</td>\n",
              "      <td>0</td>\n",
              "    </tr>\n",
              "    <tr>\n",
              "      <th>4</th>\n",
              "      <td>2</td>\n",
              "      <td>1</td>\n",
              "      <td>2</td>\n",
              "      <td>2</td>\n",
              "      <td>2</td>\n",
              "      <td>0</td>\n",
              "      <td>1</td>\n",
              "      <td>0</td>\n",
              "    </tr>\n",
              "  </tbody>\n",
              "</table>\n",
              "</div>"
            ],
            "text/plain": [
              "   race  gender  max_glu_serum  ...  change  diabetesMed  readmitted\n",
              "0     2       0              2  ...       1            0           0\n",
              "1     2       0              2  ...       0            1           1\n",
              "2     0       0              2  ...       1            1           0\n",
              "3     2       1              2  ...       0            1           0\n",
              "4     2       1              2  ...       0            1           0\n",
              "\n",
              "[5 rows x 8 columns]"
            ]
          },
          "metadata": {
            "tags": []
          },
          "execution_count": 47
        }
      ]
    },
    {
      "cell_type": "code",
      "metadata": {
        "id": "mUjK-gc15Fp4",
        "colab_type": "code",
        "colab": {}
      },
      "source": [
        "temp = obj_df[['age','diag_1','diag_2','diag_3']]"
      ],
      "execution_count": 0,
      "outputs": []
    },
    {
      "cell_type": "code",
      "metadata": {
        "id": "MYnizHuF6J6A",
        "colab_type": "code",
        "outputId": "a72337cf-44bf-43e5-c7f2-8f575b59f215",
        "colab": {
          "base_uri": "https://localhost:8080/",
          "height": 204
        }
      },
      "source": [
        "temp.head()"
      ],
      "execution_count": 49,
      "outputs": [
        {
          "output_type": "execute_result",
          "data": {
            "text/html": [
              "<div>\n",
              "<style scoped>\n",
              "    .dataframe tbody tr th:only-of-type {\n",
              "        vertical-align: middle;\n",
              "    }\n",
              "\n",
              "    .dataframe tbody tr th {\n",
              "        vertical-align: top;\n",
              "    }\n",
              "\n",
              "    .dataframe thead th {\n",
              "        text-align: right;\n",
              "    }\n",
              "</style>\n",
              "<table border=\"1\" class=\"dataframe\">\n",
              "  <thead>\n",
              "    <tr style=\"text-align: right;\">\n",
              "      <th></th>\n",
              "      <th>age</th>\n",
              "      <th>diag_1</th>\n",
              "      <th>diag_2</th>\n",
              "      <th>diag_3</th>\n",
              "    </tr>\n",
              "  </thead>\n",
              "  <tbody>\n",
              "    <tr>\n",
              "      <th>0</th>\n",
              "      <td>5</td>\n",
              "      <td>250.83</td>\n",
              "      <td>276</td>\n",
              "      <td>250</td>\n",
              "    </tr>\n",
              "    <tr>\n",
              "      <th>1</th>\n",
              "      <td>15</td>\n",
              "      <td>276</td>\n",
              "      <td>250.01</td>\n",
              "      <td>255</td>\n",
              "    </tr>\n",
              "    <tr>\n",
              "      <th>2</th>\n",
              "      <td>25</td>\n",
              "      <td>648</td>\n",
              "      <td>250</td>\n",
              "      <td>V27</td>\n",
              "    </tr>\n",
              "    <tr>\n",
              "      <th>3</th>\n",
              "      <td>35</td>\n",
              "      <td>8</td>\n",
              "      <td>250.43</td>\n",
              "      <td>403</td>\n",
              "    </tr>\n",
              "    <tr>\n",
              "      <th>4</th>\n",
              "      <td>45</td>\n",
              "      <td>197</td>\n",
              "      <td>157</td>\n",
              "      <td>250</td>\n",
              "    </tr>\n",
              "  </tbody>\n",
              "</table>\n",
              "</div>"
            ],
            "text/plain": [
              "   age  diag_1  diag_2 diag_3\n",
              "0    5  250.83     276    250\n",
              "1   15     276  250.01    255\n",
              "2   25     648     250    V27\n",
              "3   35       8  250.43    403\n",
              "4   45     197     157    250"
            ]
          },
          "metadata": {
            "tags": []
          },
          "execution_count": 49
        }
      ]
    },
    {
      "cell_type": "code",
      "metadata": {
        "id": "YCbG9grv6w-C",
        "colab_type": "code",
        "colab": {}
      },
      "source": [
        "result = pd.concat([temp, obj_df2], axis=1, sort=False)"
      ],
      "execution_count": 0,
      "outputs": []
    },
    {
      "cell_type": "code",
      "metadata": {
        "id": "T1S7ChUq7omW",
        "colab_type": "code",
        "outputId": "69c44f25-778f-47d4-fc2b-efd2fc2fb9a4",
        "colab": {
          "base_uri": "https://localhost:8080/",
          "height": 204
        }
      },
      "source": [
        "result.head()"
      ],
      "execution_count": 51,
      "outputs": [
        {
          "output_type": "execute_result",
          "data": {
            "text/html": [
              "<div>\n",
              "<style scoped>\n",
              "    .dataframe tbody tr th:only-of-type {\n",
              "        vertical-align: middle;\n",
              "    }\n",
              "\n",
              "    .dataframe tbody tr th {\n",
              "        vertical-align: top;\n",
              "    }\n",
              "\n",
              "    .dataframe thead th {\n",
              "        text-align: right;\n",
              "    }\n",
              "</style>\n",
              "<table border=\"1\" class=\"dataframe\">\n",
              "  <thead>\n",
              "    <tr style=\"text-align: right;\">\n",
              "      <th></th>\n",
              "      <th>age</th>\n",
              "      <th>diag_1</th>\n",
              "      <th>diag_2</th>\n",
              "      <th>diag_3</th>\n",
              "      <th>race</th>\n",
              "      <th>gender</th>\n",
              "      <th>max_glu_serum</th>\n",
              "      <th>A1Cresult</th>\n",
              "      <th>insulin</th>\n",
              "      <th>change</th>\n",
              "      <th>diabetesMed</th>\n",
              "      <th>readmitted</th>\n",
              "    </tr>\n",
              "  </thead>\n",
              "  <tbody>\n",
              "    <tr>\n",
              "      <th>0</th>\n",
              "      <td>5</td>\n",
              "      <td>250.83</td>\n",
              "      <td>276</td>\n",
              "      <td>250</td>\n",
              "      <td>2</td>\n",
              "      <td>0</td>\n",
              "      <td>2</td>\n",
              "      <td>2</td>\n",
              "      <td>1</td>\n",
              "      <td>1</td>\n",
              "      <td>0</td>\n",
              "      <td>0</td>\n",
              "    </tr>\n",
              "    <tr>\n",
              "      <th>1</th>\n",
              "      <td>15</td>\n",
              "      <td>276</td>\n",
              "      <td>250.01</td>\n",
              "      <td>255</td>\n",
              "      <td>2</td>\n",
              "      <td>0</td>\n",
              "      <td>2</td>\n",
              "      <td>2</td>\n",
              "      <td>3</td>\n",
              "      <td>0</td>\n",
              "      <td>1</td>\n",
              "      <td>1</td>\n",
              "    </tr>\n",
              "    <tr>\n",
              "      <th>2</th>\n",
              "      <td>25</td>\n",
              "      <td>648</td>\n",
              "      <td>250</td>\n",
              "      <td>V27</td>\n",
              "      <td>0</td>\n",
              "      <td>0</td>\n",
              "      <td>2</td>\n",
              "      <td>2</td>\n",
              "      <td>1</td>\n",
              "      <td>1</td>\n",
              "      <td>1</td>\n",
              "      <td>0</td>\n",
              "    </tr>\n",
              "    <tr>\n",
              "      <th>3</th>\n",
              "      <td>35</td>\n",
              "      <td>8</td>\n",
              "      <td>250.43</td>\n",
              "      <td>403</td>\n",
              "      <td>2</td>\n",
              "      <td>1</td>\n",
              "      <td>2</td>\n",
              "      <td>2</td>\n",
              "      <td>3</td>\n",
              "      <td>0</td>\n",
              "      <td>1</td>\n",
              "      <td>0</td>\n",
              "    </tr>\n",
              "    <tr>\n",
              "      <th>4</th>\n",
              "      <td>45</td>\n",
              "      <td>197</td>\n",
              "      <td>157</td>\n",
              "      <td>250</td>\n",
              "      <td>2</td>\n",
              "      <td>1</td>\n",
              "      <td>2</td>\n",
              "      <td>2</td>\n",
              "      <td>2</td>\n",
              "      <td>0</td>\n",
              "      <td>1</td>\n",
              "      <td>0</td>\n",
              "    </tr>\n",
              "  </tbody>\n",
              "</table>\n",
              "</div>"
            ],
            "text/plain": [
              "   age  diag_1  diag_2 diag_3  ...  insulin  change  diabetesMed  readmitted\n",
              "0    5  250.83     276    250  ...        1       1            0           0\n",
              "1   15     276  250.01    255  ...        3       0            1           1\n",
              "2   25     648     250    V27  ...        1       1            1           0\n",
              "3   35       8  250.43    403  ...        3       0            1           0\n",
              "4   45     197     157    250  ...        2       0            1           0\n",
              "\n",
              "[5 rows x 12 columns]"
            ]
          },
          "metadata": {
            "tags": []
          },
          "execution_count": 51
        }
      ]
    },
    {
      "cell_type": "code",
      "metadata": {
        "id": "38_YMYxy8Cle",
        "colab_type": "code",
        "colab": {}
      },
      "source": [
        "temp2 = df[['admission_type_id'\n",
        ",'discharge_disposition_id'\n",
        ",'admission_source_id'\n",
        ",'time_in_hospital'\n",
        ",'num_lab_procedures'\n",
        ",'num_procedures'\n",
        ",'num_medications'\n",
        ",'number_outpatient'\n",
        ",'number_emergency'\n",
        ",'number_inpatient'\n",
        ",'number_diagnoses']]"
      ],
      "execution_count": 0,
      "outputs": []
    },
    {
      "cell_type": "code",
      "metadata": {
        "id": "9b0BXGEiiSux",
        "colab_type": "code",
        "outputId": "f252633d-c178-4d57-a5bc-71aeaab723d6",
        "colab": {
          "base_uri": "https://localhost:8080/",
          "height": 88
        }
      },
      "source": [
        "print(Counter(df['discharge_disposition_id']))\n",
        "print(Counter(df['admission_source_id']))\n",
        "print(Counter(df['admission_type_id']))\n"
      ],
      "execution_count": 53,
      "outputs": [
        {
          "output_type": "stream",
          "text": [
            "Counter({1: 60234, 3: 13954, 6: 12902, 18: 3691, 2: 2128, 22: 1993, 11: 1642, 5: 1184, 25: 989, 4: 815, 7: 623, 23: 412, 13: 399, 14: 372, 28: 139, 8: 108, 15: 63, 24: 48, 9: 21, 17: 14, 16: 11, 19: 8, 10: 6, 27: 5, 12: 3, 20: 2})\n",
            "Counter({7: 57494, 1: 29565, 17: 6781, 4: 3187, 6: 2264, 2: 1104, 5: 855, 3: 187, 20: 161, 9: 125, 8: 16, 22: 12, 10: 8, 14: 2, 11: 2, 25: 2, 13: 1})\n",
            "Counter({1: 53990, 3: 18869, 2: 18480, 6: 5291, 5: 4785, 8: 320, 7: 21, 4: 10})\n"
          ],
          "name": "stdout"
        }
      ]
    },
    {
      "cell_type": "code",
      "metadata": {
        "id": "ovrd7yXuhelN",
        "colab_type": "code",
        "colab": {
          "base_uri": "https://localhost:8080/",
          "height": 119
        },
        "outputId": "943eba4d-5002-4a1f-e441-88a8c020e708"
      },
      "source": [
        "temp2['discharge_disposition_id'] = pd.Series(['Home' if val == 1 else 'Other discharge' \n",
        "                                              for val in temp2['discharge_disposition_id']], index=temp2.index)"
      ],
      "execution_count": 54,
      "outputs": [
        {
          "output_type": "stream",
          "text": [
            "/usr/local/lib/python3.6/dist-packages/ipykernel_launcher.py:2: SettingWithCopyWarning: \n",
            "A value is trying to be set on a copy of a slice from a DataFrame.\n",
            "Try using .loc[row_indexer,col_indexer] = value instead\n",
            "\n",
            "See the caveats in the documentation: http://pandas.pydata.org/pandas-docs/stable/indexing.html#indexing-view-versus-copy\n",
            "  \n"
          ],
          "name": "stderr"
        }
      ]
    },
    {
      "cell_type": "code",
      "metadata": {
        "id": "xBC0Pb6Sh4XX",
        "colab_type": "code",
        "colab": {
          "base_uri": "https://localhost:8080/",
          "height": 119
        },
        "outputId": "06f3f078-9cce-403f-b4a5-e1502c55cfbe"
      },
      "source": [
        "temp2['admission_source_id'] = pd.Series(['Emergency Room' if val == 7 else 'Referral' if val == 1 else 'Other source' \n",
        "                                              for val in temp2['admission_source_id']], index=temp2.index)"
      ],
      "execution_count": 55,
      "outputs": [
        {
          "output_type": "stream",
          "text": [
            "/usr/local/lib/python3.6/dist-packages/ipykernel_launcher.py:2: SettingWithCopyWarning: \n",
            "A value is trying to be set on a copy of a slice from a DataFrame.\n",
            "Try using .loc[row_indexer,col_indexer] = value instead\n",
            "\n",
            "See the caveats in the documentation: http://pandas.pydata.org/pandas-docs/stable/indexing.html#indexing-view-versus-copy\n",
            "  \n"
          ],
          "name": "stderr"
        }
      ]
    },
    {
      "cell_type": "code",
      "metadata": {
        "id": "pROalRxwh-3c",
        "colab_type": "code",
        "colab": {
          "base_uri": "https://localhost:8080/",
          "height": 119
        },
        "outputId": "529056f2-6b0c-4d17-b3da-b715852796ff"
      },
      "source": [
        "temp2['admission_type_id'] = pd.Series(['Emergency' if val == 1 else 'Other type' \n",
        "                                              for val in temp2['admission_type_id']], index=temp2.index)"
      ],
      "execution_count": 56,
      "outputs": [
        {
          "output_type": "stream",
          "text": [
            "/usr/local/lib/python3.6/dist-packages/ipykernel_launcher.py:2: SettingWithCopyWarning: \n",
            "A value is trying to be set on a copy of a slice from a DataFrame.\n",
            "Try using .loc[row_indexer,col_indexer] = value instead\n",
            "\n",
            "See the caveats in the documentation: http://pandas.pydata.org/pandas-docs/stable/indexing.html#indexing-view-versus-copy\n",
            "  \n"
          ],
          "name": "stderr"
        }
      ]
    },
    {
      "cell_type": "code",
      "metadata": {
        "id": "2ufR4jJx-CEN",
        "colab_type": "code",
        "outputId": "bc90a4ba-187c-434e-d420-3678c3ec3fe8",
        "colab": {
          "base_uri": "https://localhost:8080/",
          "height": 224
        }
      },
      "source": [
        "temp2.head()"
      ],
      "execution_count": 57,
      "outputs": [
        {
          "output_type": "execute_result",
          "data": {
            "text/html": [
              "<div>\n",
              "<style scoped>\n",
              "    .dataframe tbody tr th:only-of-type {\n",
              "        vertical-align: middle;\n",
              "    }\n",
              "\n",
              "    .dataframe tbody tr th {\n",
              "        vertical-align: top;\n",
              "    }\n",
              "\n",
              "    .dataframe thead th {\n",
              "        text-align: right;\n",
              "    }\n",
              "</style>\n",
              "<table border=\"1\" class=\"dataframe\">\n",
              "  <thead>\n",
              "    <tr style=\"text-align: right;\">\n",
              "      <th></th>\n",
              "      <th>admission_type_id</th>\n",
              "      <th>discharge_disposition_id</th>\n",
              "      <th>admission_source_id</th>\n",
              "      <th>time_in_hospital</th>\n",
              "      <th>num_lab_procedures</th>\n",
              "      <th>num_procedures</th>\n",
              "      <th>num_medications</th>\n",
              "      <th>number_outpatient</th>\n",
              "      <th>number_emergency</th>\n",
              "      <th>number_inpatient</th>\n",
              "      <th>number_diagnoses</th>\n",
              "    </tr>\n",
              "  </thead>\n",
              "  <tbody>\n",
              "    <tr>\n",
              "      <th>0</th>\n",
              "      <td>Other type</td>\n",
              "      <td>Other discharge</td>\n",
              "      <td>Referral</td>\n",
              "      <td>1</td>\n",
              "      <td>41</td>\n",
              "      <td>0</td>\n",
              "      <td>1</td>\n",
              "      <td>0</td>\n",
              "      <td>0</td>\n",
              "      <td>0</td>\n",
              "      <td>1</td>\n",
              "    </tr>\n",
              "    <tr>\n",
              "      <th>1</th>\n",
              "      <td>Emergency</td>\n",
              "      <td>Home</td>\n",
              "      <td>Emergency Room</td>\n",
              "      <td>3</td>\n",
              "      <td>59</td>\n",
              "      <td>0</td>\n",
              "      <td>18</td>\n",
              "      <td>0</td>\n",
              "      <td>0</td>\n",
              "      <td>0</td>\n",
              "      <td>9</td>\n",
              "    </tr>\n",
              "    <tr>\n",
              "      <th>2</th>\n",
              "      <td>Emergency</td>\n",
              "      <td>Home</td>\n",
              "      <td>Emergency Room</td>\n",
              "      <td>2</td>\n",
              "      <td>11</td>\n",
              "      <td>5</td>\n",
              "      <td>13</td>\n",
              "      <td>2</td>\n",
              "      <td>0</td>\n",
              "      <td>1</td>\n",
              "      <td>6</td>\n",
              "    </tr>\n",
              "    <tr>\n",
              "      <th>3</th>\n",
              "      <td>Emergency</td>\n",
              "      <td>Home</td>\n",
              "      <td>Emergency Room</td>\n",
              "      <td>2</td>\n",
              "      <td>44</td>\n",
              "      <td>1</td>\n",
              "      <td>16</td>\n",
              "      <td>0</td>\n",
              "      <td>0</td>\n",
              "      <td>0</td>\n",
              "      <td>7</td>\n",
              "    </tr>\n",
              "    <tr>\n",
              "      <th>4</th>\n",
              "      <td>Emergency</td>\n",
              "      <td>Home</td>\n",
              "      <td>Emergency Room</td>\n",
              "      <td>1</td>\n",
              "      <td>51</td>\n",
              "      <td>0</td>\n",
              "      <td>8</td>\n",
              "      <td>0</td>\n",
              "      <td>0</td>\n",
              "      <td>0</td>\n",
              "      <td>5</td>\n",
              "    </tr>\n",
              "  </tbody>\n",
              "</table>\n",
              "</div>"
            ],
            "text/plain": [
              "  admission_type_id  ... number_diagnoses\n",
              "0        Other type  ...                1\n",
              "1         Emergency  ...                9\n",
              "2         Emergency  ...                6\n",
              "3         Emergency  ...                7\n",
              "4         Emergency  ...                5\n",
              "\n",
              "[5 rows x 11 columns]"
            ]
          },
          "metadata": {
            "tags": []
          },
          "execution_count": 57
        }
      ]
    },
    {
      "cell_type": "code",
      "metadata": {
        "id": "4lXx68pijKVO",
        "colab_type": "code",
        "colab": {
          "base_uri": "https://localhost:8080/",
          "height": 102
        },
        "outputId": "f6c9925b-824c-4150-8843-679cabd93d4b"
      },
      "source": [
        "temp2['admission_type_id'].replace({'Emergency':'0','Other type':'1'}, inplace=True)"
      ],
      "execution_count": 58,
      "outputs": [
        {
          "output_type": "stream",
          "text": [
            "/usr/local/lib/python3.6/dist-packages/pandas/core/generic.py:6586: SettingWithCopyWarning: \n",
            "A value is trying to be set on a copy of a slice from a DataFrame\n",
            "\n",
            "See the caveats in the documentation: http://pandas.pydata.org/pandas-docs/stable/indexing.html#indexing-view-versus-copy\n",
            "  self._update_inplace(new_data)\n"
          ],
          "name": "stderr"
        }
      ]
    },
    {
      "cell_type": "code",
      "metadata": {
        "id": "3LPMsoHOj0wL",
        "colab_type": "code",
        "colab": {
          "base_uri": "https://localhost:8080/",
          "height": 102
        },
        "outputId": "1e522d24-1185-4935-b3ad-e4fce498fdce"
      },
      "source": [
        "temp2['discharge_disposition_id'].replace({'Home':'0','Other discharge':'1'}, inplace=True)"
      ],
      "execution_count": 59,
      "outputs": [
        {
          "output_type": "stream",
          "text": [
            "/usr/local/lib/python3.6/dist-packages/pandas/core/generic.py:6586: SettingWithCopyWarning: \n",
            "A value is trying to be set on a copy of a slice from a DataFrame\n",
            "\n",
            "See the caveats in the documentation: http://pandas.pydata.org/pandas-docs/stable/indexing.html#indexing-view-versus-copy\n",
            "  self._update_inplace(new_data)\n"
          ],
          "name": "stderr"
        }
      ]
    },
    {
      "cell_type": "code",
      "metadata": {
        "id": "Tb93D2z3j1PA",
        "colab_type": "code",
        "colab": {
          "base_uri": "https://localhost:8080/",
          "height": 102
        },
        "outputId": "895a0209-1d62-4b4c-a98b-5ddd7f6e4488"
      },
      "source": [
        "temp2['admission_source_id'].replace({'Emergency Room':'0','Referral':'1','Other source':'2'}, inplace=True)"
      ],
      "execution_count": 60,
      "outputs": [
        {
          "output_type": "stream",
          "text": [
            "/usr/local/lib/python3.6/dist-packages/pandas/core/generic.py:6586: SettingWithCopyWarning: \n",
            "A value is trying to be set on a copy of a slice from a DataFrame\n",
            "\n",
            "See the caveats in the documentation: http://pandas.pydata.org/pandas-docs/stable/indexing.html#indexing-view-versus-copy\n",
            "  self._update_inplace(new_data)\n"
          ],
          "name": "stderr"
        }
      ]
    },
    {
      "cell_type": "code",
      "metadata": {
        "id": "dZQijRVa-L2c",
        "colab_type": "code",
        "colab": {}
      },
      "source": [
        "final_df = pd.concat([temp2,result],axis=1, sort=False)"
      ],
      "execution_count": 0,
      "outputs": []
    },
    {
      "cell_type": "code",
      "metadata": {
        "id": "XfQggd55-c9U",
        "colab_type": "code",
        "outputId": "b78b5ec7-720a-428d-bbd9-b3b466d1e4b5",
        "colab": {
          "base_uri": "https://localhost:8080/",
          "height": 34
        }
      },
      "source": [
        "print(final_df.shape)"
      ],
      "execution_count": 62,
      "outputs": [
        {
          "output_type": "stream",
          "text": [
            "(101766, 23)\n"
          ],
          "name": "stdout"
        }
      ]
    },
    {
      "cell_type": "markdown",
      "metadata": {
        "id": "A5rveTpYr5zG",
        "colab_type": "text"
      },
      "source": [
        "## Feature selection"
      ]
    },
    {
      "cell_type": "code",
      "metadata": {
        "id": "943akMlz-xtA",
        "colab_type": "code",
        "outputId": "8a6b5597-d8d7-44f6-9b3c-faf1cbc42582",
        "colab": {
          "base_uri": "https://localhost:8080/",
          "height": 379
        }
      },
      "source": [
        "final_df.head(10)"
      ],
      "execution_count": 63,
      "outputs": [
        {
          "output_type": "execute_result",
          "data": {
            "text/html": [
              "<div>\n",
              "<style scoped>\n",
              "    .dataframe tbody tr th:only-of-type {\n",
              "        vertical-align: middle;\n",
              "    }\n",
              "\n",
              "    .dataframe tbody tr th {\n",
              "        vertical-align: top;\n",
              "    }\n",
              "\n",
              "    .dataframe thead th {\n",
              "        text-align: right;\n",
              "    }\n",
              "</style>\n",
              "<table border=\"1\" class=\"dataframe\">\n",
              "  <thead>\n",
              "    <tr style=\"text-align: right;\">\n",
              "      <th></th>\n",
              "      <th>admission_type_id</th>\n",
              "      <th>discharge_disposition_id</th>\n",
              "      <th>admission_source_id</th>\n",
              "      <th>time_in_hospital</th>\n",
              "      <th>num_lab_procedures</th>\n",
              "      <th>num_procedures</th>\n",
              "      <th>num_medications</th>\n",
              "      <th>number_outpatient</th>\n",
              "      <th>number_emergency</th>\n",
              "      <th>number_inpatient</th>\n",
              "      <th>number_diagnoses</th>\n",
              "      <th>age</th>\n",
              "      <th>diag_1</th>\n",
              "      <th>diag_2</th>\n",
              "      <th>diag_3</th>\n",
              "      <th>race</th>\n",
              "      <th>gender</th>\n",
              "      <th>max_glu_serum</th>\n",
              "      <th>A1Cresult</th>\n",
              "      <th>insulin</th>\n",
              "      <th>change</th>\n",
              "      <th>diabetesMed</th>\n",
              "      <th>readmitted</th>\n",
              "    </tr>\n",
              "  </thead>\n",
              "  <tbody>\n",
              "    <tr>\n",
              "      <th>0</th>\n",
              "      <td>1</td>\n",
              "      <td>1</td>\n",
              "      <td>1</td>\n",
              "      <td>1</td>\n",
              "      <td>41</td>\n",
              "      <td>0</td>\n",
              "      <td>1</td>\n",
              "      <td>0</td>\n",
              "      <td>0</td>\n",
              "      <td>0</td>\n",
              "      <td>1</td>\n",
              "      <td>5</td>\n",
              "      <td>250.83</td>\n",
              "      <td>276</td>\n",
              "      <td>250</td>\n",
              "      <td>2</td>\n",
              "      <td>0</td>\n",
              "      <td>2</td>\n",
              "      <td>2</td>\n",
              "      <td>1</td>\n",
              "      <td>1</td>\n",
              "      <td>0</td>\n",
              "      <td>0</td>\n",
              "    </tr>\n",
              "    <tr>\n",
              "      <th>1</th>\n",
              "      <td>0</td>\n",
              "      <td>0</td>\n",
              "      <td>0</td>\n",
              "      <td>3</td>\n",
              "      <td>59</td>\n",
              "      <td>0</td>\n",
              "      <td>18</td>\n",
              "      <td>0</td>\n",
              "      <td>0</td>\n",
              "      <td>0</td>\n",
              "      <td>9</td>\n",
              "      <td>15</td>\n",
              "      <td>276</td>\n",
              "      <td>250.01</td>\n",
              "      <td>255</td>\n",
              "      <td>2</td>\n",
              "      <td>0</td>\n",
              "      <td>2</td>\n",
              "      <td>2</td>\n",
              "      <td>3</td>\n",
              "      <td>0</td>\n",
              "      <td>1</td>\n",
              "      <td>1</td>\n",
              "    </tr>\n",
              "    <tr>\n",
              "      <th>2</th>\n",
              "      <td>0</td>\n",
              "      <td>0</td>\n",
              "      <td>0</td>\n",
              "      <td>2</td>\n",
              "      <td>11</td>\n",
              "      <td>5</td>\n",
              "      <td>13</td>\n",
              "      <td>2</td>\n",
              "      <td>0</td>\n",
              "      <td>1</td>\n",
              "      <td>6</td>\n",
              "      <td>25</td>\n",
              "      <td>648</td>\n",
              "      <td>250</td>\n",
              "      <td>V27</td>\n",
              "      <td>0</td>\n",
              "      <td>0</td>\n",
              "      <td>2</td>\n",
              "      <td>2</td>\n",
              "      <td>1</td>\n",
              "      <td>1</td>\n",
              "      <td>1</td>\n",
              "      <td>0</td>\n",
              "    </tr>\n",
              "    <tr>\n",
              "      <th>3</th>\n",
              "      <td>0</td>\n",
              "      <td>0</td>\n",
              "      <td>0</td>\n",
              "      <td>2</td>\n",
              "      <td>44</td>\n",
              "      <td>1</td>\n",
              "      <td>16</td>\n",
              "      <td>0</td>\n",
              "      <td>0</td>\n",
              "      <td>0</td>\n",
              "      <td>7</td>\n",
              "      <td>35</td>\n",
              "      <td>8</td>\n",
              "      <td>250.43</td>\n",
              "      <td>403</td>\n",
              "      <td>2</td>\n",
              "      <td>1</td>\n",
              "      <td>2</td>\n",
              "      <td>2</td>\n",
              "      <td>3</td>\n",
              "      <td>0</td>\n",
              "      <td>1</td>\n",
              "      <td>0</td>\n",
              "    </tr>\n",
              "    <tr>\n",
              "      <th>4</th>\n",
              "      <td>0</td>\n",
              "      <td>0</td>\n",
              "      <td>0</td>\n",
              "      <td>1</td>\n",
              "      <td>51</td>\n",
              "      <td>0</td>\n",
              "      <td>8</td>\n",
              "      <td>0</td>\n",
              "      <td>0</td>\n",
              "      <td>0</td>\n",
              "      <td>5</td>\n",
              "      <td>45</td>\n",
              "      <td>197</td>\n",
              "      <td>157</td>\n",
              "      <td>250</td>\n",
              "      <td>2</td>\n",
              "      <td>1</td>\n",
              "      <td>2</td>\n",
              "      <td>2</td>\n",
              "      <td>2</td>\n",
              "      <td>0</td>\n",
              "      <td>1</td>\n",
              "      <td>0</td>\n",
              "    </tr>\n",
              "    <tr>\n",
              "      <th>5</th>\n",
              "      <td>1</td>\n",
              "      <td>0</td>\n",
              "      <td>2</td>\n",
              "      <td>3</td>\n",
              "      <td>31</td>\n",
              "      <td>6</td>\n",
              "      <td>16</td>\n",
              "      <td>0</td>\n",
              "      <td>0</td>\n",
              "      <td>0</td>\n",
              "      <td>9</td>\n",
              "      <td>55</td>\n",
              "      <td>414</td>\n",
              "      <td>411</td>\n",
              "      <td>250</td>\n",
              "      <td>2</td>\n",
              "      <td>1</td>\n",
              "      <td>2</td>\n",
              "      <td>2</td>\n",
              "      <td>2</td>\n",
              "      <td>1</td>\n",
              "      <td>1</td>\n",
              "      <td>1</td>\n",
              "    </tr>\n",
              "    <tr>\n",
              "      <th>6</th>\n",
              "      <td>1</td>\n",
              "      <td>0</td>\n",
              "      <td>2</td>\n",
              "      <td>4</td>\n",
              "      <td>70</td>\n",
              "      <td>1</td>\n",
              "      <td>21</td>\n",
              "      <td>0</td>\n",
              "      <td>0</td>\n",
              "      <td>0</td>\n",
              "      <td>7</td>\n",
              "      <td>65</td>\n",
              "      <td>414</td>\n",
              "      <td>411</td>\n",
              "      <td>V45</td>\n",
              "      <td>2</td>\n",
              "      <td>1</td>\n",
              "      <td>2</td>\n",
              "      <td>2</td>\n",
              "      <td>2</td>\n",
              "      <td>0</td>\n",
              "      <td>1</td>\n",
              "      <td>0</td>\n",
              "    </tr>\n",
              "    <tr>\n",
              "      <th>7</th>\n",
              "      <td>0</td>\n",
              "      <td>0</td>\n",
              "      <td>0</td>\n",
              "      <td>5</td>\n",
              "      <td>73</td>\n",
              "      <td>0</td>\n",
              "      <td>12</td>\n",
              "      <td>0</td>\n",
              "      <td>0</td>\n",
              "      <td>0</td>\n",
              "      <td>8</td>\n",
              "      <td>75</td>\n",
              "      <td>428</td>\n",
              "      <td>492</td>\n",
              "      <td>250</td>\n",
              "      <td>2</td>\n",
              "      <td>1</td>\n",
              "      <td>2</td>\n",
              "      <td>2</td>\n",
              "      <td>1</td>\n",
              "      <td>1</td>\n",
              "      <td>1</td>\n",
              "      <td>1</td>\n",
              "    </tr>\n",
              "    <tr>\n",
              "      <th>8</th>\n",
              "      <td>1</td>\n",
              "      <td>0</td>\n",
              "      <td>2</td>\n",
              "      <td>13</td>\n",
              "      <td>68</td>\n",
              "      <td>2</td>\n",
              "      <td>28</td>\n",
              "      <td>0</td>\n",
              "      <td>0</td>\n",
              "      <td>0</td>\n",
              "      <td>8</td>\n",
              "      <td>85</td>\n",
              "      <td>398</td>\n",
              "      <td>427</td>\n",
              "      <td>38</td>\n",
              "      <td>2</td>\n",
              "      <td>0</td>\n",
              "      <td>2</td>\n",
              "      <td>2</td>\n",
              "      <td>2</td>\n",
              "      <td>0</td>\n",
              "      <td>1</td>\n",
              "      <td>0</td>\n",
              "    </tr>\n",
              "    <tr>\n",
              "      <th>9</th>\n",
              "      <td>1</td>\n",
              "      <td>1</td>\n",
              "      <td>2</td>\n",
              "      <td>12</td>\n",
              "      <td>33</td>\n",
              "      <td>3</td>\n",
              "      <td>18</td>\n",
              "      <td>0</td>\n",
              "      <td>0</td>\n",
              "      <td>0</td>\n",
              "      <td>8</td>\n",
              "      <td>105</td>\n",
              "      <td>434</td>\n",
              "      <td>198</td>\n",
              "      <td>486</td>\n",
              "      <td>2</td>\n",
              "      <td>0</td>\n",
              "      <td>2</td>\n",
              "      <td>2</td>\n",
              "      <td>2</td>\n",
              "      <td>0</td>\n",
              "      <td>1</td>\n",
              "      <td>0</td>\n",
              "    </tr>\n",
              "  </tbody>\n",
              "</table>\n",
              "</div>"
            ],
            "text/plain": [
              "  admission_type_id discharge_disposition_id  ... diabetesMed  readmitted\n",
              "0                 1                        1  ...           0           0\n",
              "1                 0                        0  ...           1           1\n",
              "2                 0                        0  ...           1           0\n",
              "3                 0                        0  ...           1           0\n",
              "4                 0                        0  ...           1           0\n",
              "5                 1                        0  ...           1           1\n",
              "6                 1                        0  ...           1           0\n",
              "7                 0                        0  ...           1           1\n",
              "8                 1                        0  ...           1           0\n",
              "9                 1                        1  ...           1           0\n",
              "\n",
              "[10 rows x 23 columns]"
            ]
          },
          "metadata": {
            "tags": []
          },
          "execution_count": 63
        }
      ]
    },
    {
      "cell_type": "code",
      "metadata": {
        "id": "S8F4qTO3uYPP",
        "colab_type": "code",
        "outputId": "bf0124cc-cc6e-4b98-ab5a-a541b2173121",
        "colab": {
          "base_uri": "https://localhost:8080/",
          "height": 34
        }
      },
      "source": [
        "print(final_df.shape)"
      ],
      "execution_count": 64,
      "outputs": [
        {
          "output_type": "stream",
          "text": [
            "(101766, 23)\n"
          ],
          "name": "stdout"
        }
      ]
    },
    {
      "cell_type": "code",
      "metadata": {
        "id": "yL3JU1CYumfr",
        "colab_type": "code",
        "colab": {}
      },
      "source": [
        "X = final_df.iloc[ :,0:22]\n",
        "Y = final_df.iloc[ :,-1]"
      ],
      "execution_count": 0,
      "outputs": []
    },
    {
      "cell_type": "code",
      "metadata": {
        "id": "zWC3bWO51Iq2",
        "colab_type": "code",
        "colab": {}
      },
      "source": [
        "del X['diag_3']"
      ],
      "execution_count": 0,
      "outputs": []
    },
    {
      "cell_type": "code",
      "metadata": {
        "id": "pF8crp5ju6CA",
        "colab_type": "code",
        "outputId": "a7fd4b5e-15f8-439c-efd6-a7e9f05b4ab7",
        "colab": {
          "base_uri": "https://localhost:8080/",
          "height": 51
        }
      },
      "source": [
        "print(X.shape)\n",
        "print(Y.shape)"
      ],
      "execution_count": 67,
      "outputs": [
        {
          "output_type": "stream",
          "text": [
            "(101766, 21)\n",
            "(101766,)\n"
          ],
          "name": "stdout"
        }
      ]
    },
    {
      "cell_type": "code",
      "metadata": {
        "id": "ndfc4_K7va9i",
        "colab_type": "code",
        "colab": {}
      },
      "source": [
        "\n",
        "\n",
        "from sklearn.model_selection import train_test_split\n",
        "X_demo, X_test, y_demo, y_test = train_test_split(X, Y, test_size=0.20)"
      ],
      "execution_count": 0,
      "outputs": []
    },
    {
      "cell_type": "code",
      "metadata": {
        "id": "Km4XxqJDwkc_",
        "colab_type": "code",
        "outputId": "789eb5d7-d2a7-4f1c-9637-e462370b8788",
        "colab": {
          "base_uri": "https://localhost:8080/",
          "height": 71
        }
      },
      "source": [
        "# fit Random Forest model for feature selection\n",
        "from sklearn.ensemble import RandomForestClassifier\n",
        "forest = RandomForestClassifier()\n",
        "forest.fit(X_demo, y_demo)\n",
        "importances = forest.feature_importances_"
      ],
      "execution_count": 77,
      "outputs": [
        {
          "output_type": "stream",
          "text": [
            "/usr/local/lib/python3.6/dist-packages/sklearn/ensemble/forest.py:245: FutureWarning: The default value of n_estimators will change from 10 in version 0.20 to 100 in 0.22.\n",
            "  \"10 in version 0.20 to 100 in 0.22.\", FutureWarning)\n"
          ],
          "name": "stderr"
        }
      ]
    },
    {
      "cell_type": "code",
      "metadata": {
        "id": "Y_9X9Nez1u5h",
        "colab_type": "code",
        "outputId": "63ab1735-72f8-4ed8-a220-4dc0a0962bd2",
        "colab": {
          "base_uri": "https://localhost:8080/",
          "height": 136
        }
      },
      "source": [
        "# make importance relative to the max importance\n",
        "feature_importance = 100.0 * (importances / importances.max())\n",
        "sorted_idx = np.argsort(feature_importance)\n",
        "feature_names = list(X_demo.columns.values)\n",
        "feature_names_sort = [feature_names[indice] for indice in sorted_idx]\n",
        "pos = np.arange(sorted_idx.shape[0]) + .5\n",
        "print ('Top 6 features are: ')\n",
        "for feature in feature_names_sort[::-1][:6]:\n",
        "    print (feature)"
      ],
      "execution_count": 78,
      "outputs": [
        {
          "output_type": "stream",
          "text": [
            "Top 6 features are: \n",
            "num_lab_procedures\n",
            "num_medications\n",
            "time_in_hospital\n",
            "age\n",
            "number_diagnoses\n",
            "num_procedures\n"
          ],
          "name": "stdout"
        }
      ]
    },
    {
      "cell_type": "code",
      "metadata": {
        "id": "qo77XzsC2N89",
        "colab_type": "code",
        "outputId": "e1e18856-696a-4c01-b0e9-1dcf5681a324",
        "colab": {
          "base_uri": "https://localhost:8080/",
          "height": 612
        }
      },
      "source": [
        "plt.figure(figsize=(12, 10))\n",
        "plt.barh(pos, feature_importance[sorted_idx], align='center')\n",
        "plt.yticks(pos, feature_names_sort)\n",
        "plt.title('Relative Feature Importance', fontsize=20)\n",
        "plt.show()"
      ],
      "execution_count": 79,
      "outputs": [
        {
          "output_type": "display_data",
          "data": {
            "image/png": "[encoded data removed]",
            "text/plain": [
              "<Figure size 864x720 with 1 Axes>"
            ]
          },
          "metadata": {
            "tags": []
          }
        }
      ]
    },
    {
      "cell_type": "code",
      "metadata": {
        "id": "Z7rCCpuG4YXt",
        "colab_type": "code",
        "colab": {}
      },
      "source": [
        "X_train = X_demo[['num_lab_procedures',\n",
        "'num_medications',\n",
        "'time_in_hospital',\n",
        "'age',\n",
        "'num_procedures',\n",
        "'number_diagnoses']]"
      ],
      "execution_count": 0,
      "outputs": []
    },
    {
      "cell_type": "code",
      "metadata": {
        "id": "kpo0A4oV_AQ6",
        "colab_type": "code",
        "colab": {}
      },
      "source": [
        "X_test = X_test[['num_lab_procedures',\n",
        "'num_medications',\n",
        "'time_in_hospital',\n",
        "'age',\n",
        "'num_procedures',\n",
        "'number_diagnoses']]"
      ],
      "execution_count": 0,
      "outputs": []
    },
    {
      "cell_type": "markdown",
      "metadata": {
        "id": "yAEqtCuf5nE6",
        "colab_type": "text"
      },
      "source": [
        "## Model selection"
      ]
    },
    {
      "cell_type": "markdown",
      "metadata": {
        "id": "-1MDSrjW6Qzq",
        "colab_type": "text"
      },
      "source": [
        "### Random forest"
      ]
    },
    {
      "cell_type": "code",
      "metadata": {
        "id": "L-fWf45uAl-L",
        "colab_type": "code",
        "outputId": "f8a33302-94a1-4fc3-dd1b-b90ba73f73d3",
        "colab": {
          "base_uri": "https://localhost:8080/",
          "height": 394
        }
      },
      "source": [
        "from sklearn.ensemble import RandomForestClassifier\n",
        "from sklearn.model_selection import cross_val_score\n",
        "\n",
        "\n",
        "clf1 = RandomForestClassifier()\n",
        "RF_score = cross_val_score(clf1, X_train, y_demo, cv=10, scoring='accuracy').mean()\n",
        "RF_score"
      ],
      "execution_count": 82,
      "outputs": [
        {
          "output_type": "stream",
          "text": [
            "/usr/local/lib/python3.6/dist-packages/sklearn/ensemble/forest.py:245: FutureWarning: The default value of n_estimators will change from 10 in version 0.20 to 100 in 0.22.\n",
            "  \"10 in version 0.20 to 100 in 0.22.\", FutureWarning)\n",
            "/usr/local/lib/python3.6/dist-packages/sklearn/ensemble/forest.py:245: FutureWarning: The default value of n_estimators will change from 10 in version 0.20 to 100 in 0.22.\n",
            "  \"10 in version 0.20 to 100 in 0.22.\", FutureWarning)\n",
            "/usr/local/lib/python3.6/dist-packages/sklearn/ensemble/forest.py:245: FutureWarning: The default value of n_estimators will change from 10 in version 0.20 to 100 in 0.22.\n",
            "  \"10 in version 0.20 to 100 in 0.22.\", FutureWarning)\n",
            "/usr/local/lib/python3.6/dist-packages/sklearn/ensemble/forest.py:245: FutureWarning: The default value of n_estimators will change from 10 in version 0.20 to 100 in 0.22.\n",
            "  \"10 in version 0.20 to 100 in 0.22.\", FutureWarning)\n",
            "/usr/local/lib/python3.6/dist-packages/sklearn/ensemble/forest.py:245: FutureWarning: The default value of n_estimators will change from 10 in version 0.20 to 100 in 0.22.\n",
            "  \"10 in version 0.20 to 100 in 0.22.\", FutureWarning)\n",
            "/usr/local/lib/python3.6/dist-packages/sklearn/ensemble/forest.py:245: FutureWarning: The default value of n_estimators will change from 10 in version 0.20 to 100 in 0.22.\n",
            "  \"10 in version 0.20 to 100 in 0.22.\", FutureWarning)\n",
            "/usr/local/lib/python3.6/dist-packages/sklearn/ensemble/forest.py:245: FutureWarning: The default value of n_estimators will change from 10 in version 0.20 to 100 in 0.22.\n",
            "  \"10 in version 0.20 to 100 in 0.22.\", FutureWarning)\n",
            "/usr/local/lib/python3.6/dist-packages/sklearn/ensemble/forest.py:245: FutureWarning: The default value of n_estimators will change from 10 in version 0.20 to 100 in 0.22.\n",
            "  \"10 in version 0.20 to 100 in 0.22.\", FutureWarning)\n",
            "/usr/local/lib/python3.6/dist-packages/sklearn/ensemble/forest.py:245: FutureWarning: The default value of n_estimators will change from 10 in version 0.20 to 100 in 0.22.\n",
            "  \"10 in version 0.20 to 100 in 0.22.\", FutureWarning)\n",
            "/usr/local/lib/python3.6/dist-packages/sklearn/ensemble/forest.py:245: FutureWarning: The default value of n_estimators will change from 10 in version 0.20 to 100 in 0.22.\n",
            "  \"10 in version 0.20 to 100 in 0.22.\", FutureWarning)\n"
          ],
          "name": "stderr"
        },
        {
          "output_type": "execute_result",
          "data": {
            "text/plain": [
              "0.5378320044320579"
            ]
          },
          "metadata": {
            "tags": []
          },
          "execution_count": 82
        }
      ]
    },
    {
      "cell_type": "code",
      "metadata": {
        "id": "JN9Fjle8CAXD",
        "colab_type": "code",
        "outputId": "87dfee0d-7fa8-4ed9-bab0-af8e6bdfac62",
        "colab": {
          "base_uri": "https://localhost:8080/",
          "height": 34
        }
      },
      "source": [
        "from sklearn.ensemble import RandomForestClassifier\n",
        "\n",
        "#Create a Gaussian Classifier\n",
        "clf=RandomForestClassifier(n_estimators=500)\n",
        "\n",
        "#Train the model using the training sets y_pred=clf.predict(X_test)\n",
        "clf.fit(X_train,y_demo)\n",
        "\n",
        "# prediction on test set\n",
        "y_pred=clf.predict(X_test)\n",
        "\n",
        "\n",
        "from sklearn import metrics\n",
        "# Model Accuracy, how often is the classifier correct?\n",
        "print(\"Accuracy:\",metrics.accuracy_score(y_test, y_pred))"
      ],
      "execution_count": 83,
      "outputs": [
        {
          "output_type": "stream",
          "text": [
            "Accuracy: 0.5382234450230913\n"
          ],
          "name": "stdout"
        }
      ]
    },
    {
      "cell_type": "code",
      "metadata": {
        "id": "y1jAWA1HEGYE",
        "colab_type": "code",
        "outputId": "c89d5602-cf93-423f-b04a-b8861c6c5288",
        "colab": {
          "base_uri": "https://localhost:8080/",
          "height": 51
        }
      },
      "source": [
        "#ConfusionMatrix\n",
        "print(metrics.confusion_matrix(y_test , y_pred))"
      ],
      "execution_count": 84,
      "outputs": [
        {
          "output_type": "stream",
          "text": [
            "[[6671 4329]\n",
            " [5070 4284]]\n"
          ],
          "name": "stdout"
        }
      ]
    },
    {
      "cell_type": "markdown",
      "metadata": {
        "id": "PIg4o-A0EnUV",
        "colab_type": "text"
      },
      "source": [
        "### Logistic regeression"
      ]
    },
    {
      "cell_type": "code",
      "metadata": {
        "id": "A7dJL2vGEs3f",
        "colab_type": "code",
        "outputId": "24d10538-bc47-43d3-9e21-f350052fc0c4",
        "colab": {
          "base_uri": "https://localhost:8080/",
          "height": 88
        }
      },
      "source": [
        "from sklearn.linear_model import LogisticRegression\n",
        "\n",
        "model = LogisticRegression()\n",
        "\n",
        "model = model.fit(X_train,y_demo )\n",
        "ms = model.score(X_train,y_demo)\n",
        "print(\"model score::\",ms)"
      ],
      "execution_count": 85,
      "outputs": [
        {
          "output_type": "stream",
          "text": [
            "/usr/local/lib/python3.6/dist-packages/sklearn/linear_model/logistic.py:432: FutureWarning: Default solver will be changed to 'lbfgs' in 0.22. Specify a solver to silence this warning.\n",
            "  FutureWarning)\n"
          ],
          "name": "stderr"
        },
        {
          "output_type": "stream",
          "text": [
            "model score:: 0.5563061956468334\n"
          ],
          "name": "stdout"
        }
      ]
    },
    {
      "cell_type": "code",
      "metadata": {
        "id": "lz7GngMRGeJT",
        "colab_type": "code",
        "outputId": "507ab0ec-0d3c-428b-8351-36918067c49b",
        "colab": {
          "base_uri": "https://localhost:8080/",
          "height": 68
        }
      },
      "source": [
        "predicted = model.predict(X_test)\n",
        "\n",
        "print(\"Accuracy:\",metrics.accuracy_score(y_test, predicted))\n",
        "\n",
        "print(metrics.confusion_matrix(y_test , predicted))"
      ],
      "execution_count": 86,
      "outputs": [
        {
          "output_type": "stream",
          "text": [
            "Accuracy: 0.5517834332317972\n",
            "[[7444 3556]\n",
            " [5567 3787]]\n"
          ],
          "name": "stdout"
        }
      ]
    }
  ]
}