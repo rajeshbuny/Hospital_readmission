{
 "cells": [
  {
   "cell_type": "code",
   "execution_count": 4,
   "metadata": {},
   "outputs": [],
   "source": [
    "df <- read.csv(\"~/Downloads/diabetic_data.csv\")"
   ]
  },
  {
   "cell_type": "code",
   "execution_count": 5,
   "metadata": {
    "scrolled": true
   },
   "outputs": [
    {
     "data": {
      "text/html": [
       "<table>\n",
       "<thead><tr><th scope=col>encounter_id</th><th scope=col>patient_nbr</th><th scope=col>race</th><th scope=col>gender</th><th scope=col>age</th><th scope=col>weight</th><th scope=col>admission_type_id</th><th scope=col>discharge_disposition_id</th><th scope=col>admission_source_id</th><th scope=col>time_in_hospital</th><th scope=col>⋯</th><th scope=col>citoglipton</th><th scope=col>insulin</th><th scope=col>glyburide.metformin</th><th scope=col>glipizide.metformin</th><th scope=col>glimepiride.pioglitazone</th><th scope=col>metformin.rosiglitazone</th><th scope=col>metformin.pioglitazone</th><th scope=col>change</th><th scope=col>diabetesMed</th><th scope=col>readmitted</th></tr></thead>\n",
       "<tbody>\n",
       "\t<tr><td>2278392        </td><td> 8222157       </td><td>Caucasian      </td><td>Female         </td><td>[0-10)         </td><td>?              </td><td>6              </td><td>25             </td><td>1              </td><td>1              </td><td>⋯              </td><td>No             </td><td>No             </td><td>No             </td><td>No             </td><td>No             </td><td>No             </td><td>No             </td><td>No             </td><td>No             </td><td>NO             </td></tr>\n",
       "\t<tr><td> 149190                                                </td><td>55629189                                               </td><td><span style=white-space:pre-wrap>Caucasian      </span></td><td>Female                                                 </td><td>[10-20)                                                </td><td>?                                                      </td><td>1                                                      </td><td> 1                                                     </td><td>7                                                      </td><td>3                                                      </td><td>⋯                                                      </td><td>No                                                     </td><td><span style=white-space:pre-wrap>Up    </span>         </td><td>No                                                     </td><td>No                                                     </td><td>No                                                     </td><td>No                                                     </td><td>No                                                     </td><td>Ch                                                     </td><td>Yes                                                    </td><td>&gt;30                                                 </td></tr>\n",
       "\t<tr><td>  64410        </td><td>86047875       </td><td>AfricanAmerican</td><td>Female         </td><td>[20-30)        </td><td>?              </td><td>1              </td><td> 1             </td><td>7              </td><td>2              </td><td>⋯              </td><td>No             </td><td>No             </td><td>No             </td><td>No             </td><td>No             </td><td>No             </td><td>No             </td><td>No             </td><td>Yes            </td><td>NO             </td></tr>\n",
       "\t<tr><td> 500364        </td><td>82442376       </td><td>Caucasian      </td><td>Male           </td><td>[30-40)        </td><td>?              </td><td>1              </td><td> 1             </td><td>7              </td><td>2              </td><td>⋯              </td><td>No             </td><td>Up             </td><td>No             </td><td>No             </td><td>No             </td><td>No             </td><td>No             </td><td>Ch             </td><td>Yes            </td><td>NO             </td></tr>\n",
       "\t<tr><td>  16680        </td><td>42519267       </td><td>Caucasian      </td><td>Male           </td><td>[40-50)        </td><td>?              </td><td>1              </td><td> 1             </td><td>7              </td><td>1              </td><td>⋯              </td><td>No             </td><td>Steady         </td><td>No             </td><td>No             </td><td>No             </td><td>No             </td><td>No             </td><td>Ch             </td><td>Yes            </td><td>NO             </td></tr>\n",
       "\t<tr><td><span style=white-space:pre-wrap>  35754</span>        </td><td>82637451                                               </td><td><span style=white-space:pre-wrap>Caucasian      </span></td><td><span style=white-space:pre-wrap>Male  </span>         </td><td>[50-60)                                                </td><td>?                                                      </td><td>2                                                      </td><td> 1                                                     </td><td>2                                                      </td><td>3                                                      </td><td>⋯                                                      </td><td>No                                                     </td><td>Steady                                                 </td><td>No                                                     </td><td>No                                                     </td><td>No                                                     </td><td>No                                                     </td><td>No                                                     </td><td>No                                                     </td><td>Yes                                                    </td><td>&gt;30                                                 </td></tr>\n",
       "</tbody>\n",
       "</table>\n"
      ],
      "text/latex": [
       "\\begin{tabular}{r|llllllllllllllllllllllllllllllllllllllllllllllllll}\n",
       " encounter\\_id & patient\\_nbr & race & gender & age & weight & admission\\_type\\_id & discharge\\_disposition\\_id & admission\\_source\\_id & time\\_in\\_hospital & ⋯ & citoglipton & insulin & glyburide.metformin & glipizide.metformin & glimepiride.pioglitazone & metformin.rosiglitazone & metformin.pioglitazone & change & diabetesMed & readmitted\\\\\n",
       "\\hline\n",
       "\t 2278392         &  8222157        & Caucasian       & Female          & {[}0-10)        & ?               & 6               & 25              & 1               & 1               & ⋯               & No              & No              & No              & No              & No              & No              & No              & No              & No              & NO             \\\\\n",
       "\t  149190         & 55629189        & Caucasian       & Female          & {[}10-20)       & ?               & 1               &  1              & 7               & 3               & ⋯               & No              & Up              & No              & No              & No              & No              & No              & Ch              & Yes             & >30            \\\\\n",
       "\t   64410         & 86047875        & AfricanAmerican & Female          & {[}20-30)       & ?               & 1               &  1              & 7               & 2               & ⋯               & No              & No              & No              & No              & No              & No              & No              & No              & Yes             & NO             \\\\\n",
       "\t  500364         & 82442376        & Caucasian       & Male            & {[}30-40)       & ?               & 1               &  1              & 7               & 2               & ⋯               & No              & Up              & No              & No              & No              & No              & No              & Ch              & Yes             & NO             \\\\\n",
       "\t   16680         & 42519267        & Caucasian       & Male            & {[}40-50)       & ?               & 1               &  1              & 7               & 1               & ⋯               & No              & Steady          & No              & No              & No              & No              & No              & Ch              & Yes             & NO             \\\\\n",
       "\t   35754         & 82637451        & Caucasian       & Male            & {[}50-60)       & ?               & 2               &  1              & 2               & 3               & ⋯               & No              & Steady          & No              & No              & No              & No              & No              & No              & Yes             & >30            \\\\\n",
       "\\end{tabular}\n"
      ],
      "text/markdown": [
       "\n",
       "encounter_id | patient_nbr | race | gender | age | weight | admission_type_id | discharge_disposition_id | admission_source_id | time_in_hospital | ⋯ | citoglipton | insulin | glyburide.metformin | glipizide.metformin | glimepiride.pioglitazone | metformin.rosiglitazone | metformin.pioglitazone | change | diabetesMed | readmitted | \n",
       "|---|---|---|---|---|---|\n",
       "| 2278392         |  8222157        | Caucasian       | Female          | [0-10)          | ?               | 6               | 25              | 1               | 1               | ⋯               | No              | No              | No              | No              | No              | No              | No              | No              | No              | NO              | \n",
       "|  149190         | 55629189        | Caucasian       | Female          | [10-20)         | ?               | 1               |  1              | 7               | 3               | ⋯               | No              | Up              | No              | No              | No              | No              | No              | Ch              | Yes             | >30             | \n",
       "|   64410         | 86047875        | AfricanAmerican | Female          | [20-30)         | ?               | 1               |  1              | 7               | 2               | ⋯               | No              | No              | No              | No              | No              | No              | No              | No              | Yes             | NO              | \n",
       "|  500364         | 82442376        | Caucasian       | Male            | [30-40)         | ?               | 1               |  1              | 7               | 2               | ⋯               | No              | Up              | No              | No              | No              | No              | No              | Ch              | Yes             | NO              | \n",
       "|   16680         | 42519267        | Caucasian       | Male            | [40-50)         | ?               | 1               |  1              | 7               | 1               | ⋯               | No              | Steady          | No              | No              | No              | No              | No              | Ch              | Yes             | NO              | \n",
       "|   35754         | 82637451        | Caucasian       | Male            | [50-60)         | ?               | 2               |  1              | 2               | 3               | ⋯               | No              | Steady          | No              | No              | No              | No              | No              | No              | Yes             | >30             | \n",
       "\n",
       "\n"
      ],
      "text/plain": [
       "  encounter_id patient_nbr race            gender age     weight\n",
       "1 2278392       8222157    Caucasian       Female [0-10)  ?     \n",
       "2  149190      55629189    Caucasian       Female [10-20) ?     \n",
       "3   64410      86047875    AfricanAmerican Female [20-30) ?     \n",
       "4  500364      82442376    Caucasian       Male   [30-40) ?     \n",
       "5   16680      42519267    Caucasian       Male   [40-50) ?     \n",
       "6   35754      82637451    Caucasian       Male   [50-60) ?     \n",
       "  admission_type_id discharge_disposition_id admission_source_id\n",
       "1 6                 25                       1                  \n",
       "2 1                  1                       7                  \n",
       "3 1                  1                       7                  \n",
       "4 1                  1                       7                  \n",
       "5 1                  1                       7                  \n",
       "6 2                  1                       2                  \n",
       "  time_in_hospital ⋯ citoglipton insulin glyburide.metformin\n",
       "1 1                ⋯ No          No      No                 \n",
       "2 3                ⋯ No          Up      No                 \n",
       "3 2                ⋯ No          No      No                 \n",
       "4 2                ⋯ No          Up      No                 \n",
       "5 1                ⋯ No          Steady  No                 \n",
       "6 3                ⋯ No          Steady  No                 \n",
       "  glipizide.metformin glimepiride.pioglitazone metformin.rosiglitazone\n",
       "1 No                  No                       No                     \n",
       "2 No                  No                       No                     \n",
       "3 No                  No                       No                     \n",
       "4 No                  No                       No                     \n",
       "5 No                  No                       No                     \n",
       "6 No                  No                       No                     \n",
       "  metformin.pioglitazone change diabetesMed readmitted\n",
       "1 No                     No     No          NO        \n",
       "2 No                     Ch     Yes         >30       \n",
       "3 No                     No     Yes         NO        \n",
       "4 No                     Ch     Yes         NO        \n",
       "5 No                     Ch     Yes         NO        \n",
       "6 No                     No     Yes         >30       "
      ]
     },
     "metadata": {},
     "output_type": "display_data"
    },
    {
     "name": "stdout",
     "output_type": "stream",
     "text": [
      "[1] 101766     50\n"
     ]
    }
   ],
   "source": [
    "head(df)\n",
    "print(dim(df))"
   ]
  },
  {
   "cell_type": "code",
   "execution_count": 6,
   "metadata": {},
   "outputs": [],
   "source": [
    "data <- data.frame(df$patient_nbr,df$race,df$gender,df$age,df$admission_source_id,df$discharge_disposition_id,\n",
    "                   df$time_in_hospital,df$medical_specialty,df$A1Cresult,df$change,df$diag_1,df$readmitted)"
   ]
  },
  {
   "cell_type": "code",
   "execution_count": 7,
   "metadata": {},
   "outputs": [],
   "source": [
    "library (data.table)"
   ]
  },
  {
   "cell_type": "code",
   "execution_count": 8,
   "metadata": {},
   "outputs": [],
   "source": [
    "setnames(data, old = c('df.patient_nbr','df.race','df.gender','df.age','df.admission_source_id',\n",
    "                       'df.discharge_disposition_id','df.time_in_hospital','df.medical_specialty',\n",
    "                       'df.A1Cresult','df.change','df.diag_1','df.readmitted'),\n",
    "         \n",
    "         new = c('p_id','race','gender','age','admission.id',\n",
    "                 'discharge','time','med.specialty','HbA1Cresult','change','primary.diag','readmit'))"
   ]
  },
  {
   "cell_type": "code",
   "execution_count": 9,
   "metadata": {},
   "outputs": [
    {
     "data": {
      "text/html": [
       "<table>\n",
       "<thead><tr><th scope=col>p_id</th><th scope=col>race</th><th scope=col>gender</th><th scope=col>age</th><th scope=col>admission.id</th><th scope=col>discharge</th><th scope=col>time</th><th scope=col>med.specialty</th><th scope=col>HbA1Cresult</th><th scope=col>change</th><th scope=col>primary.diag</th><th scope=col>readmit</th></tr></thead>\n",
       "<tbody>\n",
       "\t<tr><td> 8222157                </td><td>Caucasian               </td><td>Female                  </td><td>[0-10)                  </td><td>1                       </td><td>25                      </td><td>1                       </td><td>Pediatrics-Endocrinology</td><td>None                    </td><td>No                      </td><td>250.83                  </td><td>NO                      </td></tr>\n",
       "\t<tr><td>55629189                                                        </td><td><span style=white-space:pre-wrap>Caucasian      </span>         </td><td>Female                                                          </td><td>[10-20)                                                         </td><td>7                                                               </td><td> 1                                                              </td><td>3                                                               </td><td><span style=white-space:pre-wrap>?                       </span></td><td>None                                                            </td><td>Ch                                                              </td><td><span style=white-space:pre-wrap>276   </span>                  </td><td>&gt;30                                                          </td></tr>\n",
       "\t<tr><td>86047875                </td><td>AfricanAmerican         </td><td>Female                  </td><td>[20-30)                 </td><td>7                       </td><td> 1                      </td><td>2                       </td><td>?                       </td><td>None                    </td><td>No                      </td><td>648                     </td><td>NO                      </td></tr>\n",
       "\t<tr><td>82442376                </td><td>Caucasian               </td><td>Male                    </td><td>[30-40)                 </td><td>7                       </td><td> 1                      </td><td>2                       </td><td>?                       </td><td>None                    </td><td>Ch                      </td><td>8                       </td><td>NO                      </td></tr>\n",
       "\t<tr><td>42519267                </td><td>Caucasian               </td><td>Male                    </td><td>[40-50)                 </td><td>7                       </td><td> 1                      </td><td>1                       </td><td>?                       </td><td>None                    </td><td>Ch                      </td><td>197                     </td><td>NO                      </td></tr>\n",
       "\t<tr><td>82637451                                                        </td><td><span style=white-space:pre-wrap>Caucasian      </span>         </td><td><span style=white-space:pre-wrap>Male  </span>                  </td><td>[50-60)                                                         </td><td>2                                                               </td><td> 1                                                              </td><td>3                                                               </td><td><span style=white-space:pre-wrap>?                       </span></td><td>None                                                            </td><td>No                                                              </td><td><span style=white-space:pre-wrap>414   </span>                  </td><td>&gt;30                                                          </td></tr>\n",
       "</tbody>\n",
       "</table>\n"
      ],
      "text/latex": [
       "\\begin{tabular}{r|llllllllllll}\n",
       " p\\_id & race & gender & age & admission.id & discharge & time & med.specialty & HbA1Cresult & change & primary.diag & readmit\\\\\n",
       "\\hline\n",
       "\t  8222157                 & Caucasian                & Female                   & {[}0-10)                 & 1                        & 25                       & 1                        & Pediatrics-Endocrinology & None                     & No                       & 250.83                   & NO                      \\\\\n",
       "\t 55629189                 & Caucasian                & Female                   & {[}10-20)                & 7                        &  1                       & 3                        & ?                        & None                     & Ch                       & 276                      & >30                     \\\\\n",
       "\t 86047875                 & AfricanAmerican          & Female                   & {[}20-30)                & 7                        &  1                       & 2                        & ?                        & None                     & No                       & 648                      & NO                      \\\\\n",
       "\t 82442376                 & Caucasian                & Male                     & {[}30-40)                & 7                        &  1                       & 2                        & ?                        & None                     & Ch                       & 8                        & NO                      \\\\\n",
       "\t 42519267                 & Caucasian                & Male                     & {[}40-50)                & 7                        &  1                       & 1                        & ?                        & None                     & Ch                       & 197                      & NO                      \\\\\n",
       "\t 82637451                 & Caucasian                & Male                     & {[}50-60)                & 2                        &  1                       & 3                        & ?                        & None                     & No                       & 414                      & >30                     \\\\\n",
       "\\end{tabular}\n"
      ],
      "text/markdown": [
       "\n",
       "p_id | race | gender | age | admission.id | discharge | time | med.specialty | HbA1Cresult | change | primary.diag | readmit | \n",
       "|---|---|---|---|---|---|\n",
       "|  8222157                 | Caucasian                | Female                   | [0-10)                   | 1                        | 25                       | 1                        | Pediatrics-Endocrinology | None                     | No                       | 250.83                   | NO                       | \n",
       "| 55629189                 | Caucasian                | Female                   | [10-20)                  | 7                        |  1                       | 3                        | ?                        | None                     | Ch                       | 276                      | >30                      | \n",
       "| 86047875                 | AfricanAmerican          | Female                   | [20-30)                  | 7                        |  1                       | 2                        | ?                        | None                     | No                       | 648                      | NO                       | \n",
       "| 82442376                 | Caucasian                | Male                     | [30-40)                  | 7                        |  1                       | 2                        | ?                        | None                     | Ch                       | 8                        | NO                       | \n",
       "| 42519267                 | Caucasian                | Male                     | [40-50)                  | 7                        |  1                       | 1                        | ?                        | None                     | Ch                       | 197                      | NO                       | \n",
       "| 82637451                 | Caucasian                | Male                     | [50-60)                  | 2                        |  1                       | 3                        | ?                        | None                     | No                       | 414                      | >30                      | \n",
       "\n",
       "\n"
      ],
      "text/plain": [
       "  p_id     race            gender age     admission.id discharge time\n",
       "1  8222157 Caucasian       Female [0-10)  1            25        1   \n",
       "2 55629189 Caucasian       Female [10-20) 7             1        3   \n",
       "3 86047875 AfricanAmerican Female [20-30) 7             1        2   \n",
       "4 82442376 Caucasian       Male   [30-40) 7             1        2   \n",
       "5 42519267 Caucasian       Male   [40-50) 7             1        1   \n",
       "6 82637451 Caucasian       Male   [50-60) 2             1        3   \n",
       "  med.specialty            HbA1Cresult change primary.diag readmit\n",
       "1 Pediatrics-Endocrinology None        No     250.83       NO     \n",
       "2 ?                        None        Ch     276          >30    \n",
       "3 ?                        None        No     648          NO     \n",
       "4 ?                        None        Ch     8            NO     \n",
       "5 ?                        None        Ch     197          NO     \n",
       "6 ?                        None        No     414          >30    "
      ]
     },
     "metadata": {},
     "output_type": "display_data"
    },
    {
     "name": "stdout",
     "output_type": "stream",
     "text": [
      "[1] 101766     12\n"
     ]
    }
   ],
   "source": [
    "head(data)\n",
    "print(dim(data))"
   ]
  },
  {
   "cell_type": "code",
   "execution_count": 10,
   "metadata": {},
   "outputs": [
    {
     "name": "stderr",
     "output_type": "stream",
     "text": [
      "\n",
      "Attaching package: ‘dplyr’\n",
      "\n",
      "The following objects are masked from ‘package:data.table’:\n",
      "\n",
      "    between, first, last\n",
      "\n",
      "The following objects are masked from ‘package:stats’:\n",
      "\n",
      "    filter, lag\n",
      "\n",
      "The following objects are masked from ‘package:base’:\n",
      "\n",
      "    intersect, setdiff, setequal, union\n",
      "\n"
     ]
    }
   ],
   "source": [
    "library(dplyr)\n",
    "\n",
    "data <- distinct(data,p_id, .keep_all= TRUE)"
   ]
  },
  {
   "cell_type": "code",
   "execution_count": 11,
   "metadata": {},
   "outputs": [
    {
     "name": "stdout",
     "output_type": "stream",
     "text": [
      "[1] 71518    12\n"
     ]
    }
   ],
   "source": [
    "print(dim(data))"
   ]
  },
  {
   "cell_type": "code",
   "execution_count": 12,
   "metadata": {},
   "outputs": [
    {
     "data": {
      "text/html": [
       "<table>\n",
       "<thead><tr><th scope=col>p_id</th><th scope=col>race</th><th scope=col>gender</th><th scope=col>age</th><th scope=col>admission.id</th><th scope=col>discharge</th><th scope=col>time</th><th scope=col>med.specialty</th><th scope=col>HbA1Cresult</th><th scope=col>change</th><th scope=col>primary.diag</th><th scope=col>readmit</th></tr></thead>\n",
       "<tbody>\n",
       "\t<tr><td> 8222157                </td><td>Caucasian               </td><td>Female                  </td><td>[0-10)                  </td><td>1                       </td><td>25                      </td><td>1                       </td><td>Pediatrics-Endocrinology</td><td>None                    </td><td>No                      </td><td>250.83                  </td><td>NO                      </td></tr>\n",
       "\t<tr><td>55629189                                                        </td><td><span style=white-space:pre-wrap>Caucasian      </span>         </td><td>Female                                                          </td><td>[10-20)                                                         </td><td>7                                                               </td><td> 1                                                              </td><td>3                                                               </td><td><span style=white-space:pre-wrap>?                       </span></td><td>None                                                            </td><td>Ch                                                              </td><td><span style=white-space:pre-wrap>276   </span>                  </td><td>&gt;30                                                          </td></tr>\n",
       "\t<tr><td>86047875                </td><td>AfricanAmerican         </td><td>Female                  </td><td>[20-30)                 </td><td>7                       </td><td> 1                      </td><td>2                       </td><td>?                       </td><td>None                    </td><td>No                      </td><td>648                     </td><td>NO                      </td></tr>\n",
       "\t<tr><td>82442376                </td><td>Caucasian               </td><td>Male                    </td><td>[30-40)                 </td><td>7                       </td><td> 1                      </td><td>2                       </td><td>?                       </td><td>None                    </td><td>Ch                      </td><td>8                       </td><td>NO                      </td></tr>\n",
       "\t<tr><td>42519267                </td><td>Caucasian               </td><td>Male                    </td><td>[40-50)                 </td><td>7                       </td><td> 1                      </td><td>1                       </td><td>?                       </td><td>None                    </td><td>Ch                      </td><td>197                     </td><td>NO                      </td></tr>\n",
       "\t<tr><td>82637451                                                        </td><td><span style=white-space:pre-wrap>Caucasian      </span>         </td><td><span style=white-space:pre-wrap>Male  </span>                  </td><td>[50-60)                                                         </td><td>2                                                               </td><td> 1                                                              </td><td>3                                                               </td><td><span style=white-space:pre-wrap>?                       </span></td><td>None                                                            </td><td>No                                                              </td><td><span style=white-space:pre-wrap>414   </span>                  </td><td>&gt;30                                                          </td></tr>\n",
       "</tbody>\n",
       "</table>\n"
      ],
      "text/latex": [
       "\\begin{tabular}{r|llllllllllll}\n",
       " p\\_id & race & gender & age & admission.id & discharge & time & med.specialty & HbA1Cresult & change & primary.diag & readmit\\\\\n",
       "\\hline\n",
       "\t  8222157                 & Caucasian                & Female                   & {[}0-10)                 & 1                        & 25                       & 1                        & Pediatrics-Endocrinology & None                     & No                       & 250.83                   & NO                      \\\\\n",
       "\t 55629189                 & Caucasian                & Female                   & {[}10-20)                & 7                        &  1                       & 3                        & ?                        & None                     & Ch                       & 276                      & >30                     \\\\\n",
       "\t 86047875                 & AfricanAmerican          & Female                   & {[}20-30)                & 7                        &  1                       & 2                        & ?                        & None                     & No                       & 648                      & NO                      \\\\\n",
       "\t 82442376                 & Caucasian                & Male                     & {[}30-40)                & 7                        &  1                       & 2                        & ?                        & None                     & Ch                       & 8                        & NO                      \\\\\n",
       "\t 42519267                 & Caucasian                & Male                     & {[}40-50)                & 7                        &  1                       & 1                        & ?                        & None                     & Ch                       & 197                      & NO                      \\\\\n",
       "\t 82637451                 & Caucasian                & Male                     & {[}50-60)                & 2                        &  1                       & 3                        & ?                        & None                     & No                       & 414                      & >30                     \\\\\n",
       "\\end{tabular}\n"
      ],
      "text/markdown": [
       "\n",
       "p_id | race | gender | age | admission.id | discharge | time | med.specialty | HbA1Cresult | change | primary.diag | readmit | \n",
       "|---|---|---|---|---|---|\n",
       "|  8222157                 | Caucasian                | Female                   | [0-10)                   | 1                        | 25                       | 1                        | Pediatrics-Endocrinology | None                     | No                       | 250.83                   | NO                       | \n",
       "| 55629189                 | Caucasian                | Female                   | [10-20)                  | 7                        |  1                       | 3                        | ?                        | None                     | Ch                       | 276                      | >30                      | \n",
       "| 86047875                 | AfricanAmerican          | Female                   | [20-30)                  | 7                        |  1                       | 2                        | ?                        | None                     | No                       | 648                      | NO                       | \n",
       "| 82442376                 | Caucasian                | Male                     | [30-40)                  | 7                        |  1                       | 2                        | ?                        | None                     | Ch                       | 8                        | NO                       | \n",
       "| 42519267                 | Caucasian                | Male                     | [40-50)                  | 7                        |  1                       | 1                        | ?                        | None                     | Ch                       | 197                      | NO                       | \n",
       "| 82637451                 | Caucasian                | Male                     | [50-60)                  | 2                        |  1                       | 3                        | ?                        | None                     | No                       | 414                      | >30                      | \n",
       "\n",
       "\n"
      ],
      "text/plain": [
       "  p_id     race            gender age     admission.id discharge time\n",
       "1  8222157 Caucasian       Female [0-10)  1            25        1   \n",
       "2 55629189 Caucasian       Female [10-20) 7             1        3   \n",
       "3 86047875 AfricanAmerican Female [20-30) 7             1        2   \n",
       "4 82442376 Caucasian       Male   [30-40) 7             1        2   \n",
       "5 42519267 Caucasian       Male   [40-50) 7             1        1   \n",
       "6 82637451 Caucasian       Male   [50-60) 2             1        3   \n",
       "  med.specialty            HbA1Cresult change primary.diag readmit\n",
       "1 Pediatrics-Endocrinology None        No     250.83       NO     \n",
       "2 ?                        None        Ch     276          >30    \n",
       "3 ?                        None        No     648          NO     \n",
       "4 ?                        None        Ch     8            NO     \n",
       "5 ?                        None        Ch     197          NO     \n",
       "6 ?                        None        No     414          >30    "
      ]
     },
     "metadata": {},
     "output_type": "display_data"
    }
   ],
   "source": [
    "head(data)"
   ]
  },
  {
   "cell_type": "code",
   "execution_count": 13,
   "metadata": {},
   "outputs": [
    {
     "data": {
      "text/plain": [
       "\n",
       "    1     2     3     4     5     6     7     8     9    10    11    12    13 \n",
       "44317  1539  8784   541   913  8289   409    73     9     6  1077     2   243 \n",
       "   14    15    16    17    18    19    20    22    23    24    25    27    28 \n",
       "  218    40     3     8  2474     6     1  1410   260    25   778     3    90 "
      ]
     },
     "metadata": {},
     "output_type": "display_data"
    }
   ],
   "source": [
    "table(data$discharge)"
   ]
  },
  {
   "cell_type": "code",
   "execution_count": 14,
   "metadata": {},
   "outputs": [],
   "source": [
    "#install.packages('sqldf')"
   ]
  },
  {
   "cell_type": "code",
   "execution_count": 15,
   "metadata": {},
   "outputs": [
    {
     "name": "stderr",
     "output_type": "stream",
     "text": [
      "Loading required package: sqldf\n",
      "Loading required package: gsubfn\n",
      "Loading required package: proto\n",
      "Loading required package: RSQLite\n"
     ]
    }
   ],
   "source": [
    "require(sqldf)\n",
    "data <- sqldf('SELECT *\n",
    "   FROM data\n",
    "   WHERE discharge != 11 and discharge != 13 and discharge !=14 and discharge != 19 and discharge != 20')"
   ]
  },
  {
   "cell_type": "code",
   "execution_count": 16,
   "metadata": {},
   "outputs": [
    {
     "data": {
      "text/html": [
       "<table>\n",
       "<thead><tr><th scope=col>p_id</th><th scope=col>race</th><th scope=col>gender</th><th scope=col>age</th><th scope=col>admission.id</th><th scope=col>discharge</th><th scope=col>time</th><th scope=col>med.specialty</th><th scope=col>HbA1Cresult</th><th scope=col>change</th><th scope=col>primary.diag</th><th scope=col>readmit</th></tr></thead>\n",
       "<tbody>\n",
       "\t<tr><td> 8222157                </td><td>Caucasian               </td><td>Female                  </td><td>[0-10)                  </td><td>1                       </td><td>25                      </td><td>1                       </td><td>Pediatrics-Endocrinology</td><td>None                    </td><td>No                      </td><td>250.83                  </td><td>NO                      </td></tr>\n",
       "\t<tr><td>55629189                                                        </td><td><span style=white-space:pre-wrap>Caucasian      </span>         </td><td>Female                                                          </td><td>[10-20)                                                         </td><td>7                                                               </td><td> 1                                                              </td><td>3                                                               </td><td><span style=white-space:pre-wrap>?                       </span></td><td>None                                                            </td><td>Ch                                                              </td><td><span style=white-space:pre-wrap>276   </span>                  </td><td>&gt;30                                                          </td></tr>\n",
       "\t<tr><td>86047875                </td><td>AfricanAmerican         </td><td>Female                  </td><td>[20-30)                 </td><td>7                       </td><td> 1                      </td><td>2                       </td><td>?                       </td><td>None                    </td><td>No                      </td><td>648                     </td><td>NO                      </td></tr>\n",
       "\t<tr><td>82442376                </td><td>Caucasian               </td><td>Male                    </td><td>[30-40)                 </td><td>7                       </td><td> 1                      </td><td>2                       </td><td>?                       </td><td>None                    </td><td>Ch                      </td><td>8                       </td><td>NO                      </td></tr>\n",
       "\t<tr><td>42519267                </td><td>Caucasian               </td><td>Male                    </td><td>[40-50)                 </td><td>7                       </td><td> 1                      </td><td>1                       </td><td>?                       </td><td>None                    </td><td>Ch                      </td><td>197                     </td><td>NO                      </td></tr>\n",
       "\t<tr><td>82637451                                                        </td><td><span style=white-space:pre-wrap>Caucasian      </span>         </td><td><span style=white-space:pre-wrap>Male  </span>                  </td><td>[50-60)                                                         </td><td>2                                                               </td><td> 1                                                              </td><td>3                                                               </td><td><span style=white-space:pre-wrap>?                       </span></td><td>None                                                            </td><td>No                                                              </td><td><span style=white-space:pre-wrap>414   </span>                  </td><td>&gt;30                                                          </td></tr>\n",
       "</tbody>\n",
       "</table>\n"
      ],
      "text/latex": [
       "\\begin{tabular}{r|llllllllllll}\n",
       " p\\_id & race & gender & age & admission.id & discharge & time & med.specialty & HbA1Cresult & change & primary.diag & readmit\\\\\n",
       "\\hline\n",
       "\t  8222157                 & Caucasian                & Female                   & {[}0-10)                 & 1                        & 25                       & 1                        & Pediatrics-Endocrinology & None                     & No                       & 250.83                   & NO                      \\\\\n",
       "\t 55629189                 & Caucasian                & Female                   & {[}10-20)                & 7                        &  1                       & 3                        & ?                        & None                     & Ch                       & 276                      & >30                     \\\\\n",
       "\t 86047875                 & AfricanAmerican          & Female                   & {[}20-30)                & 7                        &  1                       & 2                        & ?                        & None                     & No                       & 648                      & NO                      \\\\\n",
       "\t 82442376                 & Caucasian                & Male                     & {[}30-40)                & 7                        &  1                       & 2                        & ?                        & None                     & Ch                       & 8                        & NO                      \\\\\n",
       "\t 42519267                 & Caucasian                & Male                     & {[}40-50)                & 7                        &  1                       & 1                        & ?                        & None                     & Ch                       & 197                      & NO                      \\\\\n",
       "\t 82637451                 & Caucasian                & Male                     & {[}50-60)                & 2                        &  1                       & 3                        & ?                        & None                     & No                       & 414                      & >30                     \\\\\n",
       "\\end{tabular}\n"
      ],
      "text/markdown": [
       "\n",
       "p_id | race | gender | age | admission.id | discharge | time | med.specialty | HbA1Cresult | change | primary.diag | readmit | \n",
       "|---|---|---|---|---|---|\n",
       "|  8222157                 | Caucasian                | Female                   | [0-10)                   | 1                        | 25                       | 1                        | Pediatrics-Endocrinology | None                     | No                       | 250.83                   | NO                       | \n",
       "| 55629189                 | Caucasian                | Female                   | [10-20)                  | 7                        |  1                       | 3                        | ?                        | None                     | Ch                       | 276                      | >30                      | \n",
       "| 86047875                 | AfricanAmerican          | Female                   | [20-30)                  | 7                        |  1                       | 2                        | ?                        | None                     | No                       | 648                      | NO                       | \n",
       "| 82442376                 | Caucasian                | Male                     | [30-40)                  | 7                        |  1                       | 2                        | ?                        | None                     | Ch                       | 8                        | NO                       | \n",
       "| 42519267                 | Caucasian                | Male                     | [40-50)                  | 7                        |  1                       | 1                        | ?                        | None                     | Ch                       | 197                      | NO                       | \n",
       "| 82637451                 | Caucasian                | Male                     | [50-60)                  | 2                        |  1                       | 3                        | ?                        | None                     | No                       | 414                      | >30                      | \n",
       "\n",
       "\n"
      ],
      "text/plain": [
       "  p_id     race            gender age     admission.id discharge time\n",
       "1  8222157 Caucasian       Female [0-10)  1            25        1   \n",
       "2 55629189 Caucasian       Female [10-20) 7             1        3   \n",
       "3 86047875 AfricanAmerican Female [20-30) 7             1        2   \n",
       "4 82442376 Caucasian       Male   [30-40) 7             1        2   \n",
       "5 42519267 Caucasian       Male   [40-50) 7             1        1   \n",
       "6 82637451 Caucasian       Male   [50-60) 2             1        3   \n",
       "  med.specialty            HbA1Cresult change primary.diag readmit\n",
       "1 Pediatrics-Endocrinology None        No     250.83       NO     \n",
       "2 ?                        None        Ch     276          >30    \n",
       "3 ?                        None        No     648          NO     \n",
       "4 ?                        None        Ch     8            NO     \n",
       "5 ?                        None        Ch     197          NO     \n",
       "6 ?                        None        No     414          >30    "
      ]
     },
     "metadata": {},
     "output_type": "display_data"
    },
    {
     "name": "stdout",
     "output_type": "stream",
     "text": [
      "[1] 69973    12\n",
      "'data.frame':\t69973 obs. of  12 variables:\n",
      " $ p_id         : int  8222157 55629189 86047875 82442376 42519267 82637451 84259809 114882984 48330783 63555939 ...\n",
      " $ race         : Factor w/ 6 levels \"?\",\"AfricanAmerican\",..: 4 4 2 4 4 4 4 4 4 4 ...\n",
      " $ gender       : Factor w/ 3 levels \"Female\",\"Male\",..: 1 1 1 2 2 2 2 2 1 1 ...\n",
      " $ age          : Factor w/ 10 levels \"[0-10)\",\"[10-20)\",..: 1 2 3 4 5 6 7 8 9 10 ...\n",
      " $ admission.id : int  1 7 7 7 7 2 2 7 4 4 ...\n",
      " $ discharge    : int  25 1 1 1 1 1 1 1 1 3 ...\n",
      " $ time         : int  1 3 2 2 1 3 4 5 13 12 ...\n",
      " $ med.specialty: Factor w/ 73 levels \"?\",\"AllergyandImmunology\",..: 39 1 1 1 1 1 1 1 1 20 ...\n",
      " $ HbA1Cresult  : Factor w/ 4 levels \">7\",\">8\",\"None\",..: 3 3 3 3 3 3 3 3 3 3 ...\n",
      " $ change       : Factor w/ 2 levels \"Ch\",\"No\": 2 1 2 1 1 2 1 2 1 1 ...\n",
      " $ primary.diag : Factor w/ 717 levels \"?\",\"10\",\"11\",..: 126 145 456 556 56 265 265 278 254 284 ...\n",
      " $ readmit      : Factor w/ 3 levels \"<30\",\">30\",\"NO\": 3 2 3 3 3 2 3 2 3 3 ...\n"
     ]
    }
   ],
   "source": [
    "head(data)\n",
    "print(dim(data))\n",
    "str(data)"
   ]
  },
  {
   "cell_type": "code",
   "execution_count": 17,
   "metadata": {},
   "outputs": [
    {
     "data": {
      "text/plain": [
       "\n",
       "              ? AfricanAmerican           Asian       Caucasian        Hispanic \n",
       "           1918           12625             488           52292            1500 \n",
       "          Other \n",
       "           1150 "
      ]
     },
     "metadata": {},
     "output_type": "display_data"
    }
   ],
   "source": [
    "table(data$race)"
   ]
  },
  {
   "cell_type": "code",
   "execution_count": 18,
   "metadata": {},
   "outputs": [],
   "source": [
    "library(dplyr)\n",
    "\n",
    "data <- mutate(data,race = ifelse(race == '?','Missing',\n",
    "                                         ifelse(race == 'AfricanAmerican','African American',\n",
    "                                               ifelse(race == 'Caucasian','Caucasian',\n",
    "                                                     ifelse(race == 'Hispanic','Other',\n",
    "                                                           ifelse(race == 'Asian','Other',\n",
    "                                                                 ifelse(race == 'Other','Other','Other')))))))"
   ]
  },
  {
   "cell_type": "code",
   "execution_count": 19,
   "metadata": {},
   "outputs": [
    {
     "data": {
      "text/plain": [
       "\n",
       "African American        Caucasian          Missing            Other \n",
       "           12625            52292             1918             3138 "
      ]
     },
     "metadata": {},
     "output_type": "display_data"
    }
   ],
   "source": [
    "table(data$race)"
   ]
  },
  {
   "cell_type": "code",
   "execution_count": 20,
   "metadata": {},
   "outputs": [
    {
     "data": {
      "text/plain": [
       "\n",
       "  [0-10)  [10-20)  [20-30)  [30-40)  [40-50)  [50-60)  [60-70)  [70-80) \n",
       "     153      534     1121     2692     6828    12349    15684    17750 \n",
       " [80-90) [90-100) \n",
       "   11102     1760 "
      ]
     },
     "metadata": {},
     "output_type": "display_data"
    }
   ],
   "source": [
    "table(data$age)"
   ]
  },
  {
   "cell_type": "code",
   "execution_count": 21,
   "metadata": {},
   "outputs": [],
   "source": [
    "data <- mutate(data,age = ifelse(age == '[0-10)','<30',\n",
    "                                         ifelse(age == '[10-20)','<30',\n",
    "                                               ifelse(age == '[20-30)','<30',\n",
    "                                                     ifelse(age == '[30-40)','30-60',\n",
    "                                                           ifelse(age == '[40-50)','30-60',\n",
    "                                                                 ifelse(age == '[50-60)','30-60','>60')))))))"
   ]
  },
  {
   "cell_type": "code",
   "execution_count": 22,
   "metadata": {},
   "outputs": [
    {
     "data": {
      "text/plain": [
       "\n",
       "  <30   >60 30-60 \n",
       " 1808 46296 21869 "
      ]
     },
     "metadata": {},
     "output_type": "display_data"
    }
   ],
   "source": [
    "table(data$age)"
   ]
  },
  {
   "cell_type": "code",
   "execution_count": 23,
   "metadata": {},
   "outputs": [
    {
     "data": {
      "text/plain": [
       "\n",
       "         Female            Male Unknown/Invalid \n",
       "          37229           32741               3 "
      ]
     },
     "metadata": {},
     "output_type": "display_data"
    }
   ],
   "source": [
    "table(data$gender)"
   ]
  },
  {
   "cell_type": "code",
   "execution_count": 24,
   "metadata": {},
   "outputs": [],
   "source": [
    "data <- mutate(data,gender = ifelse(gender =='Unknown/Invalid','Female',\n",
    "                                           ifelse (gender == 'Female','Female',\n",
    "                                                  ifelse(gender == 'Male','Male','Male'))))"
   ]
  },
  {
   "cell_type": "code",
   "execution_count": 25,
   "metadata": {},
   "outputs": [
    {
     "data": {
      "text/plain": [
       "\n",
       "Female   Male \n",
       " 37232  32741 "
      ]
     },
     "metadata": {},
     "output_type": "display_data"
    }
   ],
   "source": [
    "table(data$gender)"
   ]
  },
  {
   "cell_type": "code",
   "execution_count": 26,
   "metadata": {},
   "outputs": [
    {
     "data": {
      "text/plain": [
       "\n",
       "    1     2     3     4     5     6     7     8     9    10    11    13    14 \n",
       "21746   908   136  2530   512  1785 37260    11    95     7     1     1     2 \n",
       "   17    20    22    25 \n",
       " 4820   153     4     2 "
      ]
     },
     "metadata": {},
     "output_type": "display_data"
    }
   ],
   "source": [
    "table(data$admission.id)"
   ]
  },
  {
   "cell_type": "code",
   "execution_count": 27,
   "metadata": {},
   "outputs": [],
   "source": [
    "data <- mutate(data,admission.id = ifelse(admission.id == 7,'Emergency room',\n",
    "                                                 ifelse(admission.id == 1,'physician/clinical referral',\n",
    "                                                       ifelse(admission.id == 2,'physician/clinical referral',\n",
    "                                                              ifelse(admission.id == 3,'physician/clinical referral',\n",
    "                                                                     'Otherwise')))))"
   ]
  },
  {
   "cell_type": "code",
   "execution_count": 28,
   "metadata": {},
   "outputs": [
    {
     "data": {
      "text/plain": [
       "\n",
       "             Emergency room                   Otherwise \n",
       "                      37260                        9923 \n",
       "physician/clinical referral \n",
       "                      22790 "
      ]
     },
     "metadata": {},
     "output_type": "display_data"
    }
   ],
   "source": [
    "table(data$admission.id)"
   ]
  },
  {
   "cell_type": "code",
   "execution_count": 29,
   "metadata": {},
   "outputs": [
    {
     "data": {
      "text/plain": [
       "\n",
       "    1     2     3     4     5     6     7     8     9    10    12    15    16 \n",
       "44317  1539  8784   541   913  8289   409    73     9     6     2    40     3 \n",
       "   17    18    22    23    24    25    27    28 \n",
       "    8  2474  1410   260    25   778     3    90 "
      ]
     },
     "metadata": {},
     "output_type": "display_data"
    }
   ],
   "source": [
    "table(data$discharge)"
   ]
  },
  {
   "cell_type": "code",
   "execution_count": 30,
   "metadata": {},
   "outputs": [],
   "source": [
    "data <- mutate(data,discharge = ifelse(discharge == 1,'home','Otherwise'))"
   ]
  },
  {
   "cell_type": "code",
   "execution_count": 31,
   "metadata": {},
   "outputs": [
    {
     "data": {
      "text/plain": [
       "\n",
       "     home Otherwise \n",
       "    44317     25656 "
      ]
     },
     "metadata": {},
     "output_type": "display_data"
    }
   ],
   "source": [
    "table(data$discharge)"
   ]
  },
  {
   "cell_type": "code",
   "execution_count": 32,
   "metadata": {},
   "outputs": [
    {
     "data": {
      "text/plain": [
       "\n",
       "                                   ?                 AllergyandImmunology \n",
       "                               33639                                    6 \n",
       "                      Anesthesiology             Anesthesiology-Pediatric \n",
       "                                   7                                   13 \n",
       "                          Cardiology                 Cardiology-Pediatric \n",
       "                                4207                                    7 \n",
       "                             DCPTEAM                            Dentistry \n",
       "                                   4                                    4 \n",
       "                         Dermatology                     Emergency/Trauma \n",
       "                                   1                                 4393 \n",
       "                       Endocrinology             Endocrinology-Metabolism \n",
       "                                  97                                    7 \n",
       "              Family/GeneralPractice                     Gastroenterology \n",
       "                                4978                                  383 \n",
       "                          Gynecology                           Hematology \n",
       "                                  54                                   31 \n",
       "                 Hematology/Oncology                          Hospitalist \n",
       "                                 109                                   36 \n",
       "                  InfectiousDiseases                     InternalMedicine \n",
       "                                  29                                10641 \n",
       "                          Nephrology                            Neurology \n",
       "                                 797                                  167 \n",
       "                     Neurophysiology Obsterics&Gynecology-GynecologicOnco \n",
       "                                   1                                   18 \n",
       "                          Obstetrics              ObstetricsandGynecology \n",
       "                                  17                                  593 \n",
       "                            Oncology                        Ophthalmology \n",
       "                                 205                                   35 \n",
       "                         Orthopedics           Orthopedics-Reconstructive \n",
       "                                1128                                 1041 \n",
       "                           Osteopath                       Otolaryngology \n",
       "                                  37                                  110 \n",
       "                    OutreachServices                            Pathology \n",
       "                                   9                                    6 \n",
       "                          Pediatrics      Pediatrics-AllergyandImmunology \n",
       "                                 195                                    0 \n",
       "             Pediatrics-CriticalCare         Pediatrics-EmergencyMedicine \n",
       "                                  73                                    3 \n",
       "            Pediatrics-Endocrinology       Pediatrics-Hematology-Oncology \n",
       "                                 147                                    3 \n",
       "       Pediatrics-InfectiousDiseases                 Pediatrics-Neurology \n",
       "                                   0                                    7 \n",
       "              Pediatrics-Pulmonology                         Perinatology \n",
       "                                   6                                    1 \n",
       "   PhysicalMedicineandRehabilitation                    PhysicianNotFound \n",
       "                                 194                                    7 \n",
       "                            Podiatry                           Proctology \n",
       "                                  63                                    1 \n",
       "                          Psychiatry                 Psychiatry-Addictive \n",
       "                                 613                                    1 \n",
       "         Psychiatry-Child/Adolescent                           Psychology \n",
       "                                   6                                   53 \n",
       "                         Pulmonology                          Radiologist \n",
       "                                 637                                  821 \n",
       "                           Radiology                             Resident \n",
       "                                  38                                    1 \n",
       "                        Rheumatology                               Speech \n",
       "                                  10                                    1 \n",
       "                      SportsMedicine                              Surgeon \n",
       "                                   1                                   40 \n",
       "              Surgery-Cardiovascular      Surgery-Cardiovascular/Thoracic \n",
       "                                  85                                  488 \n",
       "                Surgery-Colon&Rectal                      Surgery-General \n",
       "                                   9                                 2205 \n",
       "               Surgery-Maxillofacial                        Surgery-Neuro \n",
       "                                   8                                  404 \n",
       "                   Surgery-Pediatric                      Surgery-Plastic \n",
       "                                   6                                   29 \n",
       "    Surgery-PlasticwithinHeadandNeck                     Surgery-Thoracic \n",
       "                                   1                                   91 \n",
       "                    Surgery-Vascular                    SurgicalSpecialty \n",
       "                                 359                                   26 \n",
       "                             Urology \n",
       "                                 530 "
      ]
     },
     "metadata": {},
     "output_type": "display_data"
    }
   ],
   "source": [
    "table(data$med.specialty)"
   ]
  },
  {
   "cell_type": "code",
   "execution_count": 33,
   "metadata": {},
   "outputs": [],
   "source": [
    "data <- mutate(data,med.specialty = ifelse(grepl('^Intern',data$med.specialty),'InternalMedicine',\n",
    "                                          ifelse(grepl('^Cardio',data$med.specialty),'Cardiology',\n",
    "                                                ifelse(grepl('^Surgery',data$med.specialty),'Surgery',\n",
    "                                                      ifelse(grepl('^Family',data$med.specialty),\n",
    "                                                             'Family/general practice',\n",
    "                                                            ifelse(med.specialty == '?','Missing','Other'))))))"
   ]
  },
  {
   "cell_type": "code",
   "execution_count": 34,
   "metadata": {},
   "outputs": [
    {
     "data": {
      "text/plain": [
       "\n",
       "             Cardiology Family/general practice        InternalMedicine \n",
       "                   4214                    4978                   10641 \n",
       "                Missing                   Other                 Surgery \n",
       "                  33639                   12816                    3685 "
      ]
     },
     "metadata": {},
     "output_type": "display_data"
    }
   ],
   "source": [
    "table(data$med.specialty)"
   ]
  },
  {
   "cell_type": "code",
   "execution_count": 35,
   "metadata": {},
   "outputs": [
    {
     "data": {
      "text/plain": [
       "\n",
       "  <30   >30    NO \n",
       " 6277 22222 41474 "
      ]
     },
     "metadata": {},
     "output_type": "display_data"
    }
   ],
   "source": [
    "table(data$readmit)"
   ]
  },
  {
   "cell_type": "code",
   "execution_count": 36,
   "metadata": {},
   "outputs": [],
   "source": [
    "data <- mutate(data,readmit = ifelse(readmit == '<30','readmitted','otherwise'))"
   ]
  },
  {
   "cell_type": "code",
   "execution_count": 37,
   "metadata": {},
   "outputs": [
    {
     "data": {
      "text/plain": [
       "\n",
       " otherwise readmitted \n",
       "     63696       6277 "
      ]
     },
     "metadata": {},
     "output_type": "display_data"
    }
   ],
   "source": [
    "table(data$readmit)"
   ]
  },
  {
   "cell_type": "code",
   "execution_count": 38,
   "metadata": {},
   "outputs": [
    {
     "data": {
      "text/plain": [
       "\n",
       "   >7    >8  None  Norm \n",
       " 2865  6239 57128  3741 "
      ]
     },
     "metadata": {},
     "output_type": "display_data"
    }
   ],
   "source": [
    "table(data$HbA1Cresult)"
   ]
  },
  {
   "cell_type": "code",
   "execution_count": 39,
   "metadata": {},
   "outputs": [
    {
     "data": {
      "text/plain": [
       "\n",
       "   Ch    No \n",
       "31491 38482 "
      ]
     },
     "metadata": {},
     "output_type": "display_data"
    }
   ],
   "source": [
    "table(data$change)"
   ]
  },
  {
   "cell_type": "code",
   "execution_count": 40,
   "metadata": {},
   "outputs": [],
   "source": [
    "data <- mutate(data,HbA1Cresult = ifelse(HbA1Cresult == 'None','No Test',\n",
    "                                        ifelse(HbA1Cresult =='>8' & change == 'Ch','Result high and med changed',\n",
    "                                              ifelse(HbA1Cresult =='>8' & change =='No',\n",
    "                                                     'result high but med not changed',\n",
    "                                                    'Normal'))))"
   ]
  },
  {
   "cell_type": "code",
   "execution_count": 41,
   "metadata": {},
   "outputs": [
    {
     "data": {
      "text/plain": [
       "\n",
       "                        No Test                          Normal \n",
       "                          57128                            6606 \n",
       "    Result high and med changed result high but med not changed \n",
       "                           4058                            2181 "
      ]
     },
     "metadata": {},
     "output_type": "display_data"
    }
   ],
   "source": [
    "table(data$HbA1Cresult)"
   ]
  },
  {
   "cell_type": "code",
   "execution_count": 42,
   "metadata": {},
   "outputs": [
    {
     "data": {
      "text/plain": [
       "\n",
       "     ?     10     11    110    112    114    115    117    131    133    135 \n",
       "    10      1      8      2     45      1      2      7      1      1     18 \n",
       "   136    141    142    143    145    146    147    148    149    150    151 \n",
       "     4      5      4      1      1      2      2      1      2     23     43 \n",
       "   152    153    154    155    156    157    158    160    161    162    163 \n",
       "     9    250     76     33     12     76      8      1     10    265      6 \n",
       "   164    170    171    172    173    174    175    179    180    182    183 \n",
       "     2      2      9      3      2    123      4      3      6    100     24 \n",
       "   184    185    187    188    189    191    192    193    194    195    196 \n",
       "    10    155      2     80     95     34      3     23      2      2     20 \n",
       "   197    198    199    200    201    202    203    204    205    207    208 \n",
       "   179    148     11     11      5     74     23     15     19      1      2 \n",
       "   210    211    212    214    215    216    217    218    219    220    223 \n",
       "     7     92      7      6      5      1      1    116      1     39      6 \n",
       "   225    226    227    228    229     23    230    233    235    236    237 \n",
       "    41     18     41      5      1      0      9     27     23      2      6 \n",
       "   238    239    240    241    242    244    245    246    250 250.01 250.02 \n",
       "    39     23      3     52     17     11      3      2    200     51    523 \n",
       "250.03  250.1 250.11 250.12 250.13  250.2 250.21 250.22 250.23  250.3 250.31 \n",
       "   173    218    427    293    516     90      7    118     19     14      8 \n",
       "250.32 250.33  250.4 250.41 250.42 250.43  250.5 250.51 250.52 250.53  250.6 \n",
       "    14     13    190     66     53     12      4      1      3      2    631 \n",
       " 250.7  250.8 250.81 250.82 250.83  250.9 250.91 250.92 250.93    251    252 \n",
       "   522   1074    117    264     68      5      2     38     12     13     16 \n",
       "   253    255    261    262    263    266     27    271    272    273    274 \n",
       "    32     15      3      1      9      3      1      0      4      5     71 \n",
       "   275    276    277    278    279    280    281    282    283    284    285 \n",
       "    32   1180     21    357      0    207     12     18     15     35    211 \n",
       "   286    287    288    289    290    291    292    293    294    295    296 \n",
       "    33     59     47     14     60     71     73     32     76    275    634 \n",
       "   297    298    299      3    300    301    303    304    305    306    307 \n",
       "    11     45      1     10     55      4     45     26     20      6     19 \n",
       "   308    309     31    310    311    312    314    318    320    322    323 \n",
       "     2     24      2     12     43      9      1      1      6      2     10 \n",
       "   324    325    327    331    332    333    334    335    336    337    338 \n",
       "     2      1     20    133     35     20      1      6      2      7     10 \n",
       "    34    340    341    342    344    345    346    347    348    349     35 \n",
       "     4     25      4      5      5     70     65      1     87     25      9 \n",
       "   350    351    352    353    354    355    356    357    358    359     36 \n",
       "     8     26      2      6      6     13      3     14     12      7      2 \n",
       "   360    361    362    363    365    366    368    369    370    372    373 \n",
       "     2      5      7      1      1      1     11      2      3      0      0 \n",
       "   374    375    376    377    378    379     38    380    381    382    383 \n",
       "     3      1     10      2     14      4    998     17      1      3      7 \n",
       "   384    385    386    388    389     39    391    394    395    396    397 \n",
       "     2      2    116      4      0      2      1      9      5     23      4 \n",
       "   398    401    402    403    404    405     41    410    411    412    413 \n",
       "    65    250    306    310    152      3      5   2774    194      1     96 \n",
       "   414    415    416    417     42    420    421    422    423    424    425 \n",
       "  5209    304     43      2     29     48     20      2     42    141     63 \n",
       "   426    427    428    429    430    431    432    433    434    435    436 \n",
       "   241   2019   3876     19     19    108     52    608   1514    752    137 \n",
       "   437    438    440    441    442    443    444    445    446    447    448 \n",
       "    70     58    607     98     24     55    107      5     18     42      1 \n",
       "   451    452    453    454    455    456    457    458    459    461    462 \n",
       "    32      4    360      8     69     19      6    260     61     16     11 \n",
       "   463    464    465    466     47    470    471    473    474    475    477 \n",
       "     5      7     34    182     23      4      1     17      4     13      1 \n",
       "   478     48    480    481    482    483    485    486    487     49    490 \n",
       "    24      2     13     56    193      3     32   2362     81      5     64 \n",
       "   491    492    493    494    495    496      5    500    501    506    507 \n",
       "  1313     25    676     12      4     43      8      1      2      0    314 \n",
       "   508    510    511    512    513    514    515    516    518    519     52 \n",
       "     3     23    153     29     10     16     85     23    562     29      1 \n",
       "   521    522    523    524    526    527    528    529     53    530    531 \n",
       "     8     22      0      3      6     18     18      3     43    364    212 \n",
       "   532    533    534    535    536    537     54    540    541    542    543 \n",
       "   165     12     20    296     85     64     11    170      6      2      0 \n",
       "   550    551    552    553    555    556    557    558    560    562    564 \n",
       "    41      5    183    109     39     33    134    230    561    709     99 \n",
       "   565    566    567    568    569     57    570    571    572    573    574 \n",
       "     9     74     24     19    177      1      4    166    109     29    773 \n",
       "   575    576    577    578    579     58    580    581    582    583    584 \n",
       "   155     71    682    410      6      0      1     12      2      2    918 \n",
       "   585    586    588    590    591    592    593    594    595    596    598 \n",
       "    42     13      7    249     12    284     66     12     65     27      4 \n",
       "   599    600    601    602    603    604    605    607    608     61    610 \n",
       "   975    165     13      3      3     27      1     19     52      1      2 \n",
       "   611    614    615    616    617    618    619    620    621    622    623 \n",
       "    24     18      1     19     17    149      3     36     20      5      2 \n",
       "   625    626    627    632    633    634    637    640    641    642    643 \n",
       "    58     71     15      2      4      1      1      1      6     53      2 \n",
       "   644    645    646    647    648    649    652    653    654    655    656 \n",
       "    23      2      9      4    242      1     10      1     81      5     18 \n",
       "   657    658    659     66    660    661    663    664    665    669    671 \n",
       "     2     23     29      6     12     24      6     18      3      1      1 \n",
       "   674    680    681    682    683    684    685    686    690    691    692 \n",
       "     1     12     80   1463      2      1      5      6      1      1      5 \n",
       "   693    694    695    696    698      7     70    700    703    704    705 \n",
       "    12      6      8      2      0      2     28      1      1      1      5 \n",
       "   706    707    708    709    710    711    714    715    716    717    718 \n",
       "     2    156      7      3     17     54     27   1907     44      5     13 \n",
       "   719    720    721    722    723    724    725    726    727    728    729 \n",
       "    36      1    149    660     63    339      6     75     41     94     70 \n",
       "   730    731    732    733    734    735    736    737    738    745    746 \n",
       "   140      0      2    250      4      2     10      8     47      4      7 \n",
       "   747     75    751    753    756    759     78    780    781    782    783 \n",
       "     4      1      5      2     14      5      7   1409     78     63     16 \n",
       "   784    785    786    787    788    789     79    790    791    792    793 \n",
       "   108     68   3040    162     26    365     69     79      1      4      4 \n",
       "   794    795    796    797    799      8    800    801    802    803    804 \n",
       "    20      3      4      3     50    275      4     26     21      1      0 \n",
       "   805    806    807    808    810    812    813    814    815    816    817 \n",
       "   138      2     62     95      9    188     68      5      5      7      1 \n",
       "    82    820    821    822    823    824    825    826    827    831    832 \n",
       "     6    815    124     42    103    254     19      1      0      4      1 \n",
       "   833    834    835    836    837    838    839     84    840    842    843 \n",
       "     1      1      5      4      1      1      1      1     11      1      6 \n",
       "   844    845    846    847    848    850    851    852    853    854    860 \n",
       "    20      7      3      7      1     53     24     77     12      5     27 \n",
       "   861    862    863    864    865    866    867    868    870    871    873 \n",
       "    10      2      4      8      7      3     10      2      1      2     14 \n",
       "   875    878    879     88    880    881    882    883    885    886    890 \n",
       "     2      1      3      7      2      5      9      6      1      4      5 \n",
       "   891    892    893    895    897      9    903    904    906    911    913 \n",
       "     8      6      5      0      2     31      1      1      1      1      2 \n",
       "   914    915    916    917    919    920    921    922    923    924    928 \n",
       "     2      1      3      1      0     20      3     31      1     39      3 \n",
       "   933    934    935    936    939     94    941    942    944    945    952 \n",
       "    10      2      9      2      1      4      2      3      1     12      6 \n",
       "   955    957    958    959    962    963    964    965    966    967    968 \n",
       "     1      1     15     32     44      1      6     37      9      9      5 \n",
       "   969     97    970    971    972    973    974    975    976    977     98 \n",
       "    45      0      8      1     14      0      0      1      1     10      1 \n",
       "   980    982    983    986    987    988    989    990    991    992    994 \n",
       "     1      1      2      3      3      0     10      2      5      8      1 \n",
       "   995    996    997    998    999   E909    V07    V25    V26    V43    V45 \n",
       "    52   1106    249    451     17      1      0      1      2      1      5 \n",
       "   V51    V53    V54    V55    V56    V57    V58    V60    V63    V66    V67 \n",
       "     1     33     35     43     11    654    115      1      6      0      1 \n",
       "   V70    V71 \n",
       "     1      8 "
      ]
     },
     "metadata": {},
     "output_type": "display_data"
    }
   ],
   "source": [
    "table(data$primary.diag)"
   ]
  },
  {
   "cell_type": "code",
   "execution_count": 43,
   "metadata": {},
   "outputs": [],
   "source": [
    "data <- mutate(data,primary.diag = ifelse(grepl('^39|^40|^41|^42|^43|^44|^45|^785'\n",
    "                                            ,data$primary.diag),\n",
    "                                          'Circulatory system',\n",
    "                                        \n",
    "                                          ifelse(grepl('^250',data$primary.diag),'Diabetes',\n",
    "                                            \n",
    "                                            ifelse(grepl('^46|^47|^48|^49|^50|^51|^786'\n",
    "                                                ,data$primary.diag),\n",
    "                                                'Respiratory system',\n",
    "                                                            \n",
    "                                                ifelse(grepl('^52|^53|^54|^55|^56|^57|^787',\n",
    "                                                        data$primary.diag),\n",
    "                                                       'digestive system',\n",
    "                                                      \n",
    "                                                       ifelse(grepl('^80|^81|^82|^83|^84|^85|^86|^87|^88|\n",
    "                                                                ^89|^90|^91|^92|^93|^94|^95|^96|^97|^98|\n",
    "                                                                ^99',data$primary.diag),\n",
    "                                                              'Injury and poisoning',\n",
    "                                                           \n",
    "                                                              ifelse(grepl('^71|^72|^73',data$primary.diag),\n",
    "                                                                    'musculoskeletal and connective issue',\n",
    "                                                                        \n",
    "                                                                     ifelse(grepl('^58|^59|^60|^61|^62',\n",
    "                                                                        data$primary.diag),'genitourinary system',\n",
    "                                                                            \n",
    "                                                                        ifelse(grepl('^14|^15|^16|^17|^18|^19|\n",
    "                                                                                     ^20|^21|^22|^23',\n",
    "                                                                                     data$primary.diag),\n",
    "                                                                               'Neoplasms','Other')))))))))\n"
   ]
  },
  {
   "cell_type": "code",
   "execution_count": 44,
   "metadata": {},
   "outputs": [
    {
     "data": {
      "text/html": [
       "<ol class=list-inline>\n",
       "\t<li>'Diabetes'</li>\n",
       "\t<li>'Other'</li>\n",
       "\t<li>'Other'</li>\n",
       "\t<li>'Other'</li>\n",
       "\t<li>'Neoplasms'</li>\n",
       "\t<li>'Circulatory system'</li>\n",
       "</ol>\n"
      ],
      "text/latex": [
       "\\begin{enumerate*}\n",
       "\\item 'Diabetes'\n",
       "\\item 'Other'\n",
       "\\item 'Other'\n",
       "\\item 'Other'\n",
       "\\item 'Neoplasms'\n",
       "\\item 'Circulatory system'\n",
       "\\end{enumerate*}\n"
      ],
      "text/markdown": [
       "1. 'Diabetes'\n",
       "2. 'Other'\n",
       "3. 'Other'\n",
       "4. 'Other'\n",
       "5. 'Neoplasms'\n",
       "6. 'Circulatory system'\n",
       "\n",
       "\n"
      ],
      "text/plain": [
       "[1] \"Diabetes\"           \"Other\"              \"Other\"             \n",
       "[4] \"Other\"              \"Neoplasms\"          \"Circulatory system\""
      ]
     },
     "metadata": {},
     "output_type": "display_data"
    }
   ],
   "source": [
    "head(data$primary.diag)"
   ]
  },
  {
   "cell_type": "code",
   "execution_count": 45,
   "metadata": {},
   "outputs": [
    {
     "data": {
      "text/plain": [
       "\n",
       "                  Circulatory system                             Diabetes \n",
       "                               21420                                 5748 \n",
       "                    digestive system                 genitourinary system \n",
       "                                6543                                 3415 \n",
       "                Injury and poisoning musculoskeletal and connective issue \n",
       "                                2796                                 4064 \n",
       "                           Neoplasms                                Other \n",
       "                                2388                                14083 \n",
       "                  Respiratory system \n",
       "                                9516 "
      ]
     },
     "metadata": {},
     "output_type": "display_data"
    }
   ],
   "source": [
    "table(data$primary.diag)"
   ]
  },
  {
   "cell_type": "code",
   "execution_count": 46,
   "metadata": {},
   "outputs": [],
   "source": [
    "data$p_id <- NULL\n",
    "data$change <- NULL"
   ]
  },
  {
   "cell_type": "code",
   "execution_count": 47,
   "metadata": {},
   "outputs": [],
   "source": [
    "data <- mutate(data,readmit = ifelse(readmit =='otherwise',0,1))"
   ]
  },
  {
   "cell_type": "code",
   "execution_count": 48,
   "metadata": {},
   "outputs": [],
   "source": [
    "data$race <- as.factor(data$race)\n",
    "data$gender <- as.factor(data$gender)\n",
    "data$age <- as.factor(data$age)\n",
    "data$admission.id <- as.factor(data$admission.id)\n",
    "data$discharge <- as.factor(data$discharge)"
   ]
  },
  {
   "cell_type": "code",
   "execution_count": 49,
   "metadata": {},
   "outputs": [],
   "source": [
    "data$med.specialty <- as.factor(data$med.specialty)\n",
    "data$HbA1Cresult <- as.factor(data$HbA1Cresult)\n",
    "data$primary.diag <- as.factor(data$primary.diag)"
   ]
  },
  {
   "cell_type": "code",
   "execution_count": 50,
   "metadata": {},
   "outputs": [
    {
     "name": "stdout",
     "output_type": "stream",
     "text": [
      "'data.frame':\t69973 obs. of  10 variables:\n",
      " $ race         : Factor w/ 4 levels \"African American\",..: 2 2 1 2 2 2 2 2 2 2 ...\n",
      " $ gender       : Factor w/ 2 levels \"Female\",\"Male\": 1 1 1 2 2 2 2 2 1 1 ...\n",
      " $ age          : Factor w/ 3 levels \"<30\",\">60\",\"30-60\": 1 1 1 3 3 3 2 2 2 2 ...\n",
      " $ admission.id : Factor w/ 3 levels \"Emergency room\",..: 3 1 1 1 1 3 3 1 2 2 ...\n",
      " $ discharge    : Factor w/ 2 levels \"home\",\"Otherwise\": 2 1 1 1 1 1 1 1 1 2 ...\n",
      " $ time         : int  1 3 2 2 1 3 4 5 13 12 ...\n",
      " $ med.specialty: Factor w/ 6 levels \"Cardiology\",\"Family/general practice\",..: 5 4 4 4 4 4 4 4 4 3 ...\n",
      " $ HbA1Cresult  : Factor w/ 4 levels \"No Test\",\"Normal\",..: 1 1 1 1 1 1 1 1 1 1 ...\n",
      " $ primary.diag : Factor w/ 9 levels \"Circulatory system\",..: 2 8 8 8 7 1 1 1 1 1 ...\n",
      " $ readmit      : num  0 0 0 0 0 0 0 0 0 0 ...\n"
     ]
    }
   ],
   "source": [
    "str(data)"
   ]
  },
  {
   "cell_type": "code",
   "execution_count": 51,
   "metadata": {},
   "outputs": [
    {
     "data": {
      "text/html": [
       "<table>\n",
       "<thead><tr><th scope=col>race</th><th scope=col>gender</th><th scope=col>age</th><th scope=col>admission.id</th><th scope=col>discharge</th><th scope=col>time</th><th scope=col>med.specialty</th><th scope=col>HbA1Cresult</th><th scope=col>primary.diag</th><th scope=col>readmit</th></tr></thead>\n",
       "<tbody>\n",
       "\t<tr><td><span style=white-space:pre-wrap>Caucasian       </span>  </td><td>Female                                                    </td><td><span style=white-space:pre-wrap>&lt;30  </span>          </td><td>physician/clinical referral                               </td><td>Otherwise                                                 </td><td>1                                                         </td><td><span style=white-space:pre-wrap>Other  </span>           </td><td>No Test                                                   </td><td><span style=white-space:pre-wrap>Diabetes          </span></td><td>0                                                         </td></tr>\n",
       "\t<tr><td><span style=white-space:pre-wrap>Caucasian       </span>           </td><td>Female                                                             </td><td><span style=white-space:pre-wrap>&lt;30  </span>                   </td><td><span style=white-space:pre-wrap>Emergency room             </span></td><td><span style=white-space:pre-wrap>home     </span>                  </td><td>3                                                                  </td><td>Missing                                                            </td><td>No Test                                                            </td><td><span style=white-space:pre-wrap>Other             </span>         </td><td>0                                                                  </td></tr>\n",
       "\t<tr><td>African American                                                   </td><td>Female                                                             </td><td><span style=white-space:pre-wrap>&lt;30  </span>                   </td><td><span style=white-space:pre-wrap>Emergency room             </span></td><td><span style=white-space:pre-wrap>home     </span>                  </td><td>2                                                                  </td><td>Missing                                                            </td><td>No Test                                                            </td><td><span style=white-space:pre-wrap>Other             </span>         </td><td>0                                                                  </td></tr>\n",
       "\t<tr><td>Caucasian                  </td><td>Male                       </td><td>30-60                      </td><td>Emergency room             </td><td>home                       </td><td>2                          </td><td>Missing                    </td><td>No Test                    </td><td>Other                      </td><td>0                          </td></tr>\n",
       "\t<tr><td>Caucasian                  </td><td>Male                       </td><td>30-60                      </td><td>Emergency room             </td><td>home                       </td><td>1                          </td><td>Missing                    </td><td>No Test                    </td><td>Neoplasms                  </td><td>0                          </td></tr>\n",
       "\t<tr><td>Caucasian                  </td><td>Male                       </td><td>30-60                      </td><td>physician/clinical referral</td><td>home                       </td><td>3                          </td><td>Missing                    </td><td>No Test                    </td><td>Circulatory system         </td><td>0                          </td></tr>\n",
       "</tbody>\n",
       "</table>\n"
      ],
      "text/latex": [
       "\\begin{tabular}{r|llllllllll}\n",
       " race & gender & age & admission.id & discharge & time & med.specialty & HbA1Cresult & primary.diag & readmit\\\\\n",
       "\\hline\n",
       "\t Caucasian                   & Female                      & <30                         & physician/clinical referral & Otherwise                   & 1                           & Other                       & No Test                     & Diabetes                    & 0                          \\\\\n",
       "\t Caucasian                   & Female                      & <30                         & Emergency room              & home                        & 3                           & Missing                     & No Test                     & Other                       & 0                          \\\\\n",
       "\t African American            & Female                      & <30                         & Emergency room              & home                        & 2                           & Missing                     & No Test                     & Other                       & 0                          \\\\\n",
       "\t Caucasian                   & Male                        & 30-60                       & Emergency room              & home                        & 2                           & Missing                     & No Test                     & Other                       & 0                          \\\\\n",
       "\t Caucasian                   & Male                        & 30-60                       & Emergency room              & home                        & 1                           & Missing                     & No Test                     & Neoplasms                   & 0                          \\\\\n",
       "\t Caucasian                   & Male                        & 30-60                       & physician/clinical referral & home                        & 3                           & Missing                     & No Test                     & Circulatory system          & 0                          \\\\\n",
       "\\end{tabular}\n"
      ],
      "text/markdown": [
       "\n",
       "race | gender | age | admission.id | discharge | time | med.specialty | HbA1Cresult | primary.diag | readmit | \n",
       "|---|---|---|---|---|---|\n",
       "| Caucasian                   | Female                      | <30                         | physician/clinical referral | Otherwise                   | 1                           | Other                       | No Test                     | Diabetes                    | 0                           | \n",
       "| Caucasian                   | Female                      | <30                         | Emergency room              | home                        | 3                           | Missing                     | No Test                     | Other                       | 0                           | \n",
       "| African American            | Female                      | <30                         | Emergency room              | home                        | 2                           | Missing                     | No Test                     | Other                       | 0                           | \n",
       "| Caucasian                   | Male                        | 30-60                       | Emergency room              | home                        | 2                           | Missing                     | No Test                     | Other                       | 0                           | \n",
       "| Caucasian                   | Male                        | 30-60                       | Emergency room              | home                        | 1                           | Missing                     | No Test                     | Neoplasms                   | 0                           | \n",
       "| Caucasian                   | Male                        | 30-60                       | physician/clinical referral | home                        | 3                           | Missing                     | No Test                     | Circulatory system          | 0                           | \n",
       "\n",
       "\n"
      ],
      "text/plain": [
       "  race             gender age   admission.id                discharge time\n",
       "1 Caucasian        Female <30   physician/clinical referral Otherwise 1   \n",
       "2 Caucasian        Female <30   Emergency room              home      3   \n",
       "3 African American Female <30   Emergency room              home      2   \n",
       "4 Caucasian        Male   30-60 Emergency room              home      2   \n",
       "5 Caucasian        Male   30-60 Emergency room              home      1   \n",
       "6 Caucasian        Male   30-60 physician/clinical referral home      3   \n",
       "  med.specialty HbA1Cresult primary.diag       readmit\n",
       "1 Other         No Test     Diabetes           0      \n",
       "2 Missing       No Test     Other              0      \n",
       "3 Missing       No Test     Other              0      \n",
       "4 Missing       No Test     Other              0      \n",
       "5 Missing       No Test     Neoplasms          0      \n",
       "6 Missing       No Test     Circulatory system 0      "
      ]
     },
     "metadata": {},
     "output_type": "display_data"
    }
   ],
   "source": [
    "head(data)"
   ]
  },
  {
   "cell_type": "code",
   "execution_count": 52,
   "metadata": {},
   "outputs": [
    {
     "name": "stdout",
     "output_type": "stream",
     "text": [
      "'data.frame':\t69973 obs. of  10 variables:\n",
      " $ race         : Factor w/ 4 levels \"African American\",..: 2 2 1 2 2 2 2 2 2 2 ...\n",
      " $ gender       : Factor w/ 2 levels \"Female\",\"Male\": 1 1 1 2 2 2 2 2 1 1 ...\n",
      " $ age          : Factor w/ 3 levels \"<30\",\">60\",\"30-60\": 1 1 1 3 3 3 2 2 2 2 ...\n",
      " $ admission.id : Factor w/ 3 levels \"Emergency room\",..: 3 1 1 1 1 3 3 1 2 2 ...\n",
      " $ discharge    : Factor w/ 2 levels \"home\",\"Otherwise\": 2 1 1 1 1 1 1 1 1 2 ...\n",
      " $ time         : int  1 3 2 2 1 3 4 5 13 12 ...\n",
      " $ med.specialty: Factor w/ 6 levels \"Cardiology\",\"Family/general practice\",..: 5 4 4 4 4 4 4 4 4 3 ...\n",
      " $ HbA1Cresult  : Factor w/ 4 levels \"No Test\",\"Normal\",..: 1 1 1 1 1 1 1 1 1 1 ...\n",
      " $ primary.diag : Factor w/ 9 levels \"Circulatory system\",..: 2 8 8 8 7 1 1 1 1 1 ...\n",
      " $ readmit      : num  0 0 0 0 0 0 0 0 0 0 ...\n"
     ]
    }
   ],
   "source": [
    "str(data)"
   ]
  },
  {
   "cell_type": "code",
   "execution_count": 53,
   "metadata": {},
   "outputs": [
    {
     "data": {
      "text/html": [
       "<ol class=list-inline>\n",
       "\t<li>55978</li>\n",
       "\t<li>10</li>\n",
       "</ol>\n"
      ],
      "text/latex": [
       "\\begin{enumerate*}\n",
       "\\item 55978\n",
       "\\item 10\n",
       "\\end{enumerate*}\n"
      ],
      "text/markdown": [
       "1. 55978\n",
       "2. 10\n",
       "\n",
       "\n"
      ],
      "text/plain": [
       "[1] 55978    10"
      ]
     },
     "metadata": {},
     "output_type": "display_data"
    },
    {
     "data": {
      "text/html": [
       "<ol class=list-inline>\n",
       "\t<li>13995</li>\n",
       "\t<li>10</li>\n",
       "</ol>\n"
      ],
      "text/latex": [
       "\\begin{enumerate*}\n",
       "\\item 13995\n",
       "\\item 10\n",
       "\\end{enumerate*}\n"
      ],
      "text/markdown": [
       "1. 13995\n",
       "2. 10\n",
       "\n",
       "\n"
      ],
      "text/plain": [
       "[1] 13995    10"
      ]
     },
     "metadata": {},
     "output_type": "display_data"
    }
   ],
   "source": [
    "# Create Training and Test data -\n",
    "set.seed(100)  # setting seed to reproduce results of random sampling\n",
    "trainingRowIndex <- sample(1:nrow(data), 0.8*nrow(data))  # row indices for training data\n",
    "trainingData <- data[trainingRowIndex, ]  # model training data\n",
    "testData  <- data[-trainingRowIndex, ]   # test data\n",
    "\n",
    "dim(trainingData)\n",
    "dim(testData )"
   ]
  },
  {
   "cell_type": "code",
   "execution_count": 54,
   "metadata": {},
   "outputs": [
    {
     "data": {
      "text/plain": [
       "\n",
       "    0     1 \n",
       "50958  5020 "
      ]
     },
     "metadata": {},
     "output_type": "display_data"
    },
    {
     "data": {
      "image/png": "[encoded data removed]",
      "text/plain": [
       "Plot with title “Class distribution”"
      ]
     },
     "metadata": {},
     "output_type": "display_data"
    }
   ],
   "source": [
    "table(trainingData$readmit)\n",
    "barplot(prop.table(table(trainingData$readmit)),\n",
    "       col = rainbow(2),\n",
    "       ylim = c(0,1),\n",
    "       main = 'Class distribution')"
   ]
  },
  {
   "cell_type": "code",
   "execution_count": 55,
   "metadata": {},
   "outputs": [],
   "source": [
    "#install.packages('DMwR')\n",
    "#install.packages('ROSE')"
   ]
  },
  {
   "cell_type": "code",
   "execution_count": 56,
   "metadata": {},
   "outputs": [
    {
     "name": "stderr",
     "output_type": "stream",
     "text": [
      "Loaded ROSE 0.0-3\n",
      "\n"
     ]
    }
   ],
   "source": [
    "#simulating data\n",
    "library(ROSE)\n",
    "bal_data <- ROSE(readmit ~ ., data = trainingData,N = 70000, seed = 111)$data"
   ]
  },
  {
   "cell_type": "code",
   "execution_count": 57,
   "metadata": {},
   "outputs": [
    {
     "data": {
      "text/plain": [
       "\n",
       "Female   Male \n",
       " 37557  32443 "
      ]
     },
     "metadata": {},
     "output_type": "display_data"
    },
    {
     "data": {
      "text/plain": [
       "\n",
       "        0         1 \n",
       "0.5009286 0.4990714 "
      ]
     },
     "metadata": {},
     "output_type": "display_data"
    }
   ],
   "source": [
    "table(bal_data$gender)\n",
    "prop.table(table (bal_data$readmit))"
   ]
  },
  {
   "cell_type": "code",
   "execution_count": 58,
   "metadata": {},
   "outputs": [
    {
     "data": {
      "text/html": [
       "<table>\n",
       "<thead><tr><th scope=col>race</th><th scope=col>gender</th><th scope=col>age</th><th scope=col>admission.id</th><th scope=col>discharge</th><th scope=col>time</th><th scope=col>med.specialty</th><th scope=col>HbA1Cresult</th><th scope=col>primary.diag</th><th scope=col>readmit</th></tr></thead>\n",
       "<tbody>\n",
       "\t<tr><td><span style=white-space:pre-wrap>Missing         </span>                    </td><td><span style=white-space:pre-wrap>Male  </span>                              </td><td><span style=white-space:pre-wrap>&gt;60  </span>                            </td><td><span style=white-space:pre-wrap>Emergency room             </span>         </td><td>Otherwise                                                                   </td><td>6.473044                                                                    </td><td><span style=white-space:pre-wrap>Missing   </span>                          </td><td>Normal                                                                      </td><td><span style=white-space:pre-wrap>digestive system                    </span></td><td>0                                                                           </td></tr>\n",
       "\t<tr><td>Caucasian                           </td><td>Male                                </td><td>30-60                               </td><td>Otherwise                           </td><td>home                                </td><td>4.814880                            </td><td>Cardiology                          </td><td>No Test                             </td><td>Circulatory system                  </td><td>0                                   </td></tr>\n",
       "\t<tr><td>African American                                                            </td><td>Female                                                                      </td><td><span style=white-space:pre-wrap>&lt;30  </span>                            </td><td><span style=white-space:pre-wrap>Emergency room             </span>         </td><td><span style=white-space:pre-wrap>home     </span>                           </td><td>5.579572                                                                    </td><td><span style=white-space:pre-wrap>Missing   </span>                          </td><td>No Test                                                                     </td><td><span style=white-space:pre-wrap>Diabetes                            </span></td><td>0                                                                           </td></tr>\n",
       "\t<tr><td>African American                    </td><td>Female                              </td><td>30-60                               </td><td>Emergency room                      </td><td>Otherwise                           </td><td>1.086865                            </td><td>Missing                             </td><td>No Test                             </td><td>Injury and poisoning                </td><td>0                                   </td></tr>\n",
       "\t<tr><td><span style=white-space:pre-wrap>Caucasian       </span>                    </td><td>Female                                                                      </td><td><span style=white-space:pre-wrap>&gt;60  </span>                            </td><td><span style=white-space:pre-wrap>Emergency room             </span>         </td><td><span style=white-space:pre-wrap>home     </span>                           </td><td>9.724580                                                                    </td><td><span style=white-space:pre-wrap>Other     </span>                          </td><td>No Test                                                                     </td><td><span style=white-space:pre-wrap>Other                               </span></td><td>0                                                                           </td></tr>\n",
       "\t<tr><td><span style=white-space:pre-wrap>Caucasian       </span></td><td><span style=white-space:pre-wrap>Male  </span>          </td><td><span style=white-space:pre-wrap>&gt;60  </span>        </td><td>physician/clinical referral                             </td><td>Otherwise                                               </td><td>3.211601                                                </td><td><span style=white-space:pre-wrap>Missing   </span>      </td><td>No Test                                                 </td><td>musculoskeletal and connective issue                    </td><td>0                                                       </td></tr>\n",
       "</tbody>\n",
       "</table>\n"
      ],
      "text/latex": [
       "\\begin{tabular}{r|llllllllll}\n",
       " race & gender & age & admission.id & discharge & time & med.specialty & HbA1Cresult & primary.diag & readmit\\\\\n",
       "\\hline\n",
       "\t Missing                              & Male                                 & >60                                  & Emergency room                       & Otherwise                            & 6.473044                             & Missing                              & Normal                               & digestive system                     & 0                                   \\\\\n",
       "\t Caucasian                            & Male                                 & 30-60                                & Otherwise                            & home                                 & 4.814880                             & Cardiology                           & No Test                              & Circulatory system                   & 0                                   \\\\\n",
       "\t African American                     & Female                               & <30                                  & Emergency room                       & home                                 & 5.579572                             & Missing                              & No Test                              & Diabetes                             & 0                                   \\\\\n",
       "\t African American                     & Female                               & 30-60                                & Emergency room                       & Otherwise                            & 1.086865                             & Missing                              & No Test                              & Injury and poisoning                 & 0                                   \\\\\n",
       "\t Caucasian                            & Female                               & >60                                  & Emergency room                       & home                                 & 9.724580                             & Other                                & No Test                              & Other                                & 0                                   \\\\\n",
       "\t Caucasian                            & Male                                 & >60                                  & physician/clinical referral          & Otherwise                            & 3.211601                             & Missing                              & No Test                              & musculoskeletal and connective issue & 0                                   \\\\\n",
       "\\end{tabular}\n"
      ],
      "text/markdown": [
       "\n",
       "race | gender | age | admission.id | discharge | time | med.specialty | HbA1Cresult | primary.diag | readmit | \n",
       "|---|---|---|---|---|---|\n",
       "| Missing                              | Male                                 | >60                                  | Emergency room                       | Otherwise                            | 6.473044                             | Missing                              | Normal                               | digestive system                     | 0                                    | \n",
       "| Caucasian                            | Male                                 | 30-60                                | Otherwise                            | home                                 | 4.814880                             | Cardiology                           | No Test                              | Circulatory system                   | 0                                    | \n",
       "| African American                     | Female                               | <30                                  | Emergency room                       | home                                 | 5.579572                             | Missing                              | No Test                              | Diabetes                             | 0                                    | \n",
       "| African American                     | Female                               | 30-60                                | Emergency room                       | Otherwise                            | 1.086865                             | Missing                              | No Test                              | Injury and poisoning                 | 0                                    | \n",
       "| Caucasian                            | Female                               | >60                                  | Emergency room                       | home                                 | 9.724580                             | Other                                | No Test                              | Other                                | 0                                    | \n",
       "| Caucasian                            | Male                                 | >60                                  | physician/clinical referral          | Otherwise                            | 3.211601                             | Missing                              | No Test                              | musculoskeletal and connective issue | 0                                    | \n",
       "\n",
       "\n"
      ],
      "text/plain": [
       "  race             gender age   admission.id                discharge time    \n",
       "1 Missing          Male   >60   Emergency room              Otherwise 6.473044\n",
       "2 Caucasian        Male   30-60 Otherwise                   home      4.814880\n",
       "3 African American Female <30   Emergency room              home      5.579572\n",
       "4 African American Female 30-60 Emergency room              Otherwise 1.086865\n",
       "5 Caucasian        Female >60   Emergency room              home      9.724580\n",
       "6 Caucasian        Male   >60   physician/clinical referral Otherwise 3.211601\n",
       "  med.specialty HbA1Cresult primary.diag                         readmit\n",
       "1 Missing       Normal      digestive system                     0      \n",
       "2 Cardiology    No Test     Circulatory system                   0      \n",
       "3 Missing       No Test     Diabetes                             0      \n",
       "4 Missing       No Test     Injury and poisoning                 0      \n",
       "5 Other         No Test     Other                                0      \n",
       "6 Missing       No Test     musculoskeletal and connective issue 0      "
      ]
     },
     "metadata": {},
     "output_type": "display_data"
    },
    {
     "data": {
      "text/html": [
       "<ol class=list-inline>\n",
       "\t<li>70000</li>\n",
       "\t<li>10</li>\n",
       "</ol>\n"
      ],
      "text/latex": [
       "\\begin{enumerate*}\n",
       "\\item 70000\n",
       "\\item 10\n",
       "\\end{enumerate*}\n"
      ],
      "text/markdown": [
       "1. 70000\n",
       "2. 10\n",
       "\n",
       "\n"
      ],
      "text/plain": [
       "[1] 70000    10"
      ]
     },
     "metadata": {},
     "output_type": "display_data"
    },
    {
     "name": "stdout",
     "output_type": "stream",
     "text": [
      "'data.frame':\t70000 obs. of  10 variables:\n",
      " $ race         : Factor w/ 4 levels \"African American\",..: 3 2 1 1 2 2 2 2 1 2 ...\n",
      " $ gender       : Factor w/ 2 levels \"Female\",\"Male\": 2 2 1 1 1 2 1 1 2 1 ...\n",
      " $ age          : Factor w/ 3 levels \"<30\",\">60\",\"30-60\": 2 3 1 3 2 2 2 3 3 2 ...\n",
      " $ admission.id : Factor w/ 3 levels \"Emergency room\",..: 1 2 1 1 1 3 1 2 1 3 ...\n",
      " $ discharge    : Factor w/ 2 levels \"home\",\"Otherwise\": 2 1 1 2 1 2 2 1 2 2 ...\n",
      " $ time         : num  6.47 4.81 5.58 1.09 9.72 ...\n",
      " $ med.specialty: Factor w/ 6 levels \"Cardiology\",\"Family/general practice\",..: 4 1 4 4 5 4 4 4 4 4 ...\n",
      " $ HbA1Cresult  : Factor w/ 4 levels \"No Test\",\"Normal\",..: 2 1 1 1 1 1 1 1 1 1 ...\n",
      " $ primary.diag : Factor w/ 9 levels \"Circulatory system\",..: 3 1 2 5 8 6 9 1 9 9 ...\n",
      " $ readmit      : num  0 0 0 0 0 0 0 0 0 0 ...\n"
     ]
    }
   ],
   "source": [
    "head(bal_data)\n",
    "dim(bal_data)\n",
    "str(bal_data)"
   ]
  },
  {
   "cell_type": "code",
   "execution_count": 59,
   "metadata": {},
   "outputs": [],
   "source": [
    "logitMod <- glm(readmit ~., \n",
    "                data=bal_data, \n",
    "                family=binomial(link=\"logit\"))"
   ]
  },
  {
   "cell_type": "code",
   "execution_count": 60,
   "metadata": {},
   "outputs": [],
   "source": [
    "# #install.packages('gridExtra')\n",
    "# library(gridExtra)\n",
    "# a <- summary(logitMod)\n",
    "# pdf('summary.pdf',a,height = 11,width = 8.5)\n",
    "# dev.off()"
   ]
  },
  {
   "cell_type": "code",
   "execution_count": 61,
   "metadata": {},
   "outputs": [
    {
     "data": {
      "text/plain": [
       "\n",
       "Call:\n",
       "glm(formula = readmit ~ ., family = binomial(link = \"logit\"), \n",
       "    data = bal_data)\n",
       "\n",
       "Deviance Residuals: \n",
       "    Min       1Q   Median       3Q      Max  \n",
       "-1.5996  -1.1171  -0.8321   1.1532   1.6405  \n",
       "\n",
       "Coefficients:\n",
       "                                                  Estimate Std. Error z value\n",
       "(Intercept)                                      -0.618849   0.067201  -9.209\n",
       "raceCaucasian                                    -0.002521   0.020758  -0.121\n",
       "raceMissing                                      -0.224159   0.052320  -4.284\n",
       "raceOther                                        -0.026406   0.041462  -0.637\n",
       "genderMale                                        0.041922   0.015618   2.684\n",
       "age>60                                            0.267550   0.055454   4.825\n",
       "age30-60                                          0.073318   0.055499   1.321\n",
       "admission.idOtherwise                            -0.113744   0.023679  -4.804\n",
       "admission.idphysician/clinical referral           0.009105   0.018518   0.492\n",
       "dischargeOtherwise                                0.538469   0.017129  31.436\n",
       "time                                              0.030896   0.002704  11.427\n",
       "med.specialtyFamily/general practice              0.274159   0.044451   6.168\n",
       "med.specialtyInternalMedicine                     0.291976   0.039621   7.369\n",
       "med.specialtyMissing                              0.183251   0.036081   5.079\n",
       "med.specialtyOther                                0.082887   0.039372   2.105\n",
       "med.specialtySurgery                             -0.095910   0.048957  -1.959\n",
       "HbA1CresultNormal                                -0.142973   0.027289  -5.239\n",
       "HbA1CresultResult high and med changed           -0.085605   0.034029  -2.516\n",
       "HbA1Cresultresult high but med not changed       -0.111448   0.046965  -2.373\n",
       "primary.diagDiabetes                             -0.006364   0.031714  -0.201\n",
       "primary.diagdigestive system                     -0.171873   0.029674  -5.792\n",
       "primary.diaggenitourinary system                 -0.166844   0.037881  -4.404\n",
       "primary.diagInjury and poisoning                 -0.035634   0.039875  -0.894\n",
       "primary.diagmusculoskeletal and connective issue -0.271494   0.037559  -7.229\n",
       "primary.diagNeoplasms                            -0.169961   0.044786  -3.795\n",
       "primary.diagOther                                -0.108956   0.022450  -4.853\n",
       "primary.diagRespiratory system                   -0.287297   0.026100 -11.008\n",
       "                                                 Pr(>|z|)    \n",
       "(Intercept)                                       < 2e-16 ***\n",
       "raceCaucasian                                    0.903351    \n",
       "raceMissing                                      1.83e-05 ***\n",
       "raceOther                                        0.524213    \n",
       "genderMale                                       0.007271 ** \n",
       "age>60                                           1.40e-06 ***\n",
       "age30-60                                         0.186479    \n",
       "admission.idOtherwise                            1.56e-06 ***\n",
       "admission.idphysician/clinical referral          0.622922    \n",
       "dischargeOtherwise                                < 2e-16 ***\n",
       "time                                              < 2e-16 ***\n",
       "med.specialtyFamily/general practice             6.93e-10 ***\n",
       "med.specialtyInternalMedicine                    1.71e-13 ***\n",
       "med.specialtyMissing                             3.80e-07 ***\n",
       "med.specialtyOther                               0.035274 *  \n",
       "med.specialtySurgery                             0.050104 .  \n",
       "HbA1CresultNormal                                1.61e-07 ***\n",
       "HbA1CresultResult high and med changed           0.011881 *  \n",
       "HbA1Cresultresult high but med not changed       0.017646 *  \n",
       "primary.diagDiabetes                             0.840970    \n",
       "primary.diagdigestive system                     6.96e-09 ***\n",
       "primary.diaggenitourinary system                 1.06e-05 ***\n",
       "primary.diagInjury and poisoning                 0.371518    \n",
       "primary.diagmusculoskeletal and connective issue 4.88e-13 ***\n",
       "primary.diagNeoplasms                            0.000148 ***\n",
       "primary.diagOther                                1.21e-06 ***\n",
       "primary.diagRespiratory system                    < 2e-16 ***\n",
       "---\n",
       "Signif. codes:  0 ‘***’ 0.001 ‘**’ 0.01 ‘*’ 0.05 ‘.’ 0.1 ‘ ’ 1\n",
       "\n",
       "(Dispersion parameter for binomial family taken to be 1)\n",
       "\n",
       "    Null deviance: 97040  on 69999  degrees of freedom\n",
       "Residual deviance: 94656  on 69973  degrees of freedom\n",
       "AIC: 94710\n",
       "\n",
       "Number of Fisher Scoring iterations: 4\n"
      ]
     },
     "metadata": {},
     "output_type": "display_data"
    }
   ],
   "source": [
    "sink('summary.txt')\n",
    "summary(logitMod)\n",
    "sink()"
   ]
  },
  {
   "cell_type": "code",
   "execution_count": 62,
   "metadata": {},
   "outputs": [
    {
     "name": "stdout",
     "output_type": "stream",
     "text": [
      "\n",
      "Call:\n",
      "glm(formula = readmit ~ ., family = binomial(link = \"logit\"), \n",
      "    data = bal_data)\n",
      "\n",
      "Deviance Residuals: \n",
      "    Min       1Q   Median       3Q      Max  \n",
      "-1.5996  -1.1171  -0.8321   1.1532   1.6405  \n",
      "\n",
      "Coefficients:\n",
      "                                                  Estimate Std. Error z value\n",
      "(Intercept)                                      -0.618849   0.067201  -9.209\n",
      "raceCaucasian                                    -0.002521   0.020758  -0.121\n",
      "raceMissing                                      -0.224159   0.052320  -4.284\n",
      "raceOther                                        -0.026406   0.041462  -0.637\n",
      "genderMale                                        0.041922   0.015618   2.684\n",
      "age>60                                            0.267550   0.055454   4.825\n",
      "age30-60                                          0.073318   0.055499   1.321\n",
      "admission.idOtherwise                            -0.113744   0.023679  -4.804\n",
      "admission.idphysician/clinical referral           0.009105   0.018518   0.492\n",
      "dischargeOtherwise                                0.538469   0.017129  31.436\n",
      "time                                              0.030896   0.002704  11.427\n",
      "med.specialtyFamily/general practice              0.274159   0.044451   6.168\n",
      "med.specialtyInternalMedicine                     0.291976   0.039621   7.369\n",
      "med.specialtyMissing                              0.183251   0.036081   5.079\n",
      "med.specialtyOther                                0.082887   0.039372   2.105\n",
      "med.specialtySurgery                             -0.095910   0.048957  -1.959\n",
      "HbA1CresultNormal                                -0.142973   0.027289  -5.239\n",
      "HbA1CresultResult high and med changed           -0.085605   0.034029  -2.516\n",
      "HbA1Cresultresult high but med not changed       -0.111448   0.046965  -2.373\n",
      "primary.diagDiabetes                             -0.006364   0.031714  -0.201\n",
      "primary.diagdigestive system                     -0.171873   0.029674  -5.792\n",
      "primary.diaggenitourinary system                 -0.166844   0.037881  -4.404\n",
      "primary.diagInjury and poisoning                 -0.035634   0.039875  -0.894\n",
      "primary.diagmusculoskeletal and connective issue -0.271494   0.037559  -7.229\n",
      "primary.diagNeoplasms                            -0.169961   0.044786  -3.795\n",
      "primary.diagOther                                -0.108956   0.022450  -4.853\n",
      "primary.diagRespiratory system                   -0.287297   0.026100 -11.008\n",
      "                                                 Pr(>|z|)    \n",
      "(Intercept)                                       < 2e-16 ***\n",
      "raceCaucasian                                    0.903351    \n",
      "raceMissing                                      1.83e-05 ***\n",
      "raceOther                                        0.524213    \n",
      "genderMale                                       0.007271 ** \n",
      "age>60                                           1.40e-06 ***\n",
      "age30-60                                         0.186479    \n",
      "admission.idOtherwise                            1.56e-06 ***\n",
      "admission.idphysician/clinical referral          0.622922    \n",
      "dischargeOtherwise                                < 2e-16 ***\n",
      "time                                              < 2e-16 ***\n",
      "med.specialtyFamily/general practice             6.93e-10 ***\n",
      "med.specialtyInternalMedicine                    1.71e-13 ***\n",
      "med.specialtyMissing                             3.80e-07 ***\n",
      "med.specialtyOther                               0.035274 *  \n",
      "med.specialtySurgery                             0.050104 .  \n",
      "HbA1CresultNormal                                1.61e-07 ***\n",
      "HbA1CresultResult high and med changed           0.011881 *  \n",
      "HbA1Cresultresult high but med not changed       0.017646 *  \n",
      "primary.diagDiabetes                             0.840970    \n",
      "primary.diagdigestive system                     6.96e-09 ***\n",
      "primary.diaggenitourinary system                 1.06e-05 ***\n",
      "primary.diagInjury and poisoning                 0.371518    \n",
      "primary.diagmusculoskeletal and connective issue 4.88e-13 ***\n",
      "primary.diagNeoplasms                            0.000148 ***\n",
      "primary.diagOther                                1.21e-06 ***\n",
      "primary.diagRespiratory system                    < 2e-16 ***\n",
      "---\n",
      "Signif. codes:  0 ‘***’ 0.001 ‘**’ 0.01 ‘*’ 0.05 ‘.’ 0.1 ‘ ’ 1\n",
      "\n",
      "(Dispersion parameter for binomial family taken to be 1)\n",
      "\n",
      "    Null deviance: 97040  on 69999  degrees of freedom\n",
      "Residual deviance: 94656  on 69973  degrees of freedom\n",
      "AIC: 94710\n",
      "\n",
      "Number of Fisher Scoring iterations: 4\n",
      "\n"
     ]
    }
   ],
   "source": [
    "print(summary(logitMod))"
   ]
  },
  {
   "cell_type": "code",
   "execution_count": 63,
   "metadata": {},
   "outputs": [
    {
     "data": {
      "text/html": [
       "<dl class=dl-horizontal>\n",
       "\t<dt>4</dt>\n",
       "\t\t<dd>0.408530803994755</dd>\n",
       "\t<dt>5</dt>\n",
       "\t\t<dd>0.386524919359274</dd>\n",
       "\t<dt>8</dt>\n",
       "\t\t<dd>0.506458379968264</dd>\n",
       "\t<dt>13</dt>\n",
       "\t\t<dd>0.617948681747126</dd>\n",
       "\t<dt>15</dt>\n",
       "\t\t<dd>0.397631611659578</dd>\n",
       "\t<dt>20</dt>\n",
       "\t\t<dd>0.527764793577567</dd>\n",
       "</dl>\n"
      ],
      "text/latex": [
       "\\begin{description*}\n",
       "\\item[4] 0.408530803994755\n",
       "\\item[5] 0.386524919359274\n",
       "\\item[8] 0.506458379968264\n",
       "\\item[13] 0.617948681747126\n",
       "\\item[15] 0.397631611659578\n",
       "\\item[20] 0.527764793577567\n",
       "\\end{description*}\n"
      ],
      "text/markdown": [
       "4\n",
       ":   0.4085308039947555\n",
       ":   0.3865249193592748\n",
       ":   0.50645837996826413\n",
       ":   0.61794868174712615\n",
       ":   0.39763161165957820\n",
       ":   0.527764793577567\n",
       "\n"
      ],
      "text/plain": [
       "        4         5         8        13        15        20 \n",
       "0.4085308 0.3865249 0.5064584 0.6179487 0.3976316 0.5277648 "
      ]
     },
     "metadata": {},
     "output_type": "display_data"
    }
   ],
   "source": [
    "predicted <- predict(logitMod, testData, type=\"response\")\n",
    "head(predicted)"
   ]
  },
  {
   "cell_type": "code",
   "execution_count": 64,
   "metadata": {},
   "outputs": [
    {
     "data": {
      "text/plain": [
       "\n",
       "    0     1 \n",
       "12738  1257 "
      ]
     },
     "metadata": {},
     "output_type": "display_data"
    }
   ],
   "source": [
    "table(testData$readmit)"
   ]
  },
  {
   "cell_type": "code",
   "execution_count": 65,
   "metadata": {},
   "outputs": [
    {
     "data": {
      "text/plain": [
       "\n",
       "FALSE  TRUE \n",
       " 8601  5394 "
      ]
     },
     "metadata": {},
     "output_type": "display_data"
    }
   ],
   "source": [
    "table(predicted>0.5)"
   ]
  },
  {
   "cell_type": "code",
   "execution_count": 66,
   "metadata": {},
   "outputs": [
    {
     "data": {
      "text/plain": [
       "   \n",
       "    FALSE TRUE\n",
       "  0  8034 4704\n",
       "  1   567  690"
      ]
     },
     "metadata": {},
     "output_type": "display_data"
    }
   ],
   "source": [
    "table(testData$readmit,predicted>0.5)"
   ]
  },
  {
   "cell_type": "code",
   "execution_count": 67,
   "metadata": {},
   "outputs": [
    {
     "name": "stderr",
     "output_type": "stream",
     "text": [
      "\n",
      "Attaching package: ‘MLmetrics’\n",
      "\n",
      "The following object is masked from ‘package:base’:\n",
      "\n",
      "    Recall\n",
      "\n"
     ]
    },
    {
     "data": {
      "text/html": [
       "0.623365487674169"
      ],
      "text/latex": [
       "0.623365487674169"
      ],
      "text/markdown": [
       "0.623365487674169"
      ],
      "text/plain": [
       "[1] 0.6233655"
      ]
     },
     "metadata": {},
     "output_type": "display_data"
    }
   ],
   "source": [
    "library(MLmetrics)\n",
    "\n",
    "Accuracy(testData$readmit,predicted>0.5)"
   ]
  },
  {
   "cell_type": "code",
   "execution_count": 68,
   "metadata": {},
   "outputs": [
    {
     "data": {
      "image/png": "[encoded data removed]",
      "text/plain": [
       "plot without title"
      ]
     },
     "metadata": {},
     "output_type": "display_data"
    }
   ],
   "source": [
    "library(InformationValue)\n",
    "plotROC(testData$readmit, predicted)"
   ]
  },
  {
   "cell_type": "code",
   "execution_count": null,
   "metadata": {},
   "outputs": [],
   "source": []
  }
 ],
 "metadata": {
  "kernelspec": {
   "display_name": "R",
   "language": "R",
   "name": "ir"
  },
  "language_info": {
   "codemirror_mode": "r",
   "file_extension": ".r",
   "mimetype": "text/x-r-source",
   "name": "R",
   "pygments_lexer": "r",
   "version": "3.5.1"
  }
 },
 "nbformat": 4,
 "nbformat_minor": 2
}
